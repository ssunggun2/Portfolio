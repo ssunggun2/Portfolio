{
  "nbformat": 4,
  "nbformat_minor": 0,
  "metadata": {
    "colab": {
      "name": "파인튜닝방법",
      "provenance": [],
      "authorship_tag": "ABX9TyMonilxINj7+U4ybqq7UWS1",
      "include_colab_link": true
    },
    "kernelspec": {
      "name": "python3",
      "display_name": "Python 3"
    },
    "language_info": {
      "name": "python"
    }
  },
  "cells": [
    {
      "cell_type": "markdown",
      "metadata": {
        "id": "view-in-github",
        "colab_type": "text"
      },
      "source": [
        "<a href=\"https://colab.research.google.com/github/ssunggun2/Portfolio/blob/main/NER/%ED%8C%8C%EC%9D%B8%ED%8A%9C%EB%8B%9D%EB%B0%A9%EB%B2%95.ipynb\" target=\"_parent\"><img src=\"https://colab.research.google.com/assets/colab-badge.svg\" alt=\"Open In Colab\"/></a>"
      ]
    },
    {
      "cell_type": "code",
      "execution_count": null,
      "metadata": {
        "colab": {
          "base_uri": "https://localhost:8080/",
          "height": 137
        },
        "id": "zihey3P0GjHz",
        "outputId": "b92da3bb-4db7-4aad-b9b6-3286701efc23"
      },
      "outputs": [
        {
          "output_type": "error",
          "ename": "SyntaxError",
          "evalue": "ignored",
          "traceback": [
            "\u001b[0;36m  File \u001b[0;32m\"<ipython-input-3-6296ddbe33d0>\"\u001b[0;36m, line \u001b[0;32m1\u001b[0m\n\u001b[0;31m    from bert tokenization import Full Tokenizer\u001b[0m\n\u001b[0m                         ^\u001b[0m\n\u001b[0;31mSyntaxError\u001b[0m\u001b[0;31m:\u001b[0m invalid syntax\n"
          ]
        }
      ],
      "source": [
        "from bert tokenization import Full Tokenizer"
      ]
    },
    {
      "cell_type": "code",
      "source": [
        "# 어캐 해야하지?"
      ],
      "metadata": {
        "id": "GFXU8IUaG7-_"
      },
      "execution_count": null,
      "outputs": []
    }
  ]
}