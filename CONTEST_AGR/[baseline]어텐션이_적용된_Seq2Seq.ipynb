{
  "nbformat": 4,
  "nbformat_minor": 0,
  "metadata": {
    "kernelspec": {
      "name": "python3",
      "display_name": "Python 3"
    },
    "colab": {
      "name": "[baseline]어텐션이_적용된 Seq2Seq.ipynb",
      "provenance": [],
      "collapsed_sections": [],
      "toc_visible": true
    },
    "language_info": {
      "name": "python"
    },
    "accelerator": "GPU"
  },
  "cells": [
    {
      "cell_type": "markdown",
      "metadata": {
        "id": "pPAKTTM_vW7f"
      },
      "source": [
        "baseline.csv<br>\n",
        ".. ├ models<br>\n",
        ".. └ data<br>\n",
        ".... ├ public_data<br>\n",
        ".... │ .. ├ train_AT_TSALET_ALL<br>\n",
        ".... │ .. ├ test_AT_TSALET_ALL<br>\n",
        ".... │ .. ├ test_files<br>\n",
        ".... │ .. └ train.csv<br>\n",
        ".... ├ prviate_data<br>\n",
        ".... │ .. ├ AT_TSALET_ALL<br>\n",
        ".... │ .. ├ private_data<br>\n",
        ".... └ sample_submission.csv<br>"
      ]
    },
    {
      "cell_type": "markdown",
      "metadata": {
        "id": "jlDvRMk6vW7h"
      },
      "source": [
        "## 사용 패키지"
      ]
    },
    {
      "cell_type": "code",
      "metadata": {
        "id": "2j6xu6djzQjr",
        "colab": {
          "base_uri": "https://localhost:8080/"
        },
        "outputId": "a7bf3d08-5f8b-49c6-db92-1bbe58407be7"
      },
      "source": [
        "from google.colab import drive\n",
        "drive.mount('/content/drive')"
      ],
      "execution_count": null,
      "outputs": [
        {
          "output_type": "stream",
          "name": "stdout",
          "text": [
            "Mounted at /content/drive\n"
          ]
        }
      ]
    },
    {
      "cell_type": "code",
      "metadata": {
        "id": "XQRN8cHYvW7i"
      },
      "source": [
        "import pandas as pd\n",
        "import numpy as np\n",
        "import matplotlib.pyplot as plt\n",
        "from tqdm import tqdm\n",
        "import random\n",
        "import os\n",
        "\n",
        "import torch\n",
        "from torch import nn\n",
        "from torch.utils.data import Dataset, DataLoader"
      ],
      "execution_count": null,
      "outputs": []
    },
    {
      "cell_type": "markdown",
      "metadata": {
        "id": "0krNjCT9vW7j"
      },
      "source": [
        "## 재현을 위한 랜덤시드 고정"
      ]
    },
    {
      "cell_type": "code",
      "metadata": {
        "id": "zPmAhRHOvW7j"
      },
      "source": [
        "def seed_everything(seed: int = 42):\n",
        "    random.seed(seed)\n",
        "    np.random.seed(seed)\n",
        "    os.environ[\"PYTHONHASHSEED\"] = str(seed)\n",
        "    torch.manual_seed(seed)\n",
        "    torch.cuda.manual_seed(seed)  # type: ignore\n",
        "    torch.backends.cudnn.deterministic = True  # type: ignore\n",
        "    torch.backends.cudnn.benchmark = True  # type: ignore"
      ],
      "execution_count": null,
      "outputs": []
    },
    {
      "cell_type": "code",
      "metadata": {
        "id": "iMPpvtNhvW7k"
      },
      "source": [
        "seed_everything(42)"
      ],
      "execution_count": null,
      "outputs": []
    },
    {
      "cell_type": "markdown",
      "metadata": {
        "id": "VFflOzePvW7k"
      },
      "source": [
        "## 데이터 로드"
      ]
    },
    {
      "cell_type": "code",
      "metadata": {
        "id": "JMFhAN9HvW7l"
      },
      "source": [
        "data = pd.read_csv('/content/drive/MyDrive/Colab Notebooks/Data/Dacon_data/public_data/train.csv')"
      ],
      "execution_count": null,
      "outputs": []
    },
    {
      "cell_type": "code",
      "metadata": {
        "id": "TuoL5tMjvW7m",
        "colab": {
          "base_uri": "https://localhost:8080/",
          "height": 479
        },
        "outputId": "ab92eecf-7b84-485c-ab50-e4374a469da1"
      },
      "source": [
        "data.head()"
      ],
      "execution_count": null,
      "outputs": [
        {
          "output_type": "execute_result",
          "data": {
            "text/html": [
              "<div>\n",
              "<style scoped>\n",
              "    .dataframe tbody tr th:only-of-type {\n",
              "        vertical-align: middle;\n",
              "    }\n",
              "\n",
              "    .dataframe tbody tr th {\n",
              "        vertical-align: top;\n",
              "    }\n",
              "\n",
              "    .dataframe thead th {\n",
              "        text-align: right;\n",
              "    }\n",
              "</style>\n",
              "<table border=\"1\" class=\"dataframe\">\n",
              "  <thead>\n",
              "    <tr style=\"text-align: right;\">\n",
              "      <th></th>\n",
              "      <th>date</th>\n",
              "      <th>요일</th>\n",
              "      <th>배추_거래량(kg)</th>\n",
              "      <th>배추_가격(원/kg)</th>\n",
              "      <th>무_거래량(kg)</th>\n",
              "      <th>무_가격(원/kg)</th>\n",
              "      <th>양파_거래량(kg)</th>\n",
              "      <th>양파_가격(원/kg)</th>\n",
              "      <th>건고추_거래량(kg)</th>\n",
              "      <th>건고추_가격(원/kg)</th>\n",
              "      <th>마늘_거래량(kg)</th>\n",
              "      <th>마늘_가격(원/kg)</th>\n",
              "      <th>대파_거래량(kg)</th>\n",
              "      <th>대파_가격(원/kg)</th>\n",
              "      <th>얼갈이배추_거래량(kg)</th>\n",
              "      <th>얼갈이배추_가격(원/kg)</th>\n",
              "      <th>양배추_거래량(kg)</th>\n",
              "      <th>양배추_가격(원/kg)</th>\n",
              "      <th>깻잎_거래량(kg)</th>\n",
              "      <th>깻잎_가격(원/kg)</th>\n",
              "      <th>시금치_거래량(kg)</th>\n",
              "      <th>시금치_가격(원/kg)</th>\n",
              "      <th>미나리_거래량(kg)</th>\n",
              "      <th>미나리_가격(원/kg)</th>\n",
              "      <th>당근_거래량(kg)</th>\n",
              "      <th>당근_가격(원/kg)</th>\n",
              "      <th>파프리카_거래량(kg)</th>\n",
              "      <th>파프리카_가격(원/kg)</th>\n",
              "      <th>새송이_거래량(kg)</th>\n",
              "      <th>새송이_가격(원/kg)</th>\n",
              "      <th>팽이버섯_거래량(kg)</th>\n",
              "      <th>팽이버섯_가격(원/kg)</th>\n",
              "      <th>토마토_거래량(kg)</th>\n",
              "      <th>토마토_가격(원/kg)</th>\n",
              "      <th>청상추_거래량(kg)</th>\n",
              "      <th>청상추_가격(원/kg)</th>\n",
              "      <th>백다다기_거래량(kg)</th>\n",
              "      <th>백다다기_가격(원/kg)</th>\n",
              "      <th>애호박_거래량(kg)</th>\n",
              "      <th>애호박_가격(원/kg)</th>\n",
              "      <th>캠벨얼리_거래량(kg)</th>\n",
              "      <th>캠벨얼리_가격(원/kg)</th>\n",
              "      <th>샤인마스캇_거래량(kg)</th>\n",
              "      <th>샤인마스캇_가격(원/kg)</th>\n",
              "    </tr>\n",
              "  </thead>\n",
              "  <tbody>\n",
              "    <tr>\n",
              "      <th>0</th>\n",
              "      <td>2016-01-01</td>\n",
              "      <td>금요일</td>\n",
              "      <td>0.0</td>\n",
              "      <td>0.0</td>\n",
              "      <td>0.0</td>\n",
              "      <td>0.0</td>\n",
              "      <td>0.0</td>\n",
              "      <td>0.0</td>\n",
              "      <td>0.0</td>\n",
              "      <td>0.0</td>\n",
              "      <td>0.0</td>\n",
              "      <td>0.0</td>\n",
              "      <td>0.0</td>\n",
              "      <td>0.0</td>\n",
              "      <td>0.0</td>\n",
              "      <td>0.0</td>\n",
              "      <td>0.0</td>\n",
              "      <td>0.0</td>\n",
              "      <td>0.0</td>\n",
              "      <td>0.0</td>\n",
              "      <td>0.0</td>\n",
              "      <td>0.0</td>\n",
              "      <td>0.0</td>\n",
              "      <td>0.0</td>\n",
              "      <td>0.0</td>\n",
              "      <td>0.0</td>\n",
              "      <td>0.0</td>\n",
              "      <td>0.0</td>\n",
              "      <td>0.0</td>\n",
              "      <td>0.0</td>\n",
              "      <td>0.0</td>\n",
              "      <td>0.0</td>\n",
              "      <td>0.0</td>\n",
              "      <td>0.0</td>\n",
              "      <td>0.0</td>\n",
              "      <td>0.0</td>\n",
              "      <td>0.0</td>\n",
              "      <td>0.0</td>\n",
              "      <td>0.0</td>\n",
              "      <td>0.0</td>\n",
              "      <td>0.0</td>\n",
              "      <td>0.0</td>\n",
              "      <td>0.0</td>\n",
              "      <td>0.0</td>\n",
              "    </tr>\n",
              "    <tr>\n",
              "      <th>1</th>\n",
              "      <td>2016-01-02</td>\n",
              "      <td>토요일</td>\n",
              "      <td>80860.0</td>\n",
              "      <td>329.0</td>\n",
              "      <td>80272.0</td>\n",
              "      <td>360.0</td>\n",
              "      <td>122787.5</td>\n",
              "      <td>1281.0</td>\n",
              "      <td>3.0</td>\n",
              "      <td>11000.0</td>\n",
              "      <td>15019.0</td>\n",
              "      <td>5475.0</td>\n",
              "      <td>92334.0</td>\n",
              "      <td>1704.0</td>\n",
              "      <td>6359.0</td>\n",
              "      <td>1331.0</td>\n",
              "      <td>40028.0</td>\n",
              "      <td>348.0</td>\n",
              "      <td>4374.9</td>\n",
              "      <td>13242.0</td>\n",
              "      <td>16550.5</td>\n",
              "      <td>2339.0</td>\n",
              "      <td>10528.0</td>\n",
              "      <td>1729.0</td>\n",
              "      <td>13885.0</td>\n",
              "      <td>804.0</td>\n",
              "      <td>3853.0</td>\n",
              "      <td>3703.0</td>\n",
              "      <td>15797.0</td>\n",
              "      <td>2576.0</td>\n",
              "      <td>14634.0</td>\n",
              "      <td>1474.0</td>\n",
              "      <td>30950.0</td>\n",
              "      <td>1621.0</td>\n",
              "      <td>5125.0</td>\n",
              "      <td>9235.0</td>\n",
              "      <td>434.0</td>\n",
              "      <td>2109.0</td>\n",
              "      <td>19159.0</td>\n",
              "      <td>2414.0</td>\n",
              "      <td>880.0</td>\n",
              "      <td>2014.0</td>\n",
              "      <td>0.0</td>\n",
              "      <td>0.0</td>\n",
              "    </tr>\n",
              "    <tr>\n",
              "      <th>2</th>\n",
              "      <td>2016-01-03</td>\n",
              "      <td>일요일</td>\n",
              "      <td>0.0</td>\n",
              "      <td>0.0</td>\n",
              "      <td>0.0</td>\n",
              "      <td>0.0</td>\n",
              "      <td>0.0</td>\n",
              "      <td>0.0</td>\n",
              "      <td>0.0</td>\n",
              "      <td>0.0</td>\n",
              "      <td>0.0</td>\n",
              "      <td>0.0</td>\n",
              "      <td>0.0</td>\n",
              "      <td>0.0</td>\n",
              "      <td>0.0</td>\n",
              "      <td>0.0</td>\n",
              "      <td>0.0</td>\n",
              "      <td>0.0</td>\n",
              "      <td>0.0</td>\n",
              "      <td>0.0</td>\n",
              "      <td>0.0</td>\n",
              "      <td>0.0</td>\n",
              "      <td>0.0</td>\n",
              "      <td>0.0</td>\n",
              "      <td>0.0</td>\n",
              "      <td>0.0</td>\n",
              "      <td>0.0</td>\n",
              "      <td>0.0</td>\n",
              "      <td>0.0</td>\n",
              "      <td>0.0</td>\n",
              "      <td>0.0</td>\n",
              "      <td>0.0</td>\n",
              "      <td>0.0</td>\n",
              "      <td>0.0</td>\n",
              "      <td>0.0</td>\n",
              "      <td>0.0</td>\n",
              "      <td>0.0</td>\n",
              "      <td>0.0</td>\n",
              "      <td>0.0</td>\n",
              "      <td>0.0</td>\n",
              "      <td>0.0</td>\n",
              "      <td>0.0</td>\n",
              "      <td>0.0</td>\n",
              "      <td>0.0</td>\n",
              "    </tr>\n",
              "    <tr>\n",
              "      <th>3</th>\n",
              "      <td>2016-01-04</td>\n",
              "      <td>월요일</td>\n",
              "      <td>1422742.5</td>\n",
              "      <td>478.0</td>\n",
              "      <td>1699653.7</td>\n",
              "      <td>382.0</td>\n",
              "      <td>2315079.0</td>\n",
              "      <td>1235.0</td>\n",
              "      <td>699.0</td>\n",
              "      <td>4464.0</td>\n",
              "      <td>141638.0</td>\n",
              "      <td>5210.0</td>\n",
              "      <td>994328.1</td>\n",
              "      <td>1716.0</td>\n",
              "      <td>262615.5</td>\n",
              "      <td>1212.0</td>\n",
              "      <td>1074699.1</td>\n",
              "      <td>345.0</td>\n",
              "      <td>122613.5</td>\n",
              "      <td>9923.0</td>\n",
              "      <td>427435.1</td>\n",
              "      <td>2153.0</td>\n",
              "      <td>82113.5</td>\n",
              "      <td>3960.0</td>\n",
              "      <td>558950.2</td>\n",
              "      <td>794.0</td>\n",
              "      <td>104930.3</td>\n",
              "      <td>4871.0</td>\n",
              "      <td>277326.5</td>\n",
              "      <td>2440.0</td>\n",
              "      <td>159800.0</td>\n",
              "      <td>1750.0</td>\n",
              "      <td>291057.0</td>\n",
              "      <td>1834.0</td>\n",
              "      <td>38525.5</td>\n",
              "      <td>7631.0</td>\n",
              "      <td>500702.0</td>\n",
              "      <td>2046.0</td>\n",
              "      <td>620539.0</td>\n",
              "      <td>2018.0</td>\n",
              "      <td>2703.8</td>\n",
              "      <td>3885.0</td>\n",
              "      <td>0.0</td>\n",
              "      <td>0.0</td>\n",
              "    </tr>\n",
              "    <tr>\n",
              "      <th>4</th>\n",
              "      <td>2016-01-05</td>\n",
              "      <td>화요일</td>\n",
              "      <td>1167241.0</td>\n",
              "      <td>442.0</td>\n",
              "      <td>1423482.3</td>\n",
              "      <td>422.0</td>\n",
              "      <td>2092960.1</td>\n",
              "      <td>1213.0</td>\n",
              "      <td>1112.6</td>\n",
              "      <td>4342.0</td>\n",
              "      <td>126207.8</td>\n",
              "      <td>5387.0</td>\n",
              "      <td>787716.0</td>\n",
              "      <td>1715.0</td>\n",
              "      <td>221850.5</td>\n",
              "      <td>1197.0</td>\n",
              "      <td>825681.9</td>\n",
              "      <td>350.0</td>\n",
              "      <td>79055.9</td>\n",
              "      <td>9529.0</td>\n",
              "      <td>334636.8</td>\n",
              "      <td>2220.0</td>\n",
              "      <td>80144.0</td>\n",
              "      <td>3333.0</td>\n",
              "      <td>444353.7</td>\n",
              "      <td>763.0</td>\n",
              "      <td>100699.5</td>\n",
              "      <td>5129.0</td>\n",
              "      <td>218465.2</td>\n",
              "      <td>2437.0</td>\n",
              "      <td>153084.0</td>\n",
              "      <td>1822.0</td>\n",
              "      <td>194626.5</td>\n",
              "      <td>1833.0</td>\n",
              "      <td>32615.0</td>\n",
              "      <td>6926.0</td>\n",
              "      <td>147638.0</td>\n",
              "      <td>2268.0</td>\n",
              "      <td>231958.0</td>\n",
              "      <td>2178.0</td>\n",
              "      <td>8810.0</td>\n",
              "      <td>2853.0</td>\n",
              "      <td>0.0</td>\n",
              "      <td>0.0</td>\n",
              "    </tr>\n",
              "  </tbody>\n",
              "</table>\n",
              "</div>"
            ],
            "text/plain": [
              "         date   요일  배추_거래량(kg)  ...  캠벨얼리_가격(원/kg)  샤인마스캇_거래량(kg)  샤인마스캇_가격(원/kg)\n",
              "0  2016-01-01  금요일         0.0  ...            0.0            0.0             0.0\n",
              "1  2016-01-02  토요일     80860.0  ...         2014.0            0.0             0.0\n",
              "2  2016-01-03  일요일         0.0  ...            0.0            0.0             0.0\n",
              "3  2016-01-04  월요일   1422742.5  ...         3885.0            0.0             0.0\n",
              "4  2016-01-05  화요일   1167241.0  ...         2853.0            0.0             0.0\n",
              "\n",
              "[5 rows x 44 columns]"
            ]
          },
          "metadata": {},
          "execution_count": 6
        }
      ]
    },
    {
      "cell_type": "markdown",
      "metadata": {
        "id": "Bm_3kM0uvW7n"
      },
      "source": [
        "## 데이터 정규화\n",
        "\n",
        "요일을 0 ~ 6으로 변환 후 각 컬럼 최대값으로 나눠 0 ~ 1값으로 정규화 진행"
      ]
    },
    {
      "cell_type": "code",
      "metadata": {
        "id": "26pQKBb4vW7o"
      },
      "source": [
        "week_day_map = {}\n",
        "for i, d in enumerate(data['요일'].unique()):\n",
        "    week_day_map[d] = i\n",
        "data['요일'] = data['요일'].map(week_day_map)"
      ],
      "execution_count": null,
      "outputs": []
    },
    {
      "cell_type": "code",
      "metadata": {
        "id": "cwtL-SjKvW7o"
      },
      "source": [
        "norm = data.iloc[:, 1:].max(0)\n",
        "data.iloc[:, 1:] = data.iloc[:, 1:] / norm"
      ],
      "execution_count": null,
      "outputs": []
    },
    {
      "cell_type": "markdown",
      "metadata": {
        "id": "PwNrrVimvW7p"
      },
      "source": [
        "## 하이퍼파라미터"
      ]
    },
    {
      "cell_type": "code",
      "metadata": {
        "tags": [],
        "id": "TOtFfBPUvW7p"
      },
      "source": [
        "device = torch.device(\"cuda:0\") # GPU 사용\n",
        "target_n = 21 # 맞춰야하는 품목/품종의 수\n",
        "learning_rate = 5e-4 # 학습률\n",
        "BATCH_SIZE = 128 # 배치사이즈\n",
        "EPOCHS = 50 # 총 eopochs\n",
        "teacher_forcing = False # 교사강요 설정\n",
        "n_layers = 3 # rnn레이어 층\n",
        "dropout = 0.2 # 드롭아웃\n",
        "window_size = 28 # 인코더 시퀀스 길이\n",
        "future_size = 28 # 디코더 시퀀스 길이\n",
        "hidden_dim = 128 # rnn 히든차원\n",
        "save_path = f'/content/drive/MyDrive/Colab Notebooks/ model/best_model.pt' # 모델 저장 경로"
      ],
      "execution_count": null,
      "outputs": []
    },
    {
      "cell_type": "markdown",
      "metadata": {
        "id": "eGUK32GfvW7p"
      },
      "source": [
        "## 전처리\n",
        "시계열 학습이 가능한 형태로 전처리\n",
        "\n",
        "과거 28일의 변화를 보고 미래 28일을 예측"
      ]
    },
    {
      "cell_type": "code",
      "metadata": {
        "colab": {
          "base_uri": "https://localhost:8080/",
          "height": 660
        },
        "id": "U0DDpPKuGqzo",
        "outputId": "6f53298e-4d2c-4880-e098-0c0d423a29be"
      },
      "source": [
        "data"
      ],
      "execution_count": null,
      "outputs": [
        {
          "output_type": "execute_result",
          "data": {
            "text/html": [
              "<div>\n",
              "<style scoped>\n",
              "    .dataframe tbody tr th:only-of-type {\n",
              "        vertical-align: middle;\n",
              "    }\n",
              "\n",
              "    .dataframe tbody tr th {\n",
              "        vertical-align: top;\n",
              "    }\n",
              "\n",
              "    .dataframe thead th {\n",
              "        text-align: right;\n",
              "    }\n",
              "</style>\n",
              "<table border=\"1\" class=\"dataframe\">\n",
              "  <thead>\n",
              "    <tr style=\"text-align: right;\">\n",
              "      <th></th>\n",
              "      <th>date</th>\n",
              "      <th>요일</th>\n",
              "      <th>배추_거래량(kg)</th>\n",
              "      <th>배추_가격(원/kg)</th>\n",
              "      <th>무_거래량(kg)</th>\n",
              "      <th>무_가격(원/kg)</th>\n",
              "      <th>양파_거래량(kg)</th>\n",
              "      <th>양파_가격(원/kg)</th>\n",
              "      <th>건고추_거래량(kg)</th>\n",
              "      <th>건고추_가격(원/kg)</th>\n",
              "      <th>마늘_거래량(kg)</th>\n",
              "      <th>마늘_가격(원/kg)</th>\n",
              "      <th>대파_거래량(kg)</th>\n",
              "      <th>대파_가격(원/kg)</th>\n",
              "      <th>얼갈이배추_거래량(kg)</th>\n",
              "      <th>얼갈이배추_가격(원/kg)</th>\n",
              "      <th>양배추_거래량(kg)</th>\n",
              "      <th>양배추_가격(원/kg)</th>\n",
              "      <th>깻잎_거래량(kg)</th>\n",
              "      <th>깻잎_가격(원/kg)</th>\n",
              "      <th>시금치_거래량(kg)</th>\n",
              "      <th>시금치_가격(원/kg)</th>\n",
              "      <th>미나리_거래량(kg)</th>\n",
              "      <th>미나리_가격(원/kg)</th>\n",
              "      <th>당근_거래량(kg)</th>\n",
              "      <th>당근_가격(원/kg)</th>\n",
              "      <th>파프리카_거래량(kg)</th>\n",
              "      <th>파프리카_가격(원/kg)</th>\n",
              "      <th>새송이_거래량(kg)</th>\n",
              "      <th>새송이_가격(원/kg)</th>\n",
              "      <th>팽이버섯_거래량(kg)</th>\n",
              "      <th>팽이버섯_가격(원/kg)</th>\n",
              "      <th>토마토_거래량(kg)</th>\n",
              "      <th>토마토_가격(원/kg)</th>\n",
              "      <th>청상추_거래량(kg)</th>\n",
              "      <th>청상추_가격(원/kg)</th>\n",
              "      <th>백다다기_거래량(kg)</th>\n",
              "      <th>백다다기_가격(원/kg)</th>\n",
              "      <th>애호박_거래량(kg)</th>\n",
              "      <th>애호박_가격(원/kg)</th>\n",
              "      <th>캠벨얼리_거래량(kg)</th>\n",
              "      <th>캠벨얼리_가격(원/kg)</th>\n",
              "      <th>샤인마스캇_거래량(kg)</th>\n",
              "      <th>샤인마스캇_가격(원/kg)</th>\n",
              "    </tr>\n",
              "  </thead>\n",
              "  <tbody>\n",
              "    <tr>\n",
              "      <th>0</th>\n",
              "      <td>2016-01-01</td>\n",
              "      <td>0.000000</td>\n",
              "      <td>0.000000</td>\n",
              "      <td>0.0000</td>\n",
              "      <td>0.000000</td>\n",
              "      <td>0.000000</td>\n",
              "      <td>0.000000</td>\n",
              "      <td>0.0000</td>\n",
              "      <td>0.000000</td>\n",
              "      <td>0.000000</td>\n",
              "      <td>0.000000</td>\n",
              "      <td>0.000000</td>\n",
              "      <td>0.000000</td>\n",
              "      <td>0.000000</td>\n",
              "      <td>0.000000</td>\n",
              "      <td>0.000000</td>\n",
              "      <td>0.000000</td>\n",
              "      <td>0.000000</td>\n",
              "      <td>0.000000</td>\n",
              "      <td>0.000000</td>\n",
              "      <td>0.000000</td>\n",
              "      <td>0.000000</td>\n",
              "      <td>0.000000</td>\n",
              "      <td>0.000000</td>\n",
              "      <td>0.000000</td>\n",
              "      <td>0.000000</td>\n",
              "      <td>0.000000</td>\n",
              "      <td>0.000000</td>\n",
              "      <td>0.000000</td>\n",
              "      <td>0.00000</td>\n",
              "      <td>0.000000</td>\n",
              "      <td>0.000000</td>\n",
              "      <td>0.000000</td>\n",
              "      <td>0.000000</td>\n",
              "      <td>0.000000</td>\n",
              "      <td>0.000000</td>\n",
              "      <td>0.000000</td>\n",
              "      <td>0.000000</td>\n",
              "      <td>0.000000</td>\n",
              "      <td>0.000000</td>\n",
              "      <td>0.000000</td>\n",
              "      <td>0.00000</td>\n",
              "      <td>0.000000</td>\n",
              "      <td>0.000000</td>\n",
              "    </tr>\n",
              "    <tr>\n",
              "      <th>1</th>\n",
              "      <td>2016-01-02</td>\n",
              "      <td>0.166667</td>\n",
              "      <td>0.015520</td>\n",
              "      <td>0.0658</td>\n",
              "      <td>0.020797</td>\n",
              "      <td>0.264706</td>\n",
              "      <td>0.024437</td>\n",
              "      <td>0.6405</td>\n",
              "      <td>0.000007</td>\n",
              "      <td>0.064389</td>\n",
              "      <td>0.013751</td>\n",
              "      <td>0.853468</td>\n",
              "      <td>0.070877</td>\n",
              "      <td>0.535512</td>\n",
              "      <td>0.010287</td>\n",
              "      <td>0.442634</td>\n",
              "      <td>0.034353</td>\n",
              "      <td>0.216283</td>\n",
              "      <td>0.017059</td>\n",
              "      <td>0.924333</td>\n",
              "      <td>0.024831</td>\n",
              "      <td>0.166905</td>\n",
              "      <td>0.056230</td>\n",
              "      <td>0.206571</td>\n",
              "      <td>0.018154</td>\n",
              "      <td>0.214400</td>\n",
              "      <td>0.012547</td>\n",
              "      <td>0.283559</td>\n",
              "      <td>0.050133</td>\n",
              "      <td>0.64400</td>\n",
              "      <td>0.086461</td>\n",
              "      <td>0.373070</td>\n",
              "      <td>0.024183</td>\n",
              "      <td>0.220604</td>\n",
              "      <td>0.060900</td>\n",
              "      <td>0.511068</td>\n",
              "      <td>0.000197</td>\n",
              "      <td>0.398376</td>\n",
              "      <td>0.023032</td>\n",
              "      <td>0.356152</td>\n",
              "      <td>0.000590</td>\n",
              "      <td>0.08056</td>\n",
              "      <td>0.000000</td>\n",
              "      <td>0.000000</td>\n",
              "    </tr>\n",
              "    <tr>\n",
              "      <th>2</th>\n",
              "      <td>2016-01-03</td>\n",
              "      <td>0.333333</td>\n",
              "      <td>0.000000</td>\n",
              "      <td>0.0000</td>\n",
              "      <td>0.000000</td>\n",
              "      <td>0.000000</td>\n",
              "      <td>0.000000</td>\n",
              "      <td>0.0000</td>\n",
              "      <td>0.000000</td>\n",
              "      <td>0.000000</td>\n",
              "      <td>0.000000</td>\n",
              "      <td>0.000000</td>\n",
              "      <td>0.000000</td>\n",
              "      <td>0.000000</td>\n",
              "      <td>0.000000</td>\n",
              "      <td>0.000000</td>\n",
              "      <td>0.000000</td>\n",
              "      <td>0.000000</td>\n",
              "      <td>0.000000</td>\n",
              "      <td>0.000000</td>\n",
              "      <td>0.000000</td>\n",
              "      <td>0.000000</td>\n",
              "      <td>0.000000</td>\n",
              "      <td>0.000000</td>\n",
              "      <td>0.000000</td>\n",
              "      <td>0.000000</td>\n",
              "      <td>0.000000</td>\n",
              "      <td>0.000000</td>\n",
              "      <td>0.000000</td>\n",
              "      <td>0.00000</td>\n",
              "      <td>0.000000</td>\n",
              "      <td>0.000000</td>\n",
              "      <td>0.000000</td>\n",
              "      <td>0.000000</td>\n",
              "      <td>0.000000</td>\n",
              "      <td>0.000000</td>\n",
              "      <td>0.000000</td>\n",
              "      <td>0.000000</td>\n",
              "      <td>0.000000</td>\n",
              "      <td>0.000000</td>\n",
              "      <td>0.000000</td>\n",
              "      <td>0.00000</td>\n",
              "      <td>0.000000</td>\n",
              "      <td>0.000000</td>\n",
              "    </tr>\n",
              "    <tr>\n",
              "      <th>3</th>\n",
              "      <td>2016-01-04</td>\n",
              "      <td>0.500000</td>\n",
              "      <td>0.273068</td>\n",
              "      <td>0.0956</td>\n",
              "      <td>0.440354</td>\n",
              "      <td>0.280882</td>\n",
              "      <td>0.460735</td>\n",
              "      <td>0.6175</td>\n",
              "      <td>0.001690</td>\n",
              "      <td>0.026130</td>\n",
              "      <td>0.129684</td>\n",
              "      <td>0.812159</td>\n",
              "      <td>0.763265</td>\n",
              "      <td>0.539283</td>\n",
              "      <td>0.424853</td>\n",
              "      <td>0.403060</td>\n",
              "      <td>0.922336</td>\n",
              "      <td>0.214419</td>\n",
              "      <td>0.478118</td>\n",
              "      <td>0.692657</td>\n",
              "      <td>0.641277</td>\n",
              "      <td>0.153632</td>\n",
              "      <td>0.438569</td>\n",
              "      <td>0.473118</td>\n",
              "      <td>0.730787</td>\n",
              "      <td>0.211733</td>\n",
              "      <td>0.341704</td>\n",
              "      <td>0.372999</td>\n",
              "      <td>0.880117</td>\n",
              "      <td>0.61000</td>\n",
              "      <td>0.944132</td>\n",
              "      <td>0.442926</td>\n",
              "      <td>0.227416</td>\n",
              "      <td>0.249592</td>\n",
              "      <td>0.457792</td>\n",
              "      <td>0.422302</td>\n",
              "      <td>0.227365</td>\n",
              "      <td>0.386475</td>\n",
              "      <td>0.745976</td>\n",
              "      <td>0.297728</td>\n",
              "      <td>0.001814</td>\n",
              "      <td>0.15540</td>\n",
              "      <td>0.000000</td>\n",
              "      <td>0.000000</td>\n",
              "    </tr>\n",
              "    <tr>\n",
              "      <th>4</th>\n",
              "      <td>2016-01-05</td>\n",
              "      <td>0.666667</td>\n",
              "      <td>0.224029</td>\n",
              "      <td>0.0884</td>\n",
              "      <td>0.368802</td>\n",
              "      <td>0.310294</td>\n",
              "      <td>0.416530</td>\n",
              "      <td>0.6065</td>\n",
              "      <td>0.002690</td>\n",
              "      <td>0.025416</td>\n",
              "      <td>0.115556</td>\n",
              "      <td>0.839751</td>\n",
              "      <td>0.604666</td>\n",
              "      <td>0.538969</td>\n",
              "      <td>0.358904</td>\n",
              "      <td>0.398071</td>\n",
              "      <td>0.708623</td>\n",
              "      <td>0.217526</td>\n",
              "      <td>0.308270</td>\n",
              "      <td>0.665154</td>\n",
              "      <td>0.502053</td>\n",
              "      <td>0.158413</td>\n",
              "      <td>0.428050</td>\n",
              "      <td>0.398208</td>\n",
              "      <td>0.580960</td>\n",
              "      <td>0.203467</td>\n",
              "      <td>0.327927</td>\n",
              "      <td>0.392756</td>\n",
              "      <td>0.693316</td>\n",
              "      <td>0.60925</td>\n",
              "      <td>0.904452</td>\n",
              "      <td>0.461149</td>\n",
              "      <td>0.152071</td>\n",
              "      <td>0.249456</td>\n",
              "      <td>0.387559</td>\n",
              "      <td>0.383287</td>\n",
              "      <td>0.067041</td>\n",
              "      <td>0.428410</td>\n",
              "      <td>0.278846</td>\n",
              "      <td>0.321334</td>\n",
              "      <td>0.005911</td>\n",
              "      <td>0.11412</td>\n",
              "      <td>0.000000</td>\n",
              "      <td>0.000000</td>\n",
              "    </tr>\n",
              "    <tr>\n",
              "      <th>...</th>\n",
              "      <td>...</td>\n",
              "      <td>...</td>\n",
              "      <td>...</td>\n",
              "      <td>...</td>\n",
              "      <td>...</td>\n",
              "      <td>...</td>\n",
              "      <td>...</td>\n",
              "      <td>...</td>\n",
              "      <td>...</td>\n",
              "      <td>...</td>\n",
              "      <td>...</td>\n",
              "      <td>...</td>\n",
              "      <td>...</td>\n",
              "      <td>...</td>\n",
              "      <td>...</td>\n",
              "      <td>...</td>\n",
              "      <td>...</td>\n",
              "      <td>...</td>\n",
              "      <td>...</td>\n",
              "      <td>...</td>\n",
              "      <td>...</td>\n",
              "      <td>...</td>\n",
              "      <td>...</td>\n",
              "      <td>...</td>\n",
              "      <td>...</td>\n",
              "      <td>...</td>\n",
              "      <td>...</td>\n",
              "      <td>...</td>\n",
              "      <td>...</td>\n",
              "      <td>...</td>\n",
              "      <td>...</td>\n",
              "      <td>...</td>\n",
              "      <td>...</td>\n",
              "      <td>...</td>\n",
              "      <td>...</td>\n",
              "      <td>...</td>\n",
              "      <td>...</td>\n",
              "      <td>...</td>\n",
              "      <td>...</td>\n",
              "      <td>...</td>\n",
              "      <td>...</td>\n",
              "      <td>...</td>\n",
              "      <td>...</td>\n",
              "      <td>...</td>\n",
              "    </tr>\n",
              "    <tr>\n",
              "      <th>1728</th>\n",
              "      <td>2020-09-24</td>\n",
              "      <td>1.000000</td>\n",
              "      <td>0.356409</td>\n",
              "      <td>0.3678</td>\n",
              "      <td>0.532584</td>\n",
              "      <td>0.727941</td>\n",
              "      <td>0.454038</td>\n",
              "      <td>0.4950</td>\n",
              "      <td>0.006813</td>\n",
              "      <td>0.111809</td>\n",
              "      <td>0.123020</td>\n",
              "      <td>0.744349</td>\n",
              "      <td>0.591275</td>\n",
              "      <td>0.747957</td>\n",
              "      <td>0.713114</td>\n",
              "      <td>0.621217</td>\n",
              "      <td>0.563427</td>\n",
              "      <td>0.710379</td>\n",
              "      <td>0.310033</td>\n",
              "      <td>0.699986</td>\n",
              "      <td>0.104786</td>\n",
              "      <td>0.451620</td>\n",
              "      <td>0.320572</td>\n",
              "      <td>0.591398</td>\n",
              "      <td>0.553347</td>\n",
              "      <td>0.417333</td>\n",
              "      <td>0.306607</td>\n",
              "      <td>0.704954</td>\n",
              "      <td>0.637287</td>\n",
              "      <td>0.73175</td>\n",
              "      <td>0.768054</td>\n",
              "      <td>0.644141</td>\n",
              "      <td>0.111332</td>\n",
              "      <td>0.760343</td>\n",
              "      <td>0.602816</td>\n",
              "      <td>0.249530</td>\n",
              "      <td>0.128151</td>\n",
              "      <td>0.566868</td>\n",
              "      <td>0.376438</td>\n",
              "      <td>0.505459</td>\n",
              "      <td>0.338341</td>\n",
              "      <td>0.14480</td>\n",
              "      <td>0.740842</td>\n",
              "      <td>0.273500</td>\n",
              "    </tr>\n",
              "    <tr>\n",
              "      <th>1729</th>\n",
              "      <td>2020-09-25</td>\n",
              "      <td>0.000000</td>\n",
              "      <td>0.360848</td>\n",
              "      <td>0.3578</td>\n",
              "      <td>0.486887</td>\n",
              "      <td>0.743382</td>\n",
              "      <td>0.412859</td>\n",
              "      <td>0.4775</td>\n",
              "      <td>0.004562</td>\n",
              "      <td>0.135188</td>\n",
              "      <td>0.116213</td>\n",
              "      <td>0.785503</td>\n",
              "      <td>0.599806</td>\n",
              "      <td>0.703646</td>\n",
              "      <td>0.685951</td>\n",
              "      <td>0.680745</td>\n",
              "      <td>0.615180</td>\n",
              "      <td>0.677439</td>\n",
              "      <td>0.330832</td>\n",
              "      <td>0.762320</td>\n",
              "      <td>0.133999</td>\n",
              "      <td>0.446839</td>\n",
              "      <td>0.665987</td>\n",
              "      <td>0.310036</td>\n",
              "      <td>0.523660</td>\n",
              "      <td>0.472800</td>\n",
              "      <td>0.283729</td>\n",
              "      <td>0.695612</td>\n",
              "      <td>0.707492</td>\n",
              "      <td>0.74850</td>\n",
              "      <td>0.770308</td>\n",
              "      <td>0.657555</td>\n",
              "      <td>0.119214</td>\n",
              "      <td>0.761568</td>\n",
              "      <td>0.645499</td>\n",
              "      <td>0.231212</td>\n",
              "      <td>0.141775</td>\n",
              "      <td>0.566490</td>\n",
              "      <td>0.436066</td>\n",
              "      <td>0.495279</td>\n",
              "      <td>0.321862</td>\n",
              "      <td>0.14472</td>\n",
              "      <td>0.794687</td>\n",
              "      <td>0.271100</td>\n",
              "    </tr>\n",
              "    <tr>\n",
              "      <th>1730</th>\n",
              "      <td>2020-09-26</td>\n",
              "      <td>0.166667</td>\n",
              "      <td>0.318814</td>\n",
              "      <td>0.3520</td>\n",
              "      <td>0.442875</td>\n",
              "      <td>0.790441</td>\n",
              "      <td>0.415758</td>\n",
              "      <td>0.4805</td>\n",
              "      <td>0.002318</td>\n",
              "      <td>0.131764</td>\n",
              "      <td>0.101044</td>\n",
              "      <td>0.867498</td>\n",
              "      <td>0.622395</td>\n",
              "      <td>0.668133</td>\n",
              "      <td>0.670464</td>\n",
              "      <td>0.696708</td>\n",
              "      <td>0.431408</td>\n",
              "      <td>0.824114</td>\n",
              "      <td>0.387790</td>\n",
              "      <td>0.740402</td>\n",
              "      <td>0.186425</td>\n",
              "      <td>0.508277</td>\n",
              "      <td>0.405116</td>\n",
              "      <td>0.514934</td>\n",
              "      <td>0.244589</td>\n",
              "      <td>0.374667</td>\n",
              "      <td>0.334350</td>\n",
              "      <td>0.704342</td>\n",
              "      <td>0.790250</td>\n",
              "      <td>0.73550</td>\n",
              "      <td>0.768347</td>\n",
              "      <td>0.662364</td>\n",
              "      <td>0.138147</td>\n",
              "      <td>0.716113</td>\n",
              "      <td>0.727384</td>\n",
              "      <td>0.208633</td>\n",
              "      <td>0.148668</td>\n",
              "      <td>0.578957</td>\n",
              "      <td>0.469269</td>\n",
              "      <td>0.456182</td>\n",
              "      <td>0.349917</td>\n",
              "      <td>0.14764</td>\n",
              "      <td>0.819581</td>\n",
              "      <td>0.265900</td>\n",
              "    </tr>\n",
              "    <tr>\n",
              "      <th>1731</th>\n",
              "      <td>2020-09-27</td>\n",
              "      <td>0.333333</td>\n",
              "      <td>0.004874</td>\n",
              "      <td>0.6132</td>\n",
              "      <td>0.009903</td>\n",
              "      <td>0.837500</td>\n",
              "      <td>0.003630</td>\n",
              "      <td>0.5280</td>\n",
              "      <td>0.000145</td>\n",
              "      <td>0.130728</td>\n",
              "      <td>0.000568</td>\n",
              "      <td>0.814809</td>\n",
              "      <td>0.014041</td>\n",
              "      <td>0.586424</td>\n",
              "      <td>0.006507</td>\n",
              "      <td>0.265381</td>\n",
              "      <td>0.014223</td>\n",
              "      <td>0.620261</td>\n",
              "      <td>0.008422</td>\n",
              "      <td>0.851249</td>\n",
              "      <td>0.001637</td>\n",
              "      <td>0.512202</td>\n",
              "      <td>0.003611</td>\n",
              "      <td>0.223297</td>\n",
              "      <td>0.000078</td>\n",
              "      <td>1.000000</td>\n",
              "      <td>0.000000</td>\n",
              "      <td>0.000000</td>\n",
              "      <td>0.015125</td>\n",
              "      <td>0.73650</td>\n",
              "      <td>0.014771</td>\n",
              "      <td>0.651228</td>\n",
              "      <td>0.000711</td>\n",
              "      <td>0.514562</td>\n",
              "      <td>0.001711</td>\n",
              "      <td>0.225567</td>\n",
              "      <td>0.000129</td>\n",
              "      <td>0.700227</td>\n",
              "      <td>0.002962</td>\n",
              "      <td>0.479788</td>\n",
              "      <td>0.014572</td>\n",
              "      <td>0.14268</td>\n",
              "      <td>0.025464</td>\n",
              "      <td>0.267475</td>\n",
              "    </tr>\n",
              "    <tr>\n",
              "      <th>1732</th>\n",
              "      <td>2020-09-28</td>\n",
              "      <td>0.500000</td>\n",
              "      <td>0.461603</td>\n",
              "      <td>0.3734</td>\n",
              "      <td>0.711839</td>\n",
              "      <td>0.843382</td>\n",
              "      <td>0.444954</td>\n",
              "      <td>0.4820</td>\n",
              "      <td>0.003942</td>\n",
              "      <td>0.128907</td>\n",
              "      <td>0.160765</td>\n",
              "      <td>0.741543</td>\n",
              "      <td>0.746435</td>\n",
              "      <td>0.821496</td>\n",
              "      <td>0.861241</td>\n",
              "      <td>0.781177</td>\n",
              "      <td>0.628227</td>\n",
              "      <td>0.884400</td>\n",
              "      <td>0.611345</td>\n",
              "      <td>0.779282</td>\n",
              "      <td>0.439825</td>\n",
              "      <td>0.581205</td>\n",
              "      <td>0.513605</td>\n",
              "      <td>0.859737</td>\n",
              "      <td>0.551751</td>\n",
              "      <td>0.533600</td>\n",
              "      <td>0.599141</td>\n",
              "      <td>0.719274</td>\n",
              "      <td>1.000000</td>\n",
              "      <td>0.84000</td>\n",
              "      <td>0.981008</td>\n",
              "      <td>0.776765</td>\n",
              "      <td>0.222775</td>\n",
              "      <td>0.683723</td>\n",
              "      <td>1.000000</td>\n",
              "      <td>0.230603</td>\n",
              "      <td>0.251959</td>\n",
              "      <td>0.542690</td>\n",
              "      <td>0.802724</td>\n",
              "      <td>0.410446</td>\n",
              "      <td>0.403829</td>\n",
              "      <td>0.15044</td>\n",
              "      <td>1.000000</td>\n",
              "      <td>0.274950</td>\n",
              "    </tr>\n",
              "  </tbody>\n",
              "</table>\n",
              "<p>1733 rows × 44 columns</p>\n",
              "</div>"
            ],
            "text/plain": [
              "            date        요일  ...  샤인마스캇_거래량(kg)  샤인마스캇_가격(원/kg)\n",
              "0     2016-01-01  0.000000  ...       0.000000        0.000000\n",
              "1     2016-01-02  0.166667  ...       0.000000        0.000000\n",
              "2     2016-01-03  0.333333  ...       0.000000        0.000000\n",
              "3     2016-01-04  0.500000  ...       0.000000        0.000000\n",
              "4     2016-01-05  0.666667  ...       0.000000        0.000000\n",
              "...          ...       ...  ...            ...             ...\n",
              "1728  2020-09-24  1.000000  ...       0.740842        0.273500\n",
              "1729  2020-09-25  0.000000  ...       0.794687        0.271100\n",
              "1730  2020-09-26  0.166667  ...       0.819581        0.265900\n",
              "1731  2020-09-27  0.333333  ...       0.025464        0.267475\n",
              "1732  2020-09-28  0.500000  ...       1.000000        0.274950\n",
              "\n",
              "[1733 rows x 44 columns]"
            ]
          },
          "metadata": {},
          "execution_count": 14
        }
      ]
    },
    {
      "cell_type": "code",
      "metadata": {
        "id": "LxzMkgETvW7q"
      },
      "source": [
        "x_data = []\n",
        "y_data = []\n",
        "for i in range(data.shape[0]-window_size-future_size):\n",
        "    x = data.iloc[i:i+window_size, 1:].to_numpy()\n",
        "    y = data.iloc[i+window_size:i+window_size+future_size, 3::2].to_numpy()\n",
        "    y_0 = np.zeros([1, y.shape[1]]) # 디코더 첫 입력값 추가\n",
        "    x_data.append(x)\n",
        "    y_data.append(np.concatenate([y_0, y], axis=0))\n",
        "x_data = np.array(x_data)\n",
        "y_data = np.array(y_data)"
      ],
      "execution_count": null,
      "outputs": []
    },
    {
      "cell_type": "code",
      "metadata": {
        "colab": {
          "base_uri": "https://localhost:8080/",
          "height": 172
        },
        "id": "9d-36neSMr-U",
        "outputId": "f648c6b4-530f-419f-b893-25ec9b72dc1a"
      },
      "source": [
        "x_data"
      ],
      "execution_count": null,
      "outputs": [
        {
          "output_type": "error",
          "ename": "NameError",
          "evalue": "ignored",
          "traceback": [
            "\u001b[0;31m---------------------------------------------------------------------------\u001b[0m",
            "\u001b[0;31mNameError\u001b[0m                                 Traceback (most recent call last)",
            "\u001b[0;32m<ipython-input-1-5609f17f5e28>\u001b[0m in \u001b[0;36m<module>\u001b[0;34m()\u001b[0m\n\u001b[0;32m----> 1\u001b[0;31m \u001b[0mx_data\u001b[0m\u001b[0;34m\u001b[0m\u001b[0;34m\u001b[0m\u001b[0m\n\u001b[0m",
            "\u001b[0;31mNameError\u001b[0m: name 'x_data' is not defined"
          ]
        }
      ]
    },
    {
      "cell_type": "code",
      "metadata": {
        "id": "qL_9d4paSHNc"
      },
      "source": [
        "y_data"
      ],
      "execution_count": null,
      "outputs": []
    },
    {
      "cell_type": "code",
      "metadata": {
        "id": "JvSvbE4cvW7q",
        "colab": {
          "base_uri": "https://localhost:8080/"
        },
        "outputId": "d021b8f5-9cc3-4f41-f3a1-21569c12e28c"
      },
      "source": [
        "x_data.shape, y_data.shape"
      ],
      "execution_count": null,
      "outputs": [
        {
          "output_type": "execute_result",
          "data": {
            "text/plain": [
              "((1677, 28, 43), (1677, 29, 21))"
            ]
          },
          "metadata": {},
          "execution_count": 11
        }
      ]
    },
    {
      "cell_type": "code",
      "metadata": {
        "id": "wGZdvW1cvW7q"
      },
      "source": [
        "train_test_split = 1\n",
        "x_train = x_data[:-train_test_split-future_size]\n",
        "y_train = y_data[:-train_test_split-future_size]\n",
        "x_val = x_data[-train_test_split:]\n",
        "y_val = y_data[-train_test_split:]"
      ],
      "execution_count": null,
      "outputs": []
    },
    {
      "cell_type": "code",
      "metadata": {
        "id": "t7mArwetvW7r",
        "colab": {
          "base_uri": "https://localhost:8080/"
        },
        "outputId": "05590d68-ed27-4ae5-d000-0c633be91a5f"
      },
      "source": [
        "x_train.shape, y_train.shape, x_val.shape, y_val.shape"
      ],
      "execution_count": null,
      "outputs": [
        {
          "output_type": "execute_result",
          "data": {
            "text/plain": [
              "((1648, 28, 43), (1648, 29, 21), (1, 28, 43), (1, 29, 21))"
            ]
          },
          "metadata": {},
          "execution_count": 13
        }
      ]
    },
    {
      "cell_type": "markdown",
      "metadata": {
        "id": "eUbKJ8hfvW7r"
      },
      "source": [
        "## 데이터셋 정의"
      ]
    },
    {
      "cell_type": "code",
      "metadata": {
        "id": "lvtFYaltvW7r"
      },
      "source": [
        "class CustomDataset(Dataset):\n",
        "    def __init__(self, encoder_input, decoder_input):\n",
        "        self.encoder_input = encoder_input\n",
        "        self.decoder_input = decoder_input\n",
        "        \n",
        "    def __len__(self):\n",
        "        return len(self.encoder_input)\n",
        "    \n",
        "    def __getitem__(self, i):\n",
        "        return {\n",
        "            'encoder_input' : torch.tensor(self.encoder_input[i], dtype=torch.float32),\n",
        "            'decoder_input' : torch.tensor(self.decoder_input[i], dtype=torch.float32)\n",
        "        }"
      ],
      "execution_count": null,
      "outputs": []
    },
    {
      "cell_type": "code",
      "metadata": {
        "id": "TOJwY_QcvW7r",
        "colab": {
          "base_uri": "https://localhost:8080/"
        },
        "outputId": "48c84b61-ce83-42c1-901b-84590dbb5822"
      },
      "source": [
        "train_dataset = CustomDataset(x_train, y_train)\n",
        "val_dataset = CustomDataset(x_val, y_val)\n",
        "\n",
        "train_dataloader = torch.utils.data.DataLoader(train_dataset, batch_size=BATCH_SIZE, num_workers=16, shuffle=True)\n",
        "val_dataloader = torch.utils.data.DataLoader(val_dataset, batch_size=BATCH_SIZE, num_workers=16, shuffle=False)"
      ],
      "execution_count": null,
      "outputs": [
        {
          "output_type": "stream",
          "name": "stderr",
          "text": [
            "/usr/local/lib/python3.7/dist-packages/torch/utils/data/dataloader.py:481: UserWarning: This DataLoader will create 16 worker processes in total. Our suggested max number of worker in current system is 2, which is smaller than what this DataLoader is going to create. Please be aware that excessive worker creation might get DataLoader running slow or even freeze, lower the worker number to avoid potential slowness/freeze if necessary.\n",
            "  cpuset_checked))\n"
          ]
        }
      ]
    },
    {
      "cell_type": "code",
      "metadata": {
        "id": "pnZsqhJcvW7s",
        "colab": {
          "base_uri": "https://localhost:8080/"
        },
        "outputId": "bd6552b7-7fef-4a4f-e753-af9230cff89f"
      },
      "source": [
        "sample_batch = next(iter(train_dataloader))"
      ],
      "execution_count": null,
      "outputs": [
        {
          "output_type": "stream",
          "name": "stderr",
          "text": [
            "/usr/local/lib/python3.7/dist-packages/torch/utils/data/dataloader.py:481: UserWarning: This DataLoader will create 16 worker processes in total. Our suggested max number of worker in current system is 2, which is smaller than what this DataLoader is going to create. Please be aware that excessive worker creation might get DataLoader running slow or even freeze, lower the worker number to avoid potential slowness/freeze if necessary.\n",
            "  cpuset_checked))\n"
          ]
        }
      ]
    },
    {
      "cell_type": "code",
      "metadata": {
        "id": "8dJ1yoZuvW7s",
        "colab": {
          "base_uri": "https://localhost:8080/"
        },
        "outputId": "3d2c167d-fc8b-4d36-efd6-bb0e882063a9"
      },
      "source": [
        "sample_batch['encoder_input'].shape, sample_batch['decoder_input'].shape"
      ],
      "execution_count": null,
      "outputs": [
        {
          "output_type": "execute_result",
          "data": {
            "text/plain": [
              "(torch.Size([128, 28, 43]), torch.Size([128, 29, 21]))"
            ]
          },
          "metadata": {},
          "execution_count": 19
        }
      ]
    },
    {
      "cell_type": "markdown",
      "metadata": {
        "id": "QV7PCRIAvW7s"
      },
      "source": [
        "## 모델\n",
        "\n",
        "어텐션이 적용된 seq2seq모델\n",
        "\n",
        "인코더와 디코더는 GRU 사용"
      ]
    },
    {
      "cell_type": "code",
      "metadata": {
        "tags": [],
        "id": "WfkioqaxvW7s"
      },
      "source": [
        "class Encoder(nn.Module):\n",
        "    def __init__(self, input_dim, hidden_dim, n_layers, dropout):\n",
        "        super().__init__()\n",
        "        self.n_layers = n_layers\n",
        "        \n",
        "        self.rnn = nn.GRU(input_dim, hidden_dim, n_layers, dropout=dropout)\n",
        "        self.dropout = nn.Dropout(dropout)\n",
        "\n",
        "    def forward(self, inp_seq):\n",
        "        inp_seq = inp_seq.permute(1,0,2)\n",
        "        outputs, hidden = self.rnn(inp_seq)\n",
        "        \n",
        "        return outputs, hidden"
      ],
      "execution_count": null,
      "outputs": []
    },
    {
      "cell_type": "code",
      "metadata": {
        "tags": [],
        "id": "jqmQ3kwzvW7s"
      },
      "source": [
        "class BahdanauAttention(nn.Module):\n",
        "    def __init__(self, dec_output_dim, units):\n",
        "        super(BahdanauAttention, self).__init__()\n",
        "        self.W1 = nn.Linear(dec_output_dim, units)\n",
        "        self.W2 = nn.Linear(dec_output_dim, units)\n",
        "        self.V = nn.Linear(dec_output_dim, 1)\n",
        "\n",
        "    def forward(self, hidden, enc_output):\n",
        "        query_with_time_axis = hidden.unsqueeze(1)\n",
        "        \n",
        "        score = self.V(torch.tanh(self.W1(query_with_time_axis) + self.W2(enc_output)))\n",
        "        \n",
        "        attention_weights = torch.softmax(score, axis=1)\n",
        "        \n",
        "        context_vector = attention_weights * enc_output\n",
        "        context_vector = torch.sum(context_vector, dim=1)\n",
        "\n",
        "        return context_vector, attention_weights"
      ],
      "execution_count": null,
      "outputs": []
    },
    {
      "cell_type": "code",
      "metadata": {
        "id": "gOv-IzaYvW7t"
      },
      "source": [
        "class Decoder(nn.Module):\n",
        "    def __init__(self, dec_feature_size, encoder_hidden_dim, output_dim, decoder_hidden_dim, n_layers, dropout, attention):\n",
        "        super().__init__()\n",
        "        self.output_dim = output_dim\n",
        "        self.decoder_hidden_dim = decoder_hidden_dim\n",
        "        self.n_layers = n_layers\n",
        "        self.attention = attention\n",
        "        \n",
        "        self.layer = nn.Linear(dec_feature_size, encoder_hidden_dim)\n",
        "        self.rnn = nn.GRU(encoder_hidden_dim*2, decoder_hidden_dim, n_layers, dropout=dropout)\n",
        "        self.fc_out = nn.Linear(hidden_dim, output_dim)\n",
        "        self.dropout = nn.Dropout(dropout)\n",
        "\n",
        "    def forward(self, enc_output, dec_input, hidden):\n",
        "        dec_input = self.layer(dec_input)\n",
        "        context_vector, attention_weights = self.attention(hidden, enc_output)\n",
        "        dec_input = torch.cat([torch.sum(context_vector, dim=0), dec_input], dim=1)\n",
        "        dec_input = dec_input.unsqueeze(0)\n",
        "        \n",
        "        output, hidden = self.rnn(dec_input, hidden)\n",
        "\n",
        "        prediction = self.fc_out(output.sum(0))\n",
        "        \n",
        "        return prediction, hidden"
      ],
      "execution_count": null,
      "outputs": []
    },
    {
      "cell_type": "code",
      "metadata": {
        "id": "TjKPlQmevW7t"
      },
      "source": [
        "class Seq2Seq(nn.Module):\n",
        "    def __init__(self, encoder, decoder, attention):\n",
        "        super().__init__()\n",
        "        self.encoder = encoder\n",
        "        self.decoder = decoder\n",
        "        \n",
        "    def forward(self, encoder_input, decoder_input, teacher_forcing=False):\n",
        "        batch_size = decoder_input.size(0)\n",
        "        trg_len = decoder_input.size(1)\n",
        "        \n",
        "        outputs = torch.zeros(batch_size, trg_len-1, self.decoder.output_dim).to(device)\n",
        "        enc_output, hidden = self.encoder(encoder_input)\n",
        "        \n",
        "        dec_input = decoder_input[:, 0]\n",
        "        for t in range(1, trg_len):\n",
        "            output, hidden = self.decoder(enc_output, dec_input, hidden)\n",
        "            outputs[:, t-1] = output\n",
        "            if teacher_forcing == True:\n",
        "                dec_input = decoder_input[:, t]\n",
        "            else:\n",
        "                dec_input = output\n",
        "        \n",
        "        return outputs"
      ],
      "execution_count": null,
      "outputs": []
    },
    {
      "cell_type": "code",
      "metadata": {
        "id": "1iZ8tw4pvW7u"
      },
      "source": [
        "encoder = Encoder(input_dim=x_data.shape[-1], hidden_dim=hidden_dim, n_layers=n_layers, dropout=dropout)\n",
        "attention = BahdanauAttention(dec_output_dim=hidden_dim, units=hidden_dim)\n",
        "decoder = Decoder(\n",
        "    dec_feature_size=target_n, encoder_hidden_dim=hidden_dim, output_dim=target_n,\n",
        "    decoder_hidden_dim=hidden_dim, n_layers=n_layers, dropout=dropout,\n",
        "    attention = attention\n",
        ")\n",
        "\n",
        "model = Seq2Seq(encoder, decoder, attention)\n",
        "model = model.to(device)"
      ],
      "execution_count": null,
      "outputs": []
    },
    {
      "cell_type": "markdown",
      "metadata": {
        "id": "wgQ5X064vW7u"
      },
      "source": [
        "## 평가 함수\n",
        "\n",
        "평가를 위한 NMAE 정의"
      ]
    },
    {
      "cell_type": "code",
      "metadata": {
        "id": "is9ajEKUvW7u"
      },
      "source": [
        "def my_custom_metric(pred, true):\n",
        "    pred = pred[:, [6, 13, 27]]\n",
        "    true = true[:, [6, 13, 27]]\n",
        "    target = torch.where(true!=0)\n",
        "    true = true[target]\n",
        "    pred = pred[target]\n",
        "    score = torch.mean(torch.abs((true-pred))/(true))\n",
        "    \n",
        "    return score"
      ],
      "execution_count": null,
      "outputs": []
    },
    {
      "cell_type": "markdown",
      "metadata": {
        "id": "zGIeQKSZvW7u"
      },
      "source": [
        "## 옵티마이저 및 손실함수"
      ]
    },
    {
      "cell_type": "code",
      "metadata": {
        "tags": [],
        "id": "sPQCMKVXvW7u"
      },
      "source": [
        "optimizer = torch.optim.Adam(model.parameters(), lr=learning_rate)\n",
        "criterion = nn.L1Loss() # mae\n",
        "custom_metric = my_custom_metric"
      ],
      "execution_count": null,
      "outputs": []
    },
    {
      "cell_type": "markdown",
      "metadata": {
        "id": "_F8-kTQHvW7v"
      },
      "source": [
        "## 학습 정의"
      ]
    },
    {
      "cell_type": "code",
      "metadata": {
        "id": "SVMaCuCwvW7v"
      },
      "source": [
        "def train_step(batch_item, epoch, batch, training, teacher_forcing):\n",
        "    encoder_input = batch_item['encoder_input'].to(device)\n",
        "    decoder_input = batch_item['decoder_input'].to(device)\n",
        "    if training is True:\n",
        "        model.train()\n",
        "        optimizer.zero_grad()\n",
        "        with torch.cuda.amp.autocast():\n",
        "            output = model(encoder_input, decoder_input, teacher_forcing)\n",
        "            loss = criterion(output, decoder_input[:,1:])\n",
        "            score = custom_metric(output, decoder_input[:,1:])\n",
        "        loss.backward()\n",
        "        optimizer.step()\n",
        "        \n",
        "        return loss, score\n",
        "    else:\n",
        "        model.eval()\n",
        "        with torch.no_grad():\n",
        "            output = model(encoder_input, decoder_input, False)\n",
        "            loss = criterion(output, decoder_input[:,1:])\n",
        "            score = custom_metric(output, decoder_input[:,1:])\n",
        "        return loss, score"
      ],
      "execution_count": null,
      "outputs": []
    },
    {
      "cell_type": "markdown",
      "metadata": {
        "id": "_f1dfoX7vW7v"
      },
      "source": [
        "## 학습"
      ]
    },
    {
      "cell_type": "code",
      "metadata": {
        "colab": {
          "base_uri": "https://localhost:8080/"
        },
        "id": "Uaef4_nkFJL6",
        "outputId": "fc16e101-8e2a-4d3c-c7ec-4166b3acfc67"
      },
      "source": [
        "!pwd"
      ],
      "execution_count": null,
      "outputs": [
        {
          "output_type": "stream",
          "name": "stdout",
          "text": [
            "/content\n"
          ]
        }
      ]
    },
    {
      "cell_type": "code",
      "metadata": {
        "tags": [],
        "colab": {
          "base_uri": "https://localhost:8080/"
        },
        "id": "y-qOSV56vW7v",
        "outputId": "65d1b195-2cc7-4d47-ed29-4dbcfc5183d2"
      },
      "source": [
        "loss_plot, val_loss_plot = [], []\n",
        "score_plot, val_score_plot = [], []\n",
        "\n",
        "for epoch in range(EPOCHS):\n",
        "    total_loss, total_val_loss = 0, 0\n",
        "    total_score, total_val_score = 0, 0\n",
        "    \n",
        "    tqdm_dataset = tqdm(enumerate(train_dataloader))\n",
        "    training = True\n",
        "    for batch, batch_item in tqdm_dataset:\n",
        "        batch_loss, batch_score = train_step(batch_item, epoch, batch, training, teacher_forcing)\n",
        "        total_loss += batch_loss\n",
        "        total_score += batch_score\n",
        "        \n",
        "        tqdm_dataset.set_postfix({\n",
        "            'Epoch': epoch + 1,\n",
        "            'Loss': '{:06f}'.format(batch_loss.item()),\n",
        "            'Total Loss' : '{:06f}'.format(total_loss/(batch+1)),\n",
        "            'Score': '{:06f}'.format(batch_score.item()),\n",
        "            'Total Score' : '{:06f}'.format(total_score/(batch+1)),\n",
        "        })\n",
        "    loss_plot.append(total_loss/(batch+1))\n",
        "    score_plot.append(total_score/(batch+1))\n",
        "    \n",
        "    tqdm_dataset = tqdm(enumerate(val_dataloader))\n",
        "    training = False\n",
        "    for batch, batch_item in tqdm_dataset:\n",
        "        batch_loss, batch_val_score = train_step(batch_item, epoch, batch, training, teacher_forcing)\n",
        "        total_val_loss += batch_loss\n",
        "        total_val_score += batch_val_score\n",
        "        \n",
        "        tqdm_dataset.set_postfix({\n",
        "            'Epoch': epoch + 1,\n",
        "            'Val Loss': '{:06f}'.format(batch_loss.item()),\n",
        "            'Total Val Loss' : '{:06f}'.format(total_val_loss/(batch+1)),\n",
        "            'Val Score': '{:06f}'.format(batch_val_score.item()),\n",
        "            'Total Val Score' : '{:06f}'.format(total_val_score/(batch+1)),\n",
        "        })\n",
        "    val_loss_plot.append(total_val_loss/(batch+1))\n",
        "    val_score_plot.append(total_val_score/(batch+1))\n",
        "    \n",
        "    if np.min(val_loss_plot) == val_loss_plot[-1]:\n",
        "        torch.save(model, save_path)"
      ],
      "execution_count": null,
      "outputs": [
        {
          "output_type": "stream",
          "name": "stderr",
          "text": [
            "/usr/local/lib/python3.7/dist-packages/torch/utils/data/dataloader.py:481: UserWarning: This DataLoader will create 16 worker processes in total. Our suggested max number of worker in current system is 2, which is smaller than what this DataLoader is going to create. Please be aware that excessive worker creation might get DataLoader running slow or even freeze, lower the worker number to avoid potential slowness/freeze if necessary.\n",
            "  cpuset_checked))\n",
            "13it [00:04,  2.79it/s, Epoch=1, Loss=0.143691, Total Loss=0.180263, Score=0.379739, Total Score=0.576583]\n",
            "1it [00:00,  3.87it/s, Epoch=1, Val Loss=0.246930, Total Val Loss=0.246930, Val Score=0.426005, Total Val Score=0.426005]\n",
            "13it [00:04,  2.98it/s, Epoch=2, Loss=0.123758, Total Loss=0.131610, Score=0.343928, Total Score=0.366073]\n",
            "1it [00:00,  3.80it/s, Epoch=2, Val Loss=0.233278, Total Val Loss=0.233278, Val Score=0.464174, Total Val Score=0.464174]\n",
            "13it [00:04,  3.00it/s, Epoch=3, Loss=0.116190, Total Loss=0.122500, Score=0.335143, Total Score=0.329902]\n",
            "1it [00:00,  3.58it/s, Epoch=3, Val Loss=0.198750, Total Val Loss=0.198750, Val Score=0.382493, Total Val Score=0.382493]\n",
            "13it [00:04,  3.01it/s, Epoch=4, Loss=0.116699, Total Loss=0.117913, Score=0.278565, Total Score=0.301408]\n",
            "1it [00:00,  3.82it/s, Epoch=4, Val Loss=0.185955, Total Val Loss=0.185955, Val Score=0.386728, Total Val Score=0.386728]\n",
            "13it [00:04,  3.09it/s, Epoch=5, Loss=0.113226, Total Loss=0.115194, Score=0.263954, Total Score=0.296089]\n",
            "1it [00:00,  3.83it/s, Epoch=5, Val Loss=0.190097, Total Val Loss=0.190097, Val Score=0.401792, Total Val Score=0.401792]\n",
            "13it [00:04,  3.12it/s, Epoch=6, Loss=0.114975, Total Loss=0.113385, Score=0.330119, Total Score=0.282034]\n",
            "1it [00:00,  3.73it/s, Epoch=6, Val Loss=0.183221, Total Val Loss=0.183221, Val Score=0.392126, Total Val Score=0.392126]\n",
            "13it [00:04,  3.10it/s, Epoch=7, Loss=0.108673, Total Loss=0.111352, Score=0.266698, Total Score=0.274901]\n",
            "1it [00:00,  3.33it/s, Epoch=7, Val Loss=0.184564, Total Val Loss=0.184564, Val Score=0.393031, Total Val Score=0.393031]\n",
            "13it [00:04,  3.10it/s, Epoch=8, Loss=0.106573, Total Loss=0.109143, Score=0.315511, Total Score=0.271258]\n",
            "1it [00:00,  3.55it/s, Epoch=8, Val Loss=0.170710, Total Val Loss=0.170710, Val Score=0.367967, Total Val Score=0.367967]\n",
            "13it [00:04,  3.07it/s, Epoch=9, Loss=0.113451, Total Loss=0.107031, Score=0.253758, Total Score=0.266568]\n",
            "1it [00:00,  3.61it/s, Epoch=9, Val Loss=0.166661, Total Val Loss=0.166661, Val Score=0.365643, Total Val Score=0.365643]\n",
            "13it [00:04,  3.11it/s, Epoch=10, Loss=0.103762, Total Loss=0.104545, Score=0.239043, Total Score=0.251258]\n",
            "1it [00:00,  3.71it/s, Epoch=10, Val Loss=0.168358, Total Val Loss=0.168358, Val Score=0.354689, Total Val Score=0.354689]\n",
            "13it [00:04,  3.19it/s, Epoch=11, Loss=0.102987, Total Loss=0.103042, Score=0.225135, Total Score=0.246884]\n",
            "1it [00:00,  3.43it/s, Epoch=11, Val Loss=0.170424, Total Val Loss=0.170424, Val Score=0.353024, Total Val Score=0.353024]\n",
            "13it [00:04,  3.17it/s, Epoch=12, Loss=0.102409, Total Loss=0.101898, Score=0.231494, Total Score=0.238556]\n",
            "1it [00:00,  3.59it/s, Epoch=12, Val Loss=0.159122, Total Val Loss=0.159122, Val Score=0.324928, Total Val Score=0.324928]\n",
            "13it [00:04,  3.16it/s, Epoch=13, Loss=0.098916, Total Loss=0.100463, Score=0.214618, Total Score=0.236433]\n",
            "1it [00:00,  3.43it/s, Epoch=13, Val Loss=0.164835, Total Val Loss=0.164835, Val Score=0.333006, Total Val Score=0.333006]\n",
            "13it [00:04,  3.16it/s, Epoch=14, Loss=0.097631, Total Loss=0.099816, Score=0.216484, Total Score=0.234138]\n",
            "1it [00:00,  3.52it/s, Epoch=14, Val Loss=0.153540, Total Val Loss=0.153540, Val Score=0.313474, Total Val Score=0.313474]\n",
            "13it [00:04,  3.07it/s, Epoch=15, Loss=0.099076, Total Loss=0.099277, Score=0.212877, Total Score=0.230044]\n",
            "1it [00:00,  3.27it/s, Epoch=15, Val Loss=0.151354, Total Val Loss=0.151354, Val Score=0.312639, Total Val Score=0.312639]\n",
            "13it [00:04,  3.16it/s, Epoch=16, Loss=0.098041, Total Loss=0.098917, Score=0.210904, Total Score=0.230474]\n",
            "1it [00:00,  3.52it/s, Epoch=16, Val Loss=0.160589, Total Val Loss=0.160589, Val Score=0.322190, Total Val Score=0.322190]\n",
            "13it [00:04,  3.17it/s, Epoch=17, Loss=0.097235, Total Loss=0.098133, Score=0.219156, Total Score=0.228467]\n",
            "1it [00:00,  3.43it/s, Epoch=17, Val Loss=0.154459, Total Val Loss=0.154459, Val Score=0.317409, Total Val Score=0.317409]\n",
            "13it [00:04,  3.15it/s, Epoch=18, Loss=0.095732, Total Loss=0.097793, Score=0.213109, Total Score=0.225773]\n",
            "1it [00:00,  3.09it/s, Epoch=18, Val Loss=0.155478, Total Val Loss=0.155478, Val Score=0.328655, Total Val Score=0.328655]\n",
            "13it [00:04,  3.11it/s, Epoch=19, Loss=0.095381, Total Loss=0.097020, Score=0.196916, Total Score=0.221826]\n",
            "1it [00:00,  3.17it/s, Epoch=19, Val Loss=0.153487, Total Val Loss=0.153487, Val Score=0.314580, Total Val Score=0.314580]\n",
            "13it [00:04,  3.19it/s, Epoch=20, Loss=0.098478, Total Loss=0.096546, Score=0.214256, Total Score=0.220220]\n",
            "1it [00:00,  3.28it/s, Epoch=20, Val Loss=0.150744, Total Val Loss=0.150744, Val Score=0.321562, Total Val Score=0.321562]\n",
            "13it [00:04,  3.20it/s, Epoch=21, Loss=0.093880, Total Loss=0.096332, Score=0.270695, Total Score=0.220867]\n",
            "1it [00:00,  3.26it/s, Epoch=21, Val Loss=0.149086, Total Val Loss=0.149086, Val Score=0.323818, Total Val Score=0.323818]\n",
            "13it [00:04,  3.20it/s, Epoch=22, Loss=0.096351, Total Loss=0.095546, Score=0.206346, Total Score=0.216671]\n",
            "1it [00:00,  3.11it/s, Epoch=22, Val Loss=0.148301, Total Val Loss=0.148301, Val Score=0.317798, Total Val Score=0.317798]\n",
            "13it [00:04,  3.20it/s, Epoch=23, Loss=0.091791, Total Loss=0.094932, Score=0.200658, Total Score=0.215544]\n",
            "1it [00:00,  3.24it/s, Epoch=23, Val Loss=0.148856, Total Val Loss=0.148856, Val Score=0.315601, Total Val Score=0.315601]\n",
            "13it [00:04,  3.17it/s, Epoch=24, Loss=0.095292, Total Loss=0.094232, Score=0.198439, Total Score=0.211280]\n",
            "1it [00:00,  3.33it/s, Epoch=24, Val Loss=0.144391, Total Val Loss=0.144391, Val Score=0.329789, Total Val Score=0.329789]\n",
            "13it [00:04,  3.19it/s, Epoch=25, Loss=0.095386, Total Loss=0.093610, Score=0.190321, Total Score=0.209749]\n",
            "1it [00:00,  3.15it/s, Epoch=25, Val Loss=0.148502, Total Val Loss=0.148502, Val Score=0.340298, Total Val Score=0.340298]\n",
            "13it [00:03,  3.30it/s, Epoch=26, Loss=0.092341, Total Loss=0.092829, Score=0.185065, Total Score=0.208580]\n",
            "1it [00:00,  3.16it/s, Epoch=26, Val Loss=0.149093, Total Val Loss=0.149093, Val Score=0.344756, Total Val Score=0.344756]\n",
            "13it [00:03,  3.34it/s, Epoch=27, Loss=0.091508, Total Loss=0.091942, Score=0.263555, Total Score=0.202733]\n",
            "1it [00:00,  3.14it/s, Epoch=27, Val Loss=0.148775, Total Val Loss=0.148775, Val Score=0.328641, Total Val Score=0.328641]\n",
            "13it [00:03,  3.37it/s, Epoch=28, Loss=0.090563, Total Loss=0.091424, Score=0.195367, Total Score=0.200910]\n",
            "1it [00:00,  3.10it/s, Epoch=28, Val Loss=0.147225, Total Val Loss=0.147225, Val Score=0.316584, Total Val Score=0.316584]\n",
            "13it [00:03,  3.33it/s, Epoch=29, Loss=0.092011, Total Loss=0.090883, Score=0.185838, Total Score=0.197171]\n",
            "1it [00:00,  3.11it/s, Epoch=29, Val Loss=0.140121, Total Val Loss=0.140121, Val Score=0.312972, Total Val Score=0.312972]\n",
            "13it [00:03,  3.36it/s, Epoch=30, Loss=0.086890, Total Loss=0.090144, Score=0.234821, Total Score=0.194568]\n",
            "1it [00:00,  3.02it/s, Epoch=30, Val Loss=0.147658, Total Val Loss=0.147658, Val Score=0.318323, Total Val Score=0.318323]\n",
            "13it [00:03,  3.40it/s, Epoch=31, Loss=0.091394, Total Loss=0.089534, Score=0.177027, Total Score=0.193050]\n",
            "1it [00:00,  2.99it/s, Epoch=31, Val Loss=0.141926, Total Val Loss=0.141926, Val Score=0.307950, Total Val Score=0.307950]\n",
            "13it [00:03,  3.38it/s, Epoch=32, Loss=0.092042, Total Loss=0.088979, Score=0.177042, Total Score=0.190120]\n",
            "1it [00:00,  3.08it/s, Epoch=32, Val Loss=0.137786, Total Val Loss=0.137786, Val Score=0.295783, Total Val Score=0.295783]\n",
            "13it [00:03,  3.36it/s, Epoch=33, Loss=0.085796, Total Loss=0.088585, Score=0.167817, Total Score=0.191437]\n",
            "1it [00:00,  2.95it/s, Epoch=33, Val Loss=0.141313, Total Val Loss=0.141313, Val Score=0.289750, Total Val Score=0.289750]\n",
            "13it [00:03,  3.37it/s, Epoch=34, Loss=0.088672, Total Loss=0.088198, Score=0.257069, Total Score=0.189593]\n",
            "1it [00:00,  3.07it/s, Epoch=34, Val Loss=0.143566, Total Val Loss=0.143566, Val Score=0.300998, Total Val Score=0.300998]\n",
            "13it [00:03,  3.37it/s, Epoch=35, Loss=0.089276, Total Loss=0.087360, Score=0.172823, Total Score=0.182080]\n",
            "1it [00:00,  2.79it/s, Epoch=35, Val Loss=0.149999, Total Val Loss=0.149999, Val Score=0.307424, Total Val Score=0.307424]\n",
            "13it [00:03,  3.37it/s, Epoch=36, Loss=0.086709, Total Loss=0.086757, Score=0.255129, Total Score=0.184571]\n",
            "1it [00:00,  2.86it/s, Epoch=36, Val Loss=0.142023, Total Val Loss=0.142023, Val Score=0.284715, Total Val Score=0.284715]\n",
            "13it [00:03,  3.39it/s, Epoch=37, Loss=0.084951, Total Loss=0.086213, Score=0.160257, Total Score=0.182066]\n",
            "1it [00:00,  2.92it/s, Epoch=37, Val Loss=0.145544, Total Val Loss=0.145544, Val Score=0.306619, Total Val Score=0.306619]\n",
            "13it [00:03,  3.36it/s, Epoch=38, Loss=0.083881, Total Loss=0.085725, Score=0.163636, Total Score=0.179277]\n",
            "1it [00:00,  2.92it/s, Epoch=38, Val Loss=0.152163, Total Val Loss=0.152163, Val Score=0.296038, Total Val Score=0.296038]\n",
            "13it [00:03,  3.33it/s, Epoch=39, Loss=0.088149, Total Loss=0.085404, Score=0.240021, Total Score=0.177952]\n",
            "1it [00:00,  2.68it/s, Epoch=39, Val Loss=0.152946, Total Val Loss=0.152946, Val Score=0.304317, Total Val Score=0.304317]\n",
            "13it [00:03,  3.36it/s, Epoch=40, Loss=0.084618, Total Loss=0.084797, Score=0.224731, Total Score=0.174545]\n",
            "1it [00:00,  2.67it/s, Epoch=40, Val Loss=0.148714, Total Val Loss=0.148714, Val Score=0.302128, Total Val Score=0.302128]\n",
            "13it [00:03,  3.38it/s, Epoch=41, Loss=0.084436, Total Loss=0.084438, Score=0.241633, Total Score=0.174667]\n",
            "1it [00:00,  2.71it/s, Epoch=41, Val Loss=0.151714, Total Val Loss=0.151714, Val Score=0.298828, Total Val Score=0.298828]\n",
            "13it [00:03,  3.38it/s, Epoch=42, Loss=0.081832, Total Loss=0.084063, Score=0.161180, Total Score=0.172613]\n",
            "1it [00:00,  2.63it/s, Epoch=42, Val Loss=0.153663, Total Val Loss=0.153663, Val Score=0.306263, Total Val Score=0.306263]\n",
            "13it [00:03,  3.37it/s, Epoch=43, Loss=0.085099, Total Loss=0.083589, Score=0.158258, Total Score=0.169214]\n",
            "1it [00:00,  2.63it/s, Epoch=43, Val Loss=0.149691, Total Val Loss=0.149691, Val Score=0.310734, Total Val Score=0.310734]\n",
            "13it [00:03,  3.49it/s, Epoch=44, Loss=0.082178, Total Loss=0.083117, Score=0.155162, Total Score=0.167564]\n",
            "1it [00:00,  2.56it/s, Epoch=44, Val Loss=0.160821, Total Val Loss=0.160821, Val Score=0.299037, Total Val Score=0.299037]\n",
            "13it [00:03,  3.47it/s, Epoch=45, Loss=0.082259, Total Loss=0.082802, Score=0.229050, Total Score=0.166944]\n",
            "1it [00:00,  2.63it/s, Epoch=45, Val Loss=0.158762, Total Val Loss=0.158762, Val Score=0.303268, Total Val Score=0.303268]\n",
            "13it [00:03,  3.46it/s, Epoch=46, Loss=0.082383, Total Loss=0.082395, Score=0.153770, Total Score=0.164969]\n",
            "1it [00:00,  2.52it/s, Epoch=46, Val Loss=0.170174, Total Val Loss=0.170174, Val Score=0.310225, Total Val Score=0.310225]\n",
            "13it [00:03,  3.49it/s, Epoch=47, Loss=0.083463, Total Loss=0.082044, Score=0.149138, Total Score=0.164280]\n",
            "1it [00:00,  2.72it/s, Epoch=47, Val Loss=0.159723, Total Val Loss=0.159723, Val Score=0.304512, Total Val Score=0.304512]\n",
            "13it [00:03,  3.50it/s, Epoch=48, Loss=0.080030, Total Loss=0.081584, Score=0.148023, Total Score=0.163260]\n",
            "1it [00:00,  2.47it/s, Epoch=48, Val Loss=0.164482, Total Val Loss=0.164482, Val Score=0.307028, Total Val Score=0.307028]\n",
            "13it [00:03,  3.40it/s, Epoch=49, Loss=0.081735, Total Loss=0.081424, Score=0.153672, Total Score=0.161649]\n",
            "1it [00:00,  2.64it/s, Epoch=49, Val Loss=0.160546, Total Val Loss=0.160546, Val Score=0.303156, Total Val Score=0.303156]\n",
            "13it [00:03,  3.42it/s, Epoch=50, Loss=0.079536, Total Loss=0.081000, Score=0.143016, Total Score=0.158936]\n",
            "1it [00:00,  2.60it/s, Epoch=50, Val Loss=0.160967, Total Val Loss=0.160967, Val Score=0.304680, Total Val Score=0.304680]\n"
          ]
        }
      ]
    },
    {
      "cell_type": "markdown",
      "metadata": {
        "id": "Ig8m5uRcvW7w"
      },
      "source": [
        "## 학습 결과"
      ]
    },
    {
      "cell_type": "code",
      "metadata": {
        "tags": [],
        "colab": {
          "base_uri": "https://localhost:8080/",
          "height": 573
        },
        "id": "x34VrZBUvW7w",
        "outputId": "b307f497-54fc-4fb7-d74d-932abf30e9c2"
      },
      "source": [
        "plt.plot(loss_plot, label='train_loss')\n",
        "plt.plot(val_loss_plot, label='val_loss')\n",
        "plt.xlabel('epoch')\n",
        "plt.ylabel('loss(mae)')\n",
        "plt.title('loss_plot')\n",
        "plt.legend()\n",
        "plt.show()\n",
        "\n",
        "plt.plot(score_plot, label='train_score')\n",
        "plt.plot(val_score_plot, label='val_score')\n",
        "plt.xlabel('epoch')\n",
        "plt.ylabel('score(nmae)')\n",
        "plt.title('score_plot')\n",
        "plt.legend()\n",
        "plt.show()"
      ],
      "execution_count": null,
      "outputs": [
        {
          "output_type": "display_data",
          "data": {
            "image/png": "[encoded data removed]",
            "text/plain": [
              "<Figure size 432x288 with 1 Axes>"
            ]
          },
          "metadata": {
            "needs_background": "light"
          }
        },
        {
          "output_type": "display_data",
          "data": {
            "image/png": "[encoded data removed]",
            "text/plain": [
              "<Figure size 432x288 with 1 Axes>"
            ]
          },
          "metadata": {
            "needs_background": "light"
          }
        }
      ]
    },
    {
      "cell_type": "markdown",
      "metadata": {
        "id": "NCXjxmIevW7w"
      },
      "source": [
        "## 베스트모델 복원"
      ]
    },
    {
      "cell_type": "code",
      "metadata": {
        "id": "_SJpceVMvW7w"
      },
      "source": [
        "model = torch.load(save_path)\n",
        "model = model.to(device)"
      ],
      "execution_count": null,
      "outputs": []
    },
    {
      "cell_type": "markdown",
      "metadata": {
        "id": "npTeWRGBvW7w"
      },
      "source": [
        "## 추론 및 제출"
      ]
    },
    {
      "cell_type": "code",
      "metadata": {
        "id": "xCnRnollvW7w"
      },
      "source": [
        "def predict(encoder_input):\n",
        "    model.train()\n",
        "    encoder_input = encoder_input.to(device)\n",
        "    decoder_input = torch.zeros([1, future_size+1, target_n], dtype=torch.float32).to(device)\n",
        "    with torch.no_grad():\n",
        "        output = model(encoder_input, decoder_input, False)\n",
        "    return output.cpu()"
      ],
      "execution_count": null,
      "outputs": []
    },
    {
      "cell_type": "code",
      "metadata": {
        "id": "5TZ8NJjYvW7w"
      },
      "source": [
        "submission = pd.read_csv('/content/drive/MyDrive/Colab Notebooks/Data/Dacon_data/sample_submission.csv')"
      ],
      "execution_count": null,
      "outputs": []
    },
    {
      "cell_type": "code",
      "metadata": {
        "id": "BI6DYx-PvW7x"
      },
      "source": [
        "public_date_list = submission[submission['예측대상일자'].str.contains('2020')]['예측대상일자'].str.split('+').str[0].unique()"
      ],
      "execution_count": null,
      "outputs": []
    },
    {
      "cell_type": "markdown",
      "metadata": {
        "id": "WPBam_gHvW7x"
      },
      "source": [
        "### 추론\n",
        "\n",
        "일자별 추론을 진행합니다.\n",
        "\n",
        "data leakage가 발생하지 않도록 주의합니다."
      ]
    },
    {
      "cell_type": "code",
      "metadata": {
        "id": "8XGU_n8avW7x"
      },
      "source": [
        "outputs = []\n",
        "troch_norm = torch.tensor(norm.to_numpy()[2::2])\n",
        "for date in public_date_list:\n",
        "    test_df = pd.read_csv(f'/content/drive/MyDrive/Colab Notebooks/Data/Dacon_data/public_data/test_files/test_{date}.csv')\n",
        "    data = pd.read_csv('/content/drive/MyDrive/Colab Notebooks/Data/Dacon_data/public_data/train.csv')\n",
        "    data = pd.concat([data, test_df]).iloc[-window_size:]\n",
        "    \n",
        "    week_day_map = {}\n",
        "    for i, d in enumerate(data['요일'].unique()):\n",
        "        week_day_map[d] = i\n",
        "    data['요일'] = data['요일'].map(week_day_map)\n",
        "    data = data.iloc[:,1:]/norm\n",
        "    \n",
        "    encoder_input = torch.tensor(data.to_numpy(), dtype=torch.float32)\n",
        "    encoder_input = encoder_input.unsqueeze(0)\n",
        "    output = predict(encoder_input)*troch_norm\n",
        "    \n",
        "    idx = submission[submission['예측대상일자'].str.contains(date)].index\n",
        "    submission.loc[idx, '배추_가격(원/kg)':] = output[0,[6,13,27]].numpy()"
      ],
      "execution_count": null,
      "outputs": []
    },
    {
      "cell_type": "code",
      "metadata": {
        "id": "TmdgCcHXvW7x"
      },
      "source": [
        "submission.to_csv('/content/drive/MyDrive/Colab Notebooks/Data/Dacon_data/dacon_baseline.csv', index=False)"
      ],
      "execution_count": null,
      "outputs": []
    },
    {
      "cell_type": "markdown",
      "metadata": {
        "id": "MTdVmnZzvW7x"
      },
      "source": [
        "제출 API 사용법 => https://dacon.io/forum/403557"
      ]
    },
    {
      "cell_type": "code",
      "metadata": {
        "colab": {
          "base_uri": "https://localhost:8080/"
        },
        "id": "YUU7wndZHczp",
        "outputId": "fdbd2d36-ba4f-4a22-eeac-2710ef9a8ee9"
      },
      "source": [
        "# !pip install dacon_submit_api-0.0.4-py3-none-any.whl"
      ],
      "execution_count": null,
      "outputs": [
        {
          "output_type": "stream",
          "name": "stdout",
          "text": [
            "Processing ./dacon_submit_api-0.0.4-py3-none-any.whl\n",
            "Installing collected packages: dacon-submit-api\n",
            "Successfully installed dacon-submit-api-0.0.4\n"
          ]
        }
      ]
    },
    {
      "cell_type": "code",
      "metadata": {
        "colab": {
          "base_uri": "https://localhost:8080/"
        },
        "id": "t7tIcMhrvW7x",
        "outputId": "66ae0414-cda0-4cea-e256-8436f4785a26"
      },
      "source": [
        "# from dacon_submit_api import dacon_submit_api \n",
        "\n",
        "# result = dacon_submit_api.post_submission_file(\n",
        "#     '/content/drive/MyDrive/Colab Notebooks/Data/Dacon_data/dacon_baseline.csv', \n",
        "#     '90f0735322c13e8725dffa8b314e1d4a41c50ae6af466fa2e2bd5079b9253803', \n",
        "#     '235801', \n",
        "#     'DACONIO', \n",
        "#     'DACON_Baseline'\n",
        "# )"
      ],
      "execution_count": null,
      "outputs": [
        {
          "output_type": "stream",
          "name": "stdout",
          "text": [
            "{'isSubmitted': True, 'detail': 'Success'}\n"
          ]
        }
      ]
    },
    {
      "cell_type": "markdown",
      "metadata": {
        "id": "DVidCrbnvW7y"
      },
      "source": [
        "## Public LB Score : 0.3225"
      ]
    }
  ]
}