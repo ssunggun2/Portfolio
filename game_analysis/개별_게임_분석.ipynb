{
 "cells": [
  {
   "cell_type": "code",
   "execution_count": 4,
   "metadata": {
    "colab": {
     "base_uri": "https://localhost:8080/"
    },
    "id": "TvDMr0Vs1kca",
    "outputId": "61ec5e04-0b58-453c-eb03-f452cafa3761"
   },
   "outputs": [
    {
     "name": "stdout",
     "output_type": "stream",
     "text": [
      "\u001b[33mWARNING: Ignoring invalid distribution -rpcio (/home/ubuntu/anaconda3/lib/python3.7/site-packages)\u001b[0m\n",
      "\u001b[33mWARNING: Ignoring invalid distribution -eras (/home/ubuntu/anaconda3/lib/python3.7/site-packages)\u001b[0m\n",
      "\u001b[33mWARNING: Ignoring invalid distribution -eras-preprocessing (/home/ubuntu/anaconda3/lib/python3.7/site-packages)\u001b[0m\n",
      "\u001b[33mWARNING: Ignoring invalid distribution -ensorflow (/home/ubuntu/anaconda3/lib/python3.7/site-packages)\u001b[0m\n",
      "\u001b[33mWARNING: Ignoring invalid distribution -ensorflow-estimator (/home/ubuntu/anaconda3/lib/python3.7/site-packages)\u001b[0m\n",
      "\u001b[33mWARNING: Ignoring invalid distribution -rpcio (/home/ubuntu/anaconda3/lib/python3.7/site-packages)\u001b[0m\n",
      "\u001b[33mWARNING: Ignoring invalid distribution -eras (/home/ubuntu/anaconda3/lib/python3.7/site-packages)\u001b[0m\n",
      "\u001b[33mWARNING: Ignoring invalid distribution -eras-preprocessing (/home/ubuntu/anaconda3/lib/python3.7/site-packages)\u001b[0m\n",
      "\u001b[33mWARNING: Ignoring invalid distribution -ensorflow (/home/ubuntu/anaconda3/lib/python3.7/site-packages)\u001b[0m\n",
      "\u001b[33mWARNING: Ignoring invalid distribution -ensorflow-estimator (/home/ubuntu/anaconda3/lib/python3.7/site-packages)\u001b[0m\n",
      "Requirement already satisfied: rake-nltk in /home/ubuntu/anaconda3/lib/python3.7/site-packages (1.0.6)\n",
      "Requirement already satisfied: nltk<4.0.0,>=3.6.2 in /home/ubuntu/anaconda3/lib/python3.7/site-packages (from rake-nltk) (3.6.3)\n",
      "Requirement already satisfied: tqdm in /home/ubuntu/anaconda3/lib/python3.7/site-packages (from nltk<4.0.0,>=3.6.2->rake-nltk) (4.46.0)\n",
      "Requirement already satisfied: regex in /home/ubuntu/anaconda3/lib/python3.7/site-packages (from nltk<4.0.0,>=3.6.2->rake-nltk) (2020.11.13)\n",
      "Requirement already satisfied: joblib in /home/ubuntu/anaconda3/lib/python3.7/site-packages (from nltk<4.0.0,>=3.6.2->rake-nltk) (1.0.1)\n",
      "Requirement already satisfied: click in /home/ubuntu/anaconda3/lib/python3.7/site-packages (from nltk<4.0.0,>=3.6.2->rake-nltk) (7.1.2)\n",
      "\u001b[33mWARNING: Ignoring invalid distribution -rpcio (/home/ubuntu/anaconda3/lib/python3.7/site-packages)\u001b[0m\n",
      "\u001b[33mWARNING: Ignoring invalid distribution -eras (/home/ubuntu/anaconda3/lib/python3.7/site-packages)\u001b[0m\n",
      "\u001b[33mWARNING: Ignoring invalid distribution -eras-preprocessing (/home/ubuntu/anaconda3/lib/python3.7/site-packages)\u001b[0m\n",
      "\u001b[33mWARNING: Ignoring invalid distribution -ensorflow (/home/ubuntu/anaconda3/lib/python3.7/site-packages)\u001b[0m\n",
      "\u001b[33mWARNING: Ignoring invalid distribution -ensorflow-estimator (/home/ubuntu/anaconda3/lib/python3.7/site-packages)\u001b[0m\n",
      "\u001b[33mWARNING: Ignoring invalid distribution -rpcio (/home/ubuntu/anaconda3/lib/python3.7/site-packages)\u001b[0m\n",
      "\u001b[33mWARNING: Ignoring invalid distribution -eras (/home/ubuntu/anaconda3/lib/python3.7/site-packages)\u001b[0m\n",
      "\u001b[33mWARNING: Ignoring invalid distribution -eras-preprocessing (/home/ubuntu/anaconda3/lib/python3.7/site-packages)\u001b[0m\n",
      "\u001b[33mWARNING: Ignoring invalid distribution -ensorflow (/home/ubuntu/anaconda3/lib/python3.7/site-packages)\u001b[0m\n",
      "\u001b[33mWARNING: Ignoring invalid distribution -ensorflow-estimator (/home/ubuntu/anaconda3/lib/python3.7/site-packages)\u001b[0m\n",
      "\u001b[33mWARNING: Ignoring invalid distribution -rpcio (/home/ubuntu/anaconda3/lib/python3.7/site-packages)\u001b[0m\n",
      "\u001b[33mWARNING: Ignoring invalid distribution -eras (/home/ubuntu/anaconda3/lib/python3.7/site-packages)\u001b[0m\n",
      "\u001b[33mWARNING: Ignoring invalid distribution -eras-preprocessing (/home/ubuntu/anaconda3/lib/python3.7/site-packages)\u001b[0m\n",
      "\u001b[33mWARNING: Ignoring invalid distribution -ensorflow (/home/ubuntu/anaconda3/lib/python3.7/site-packages)\u001b[0m\n",
      "\u001b[33mWARNING: Ignoring invalid distribution -ensorflow-estimator (/home/ubuntu/anaconda3/lib/python3.7/site-packages)\u001b[0m\n"
     ]
    }
   ],
   "source": [
    "!pip install rake-nltk"
   ]
  },
  {
   "cell_type": "code",
   "execution_count": 5,
   "metadata": {
    "id": "bETSDtLJ1xbN"
   },
   "outputs": [],
   "source": [
    "import pandas as pd\n",
    "import re"
   ]
  },
  {
   "cell_type": "code",
   "execution_count": 6,
   "metadata": {
    "id": "IFh85ASp1n5U"
   },
   "outputs": [],
   "source": [
    "# 유튜브 크롤링 파일 로드\n",
    "path = '/home/lab10/game_analysis/preprocesing_comment/'"
   ]
  },
  {
   "cell_type": "code",
   "execution_count": 8,
   "metadata": {
    "colab": {
     "base_uri": "https://localhost:8080/",
     "height": 225
    },
    "id": "GLE9PTlK1red",
    "outputId": "ac638e53-720d-48d9-d368-19023b3397b8"
   },
   "outputs": [
    {
     "name": "stdout",
     "output_type": "stream",
     "text": [
      "14291\n"
     ]
    },
    {
     "data": {
      "text/html": [
       "<div>\n",
       "<style scoped>\n",
       "    .dataframe tbody tr th:only-of-type {\n",
       "        vertical-align: middle;\n",
       "    }\n",
       "\n",
       "    .dataframe tbody tr th {\n",
       "        vertical-align: top;\n",
       "    }\n",
       "\n",
       "    .dataframe thead th {\n",
       "        text-align: right;\n",
       "    }\n",
       "</style>\n",
       "<table border=\"1\" class=\"dataframe\">\n",
       "  <thead>\n",
       "    <tr style=\"text-align: right;\">\n",
       "      <th></th>\n",
       "      <th>title</th>\n",
       "      <th>comment</th>\n",
       "      <th>lang</th>\n",
       "    </tr>\n",
       "  </thead>\n",
       "  <tbody>\n",
       "    <tr>\n",
       "      <th>1</th>\n",
       "      <td>DokeV - World Premiere Gameplay Trailer | game...</td>\n",
       "      <td>do you remember the amazing longboarding scene...</td>\n",
       "      <td>(en)</td>\n",
       "    </tr>\n",
       "    <tr>\n",
       "      <th>2</th>\n",
       "      <td>DokeV - World Premiere Gameplay Trailer | game...</td>\n",
       "      <td>i ' ve never seen a game trailer lag beforeit ...</td>\n",
       "      <td>(en)</td>\n",
       "    </tr>\n",
       "    <tr>\n",
       "      <th>3</th>\n",
       "      <td>DokeV - World Premiere Gameplay Trailer | game...</td>\n",
       "      <td>: 어떻게 해서든 저 옷을 입겠다</td>\n",
       "      <td>(ko)</td>\n",
       "    </tr>\n",
       "    <tr>\n",
       "      <th>4</th>\n",
       "      <td>DokeV - World Premiere Gameplay Trailer | game...</td>\n",
       "      <td>this trailer looks awesome i hope my video wil...</td>\n",
       "      <td>(en)</td>\n",
       "    </tr>\n",
       "    <tr>\n",
       "      <th>5</th>\n",
       "      <td>DokeV - World Premiere Gameplay Trailer | game...</td>\n",
       "      <td>omg my laptop ll boom i m waiting for this game</td>\n",
       "      <td>(en)</td>\n",
       "    </tr>\n",
       "  </tbody>\n",
       "</table>\n",
       "</div>"
      ],
      "text/plain": [
       "                                               title  \\\n",
       "1  DokeV - World Premiere Gameplay Trailer | game...   \n",
       "2  DokeV - World Premiere Gameplay Trailer | game...   \n",
       "3  DokeV - World Premiere Gameplay Trailer | game...   \n",
       "4  DokeV - World Premiere Gameplay Trailer | game...   \n",
       "5  DokeV - World Premiere Gameplay Trailer | game...   \n",
       "\n",
       "                                             comment  lang  \n",
       "1  do you remember the amazing longboarding scene...  (en)  \n",
       "2  i ' ve never seen a game trailer lag beforeit ...  (en)  \n",
       "3                                 : 어떻게 해서든 저 옷을 입겠다  (ko)  \n",
       "4  this trailer looks awesome i hope my video wil...  (en)  \n",
       "5    omg my laptop ll boom i m waiting for this game  (en)  "
      ]
     },
     "execution_count": 8,
     "metadata": {},
     "output_type": "execute_result"
    }
   ],
   "source": [
    "# 유튜브 크롤링 파일 로드\n",
    "path = '/home/lab10/game_analysis/preprocesing_comment/'\n",
    "\n",
    "comment_file = f'prepro_DokeV_youtube_comment.csv'     #DokeV\n",
    "data = pd.read_csv(path+comment_file, encoding='utf-8', header=None)\n",
    "data.columns = ['title','comment','lang']\n",
    "data.drop([0], inplace=True)\n",
    "data.fillna(\"None\", inplace=True)\n",
    "print(len(data))\n",
    "data.head()\n"
   ]
  },
  {
   "cell_type": "code",
   "execution_count": 10,
   "metadata": {
    "colab": {
     "base_uri": "https://localhost:8080/"
    },
    "id": "12kLLggz1uUd",
    "outputId": "373a9171-cbae-4389-bb7f-9be39f1b3591"
   },
   "outputs": [
    {
     "data": {
      "text/plain": [
       "array(['do you remember the amazing longboarding scene from the trailer check out the youtube channel of 롱보드 유지uz who helped us capture his longboard motions and watch his fascinating videos about longboarding https : / / wwwyoutubecom / uzseok',\n",
       "       \"i ' ve never seen a game trailer lag beforeit ' s a good sign that we are seeing actual unedited gameplaygood luck to your pc though\",\n",
       "       'this trailer looks awesome i hope my video will help people to know about these cuties creatures',\n",
       "       ...,\n",
       "       \"how can any of these guys consider themselves gamers and not even play a free cod alpha it ' s the biggest selling fps every year\",\n",
       "       'you still have kidsmoove here get rid of him bro so annoying',\n",
       "       '뽜'], dtype=object)"
      ]
     },
     "execution_count": 10,
     "metadata": {},
     "output_type": "execute_result"
    }
   ],
   "source": [
    "data_ko = pd.DataFrame([kor[1:2] for kor in data.values if kor[2] == '(ko)'], columns=['comment'])\n",
    "data_en = pd.DataFrame([en[1:2] for en in data.values if en[2] == '(en)'], columns=['comment'])\n",
    "data_en.comment.values"
   ]
  },
  {
   "cell_type": "code",
   "execution_count": 11,
   "metadata": {
    "id": "O3DsdquY9VWL"
   },
   "outputs": [],
   "source": [
    "for i in range(len(data_en.comment)):\n",
    "    data_en.comment[i] = str(data_en.comment[i])\n"
   ]
  },
  {
   "cell_type": "code",
   "execution_count": 12,
   "metadata": {
    "colab": {
     "base_uri": "https://localhost:8080/"
    },
    "id": "ad0jp7wh11Dw",
    "outputId": "6bb755fb-b32d-479a-d690-f0fa20193c6d"
   },
   "outputs": [
    {
     "data": {
      "text/plain": [
       "3909"
      ]
     },
     "execution_count": 12,
     "metadata": {},
     "output_type": "execute_result"
    }
   ],
   "source": [
    "# 숫자제거 / 밑줄 제외한 특수문자 제거\n",
    "p = re.compile(\"[0-9]+\")\n",
    "q = re.compile(\"\\W+\")\n",
    "r = re.compile('[^a-zA-Z]+')\n",
    "\n",
    "en = []\n",
    "for i in data_en.comment.values:\n",
    "    tokens = re.sub(p,\" \",i)\n",
    "    tokens = re.sub(q,\" \",tokens)\n",
    "    tokens = re.sub(r,\" \", tokens)\n",
    "    en.append(tokens)\n",
    "len(en)"
   ]
  },
  {
   "cell_type": "code",
   "execution_count": 13,
   "metadata": {
    "colab": {
     "base_uri": "https://localhost:8080/"
    },
    "id": "POYm-rhx-YuF",
    "outputId": "f1bbc9d8-9b40-483d-e4cc-33e8f3e873a7"
   },
   "outputs": [
    {
     "data": {
      "text/plain": [
       "['do you remember the amazing longboarding scene from the trailer check out the youtube channel of uz who helped us capture his longboard motions and watch his fascinating videos about longboarding https wwwyoutubecom uzseok',\n",
       " 'i ve never seen a game trailer lag beforeit s a good sign that we are seeing actual unedited gameplaygood luck to your pc though']"
      ]
     },
     "execution_count": 13,
     "metadata": {},
     "output_type": "execute_result"
    }
   ],
   "source": [
    "en[:2]"
   ]
  },
  {
   "cell_type": "code",
   "execution_count": 14,
   "metadata": {
    "id": "HRnbKEGW2ogE"
   },
   "outputs": [],
   "source": [
    "# 불용어 제거\n",
    "import nltk\n",
    "from nltk.corpus import stopwords \n",
    "from nltk.tokenize import word_tokenize"
   ]
  },
  {
   "cell_type": "code",
   "execution_count": 15,
   "metadata": {
    "colab": {
     "base_uri": "https://localhost:8080/"
    },
    "id": "agTtOE2y5pyX",
    "outputId": "e0ead1a3-9be9-4702-a6dc-e3753f709e11"
   },
   "outputs": [
    {
     "name": "stderr",
     "output_type": "stream",
     "text": [
      "[nltk_data] Downloading package stopwords to /home/lab10/nltk_data...\n",
      "[nltk_data]   Package stopwords is already up-to-date!\n",
      "[nltk_data] Downloading package punkt to /home/lab10/nltk_data...\n",
      "[nltk_data]   Package punkt is already up-to-date!\n",
      "[nltk_data] Downloading package averaged_perceptron_tagger to\n",
      "[nltk_data]     /home/lab10/nltk_data...\n",
      "[nltk_data]   Package averaged_perceptron_tagger is already up-to-\n",
      "[nltk_data]       date!\n"
     ]
    },
    {
     "data": {
      "text/plain": [
       "True"
      ]
     },
     "execution_count": 15,
     "metadata": {},
     "output_type": "execute_result"
    }
   ],
   "source": [
    "nltk.download('stopwords')\n",
    "nltk.download('punkt')\n",
    "nltk.download('averaged_perceptron_tagger')"
   ]
  },
  {
   "cell_type": "code",
   "execution_count": 16,
   "metadata": {
    "colab": {
     "base_uri": "https://localhost:8080/"
    },
    "id": "DVEf1bHZ5rDI",
    "outputId": "ff1ee901-7b3d-4a77-9408-d7ed4d186417"
   },
   "outputs": [
    {
     "name": "stdout",
     "output_type": "stream",
     "text": [
      "[['remember', 'amazing', 'longboarding', 'scene', 'check', 'channel', 'uz', 'helped', 'us', 'capture', 'longboard', 'motions', 'watch', 'fascinating', 'videos', 'longboarding', 'wwwyoutubecom', 'uzseok'], ['never', 'seen', 'lag', 'beforeit', 'good', 'sign', 'seeing', 'actual', 'unedited', 'gameplaygood', 'luck', 'though'], ['looks', 'awesome', 'hope', 'video', 'help', 'know', 'cuties', 'creatures'], ['omg', 'laptop', 'boom', 'waiting'], ['looks', 'absolutely', 'brilliant'], ['classic', 'gamers', 'parents', 'play', 'together', 'kids', 'actually', 'enjoy', 'awesome'], ['open', 'world', 'pok', 'mon', 'look', 'like', 'looks', 'awesome'], ['good', 'want', 'graphics', 'beyes'], ['buying', 'daughter', 'buying'], ['recommendations', 'amaze', 'looks', 'looking', 'forward', 'looks', 'interesting', 'needs', 'recognition', 'gaming', 'media', 'hope', 'coming', 'ps', 'ps']]\n",
      "3909\n"
     ]
    }
   ],
   "source": [
    "stop_words = set(stopwords.words('english')) \n",
    "stop_words.update(('game','games','trailer','None','lol','people','pc','https','http','www','youtube','com'))\n",
    "\n",
    "res=[]\n",
    "for i in range(len(en)):\n",
    "    word_tokens = word_tokenize(en[i])\n",
    "\n",
    "    result = []\n",
    "    for w in word_tokens: \n",
    "        if w not in stop_words: \n",
    "            result.append(w) \n",
    "    res.append(result)\n",
    "\n",
    "# print(word_tokens) \n",
    "print(res[:10])\n",
    "print(len(res))"
   ]
  },
  {
   "cell_type": "code",
   "execution_count": 17,
   "metadata": {
    "colab": {
     "base_uri": "https://localhost:8080/"
    },
    "id": "8GZqmZ7S5s9x",
    "outputId": "a653552b-7386-4cdc-f78d-53875d127a4c"
   },
   "outputs": [
    {
     "data": {
      "text/plain": [
       "[[('remember', 'VB'),\n",
       "  ('amazing', 'JJ'),\n",
       "  ('longboarding', 'VBG'),\n",
       "  ('scene', 'NN'),\n",
       "  ('check', 'NN'),\n",
       "  ('channel', 'NN'),\n",
       "  ('uz', 'NN'),\n",
       "  ('helped', 'VBD'),\n",
       "  ('us', 'PRP'),\n",
       "  ('capture', 'VB'),\n",
       "  ('longboard', 'JJ'),\n",
       "  ('motions', 'NNS'),\n",
       "  ('watch', 'VBP'),\n",
       "  ('fascinating', 'VBG'),\n",
       "  ('videos', 'NNS'),\n",
       "  ('longboarding', 'VBG'),\n",
       "  ('wwwyoutubecom', 'NN'),\n",
       "  ('uzseok', 'NN')],\n",
       " [('never', 'RB'),\n",
       "  ('seen', 'VBN'),\n",
       "  ('lag', 'NN'),\n",
       "  ('beforeit', 'NN'),\n",
       "  ('good', 'JJ'),\n",
       "  ('sign', 'NN'),\n",
       "  ('seeing', 'VBG'),\n",
       "  ('actual', 'JJ'),\n",
       "  ('unedited', 'JJ'),\n",
       "  ('gameplaygood', 'NN'),\n",
       "  ('luck', 'NN'),\n",
       "  ('though', 'IN')]]"
      ]
     },
     "execution_count": 17,
     "metadata": {},
     "output_type": "execute_result"
    }
   ],
   "source": [
    "en_pos = []\n",
    "for i in range(len(res)):\n",
    "    tokens_pos = nltk.pos_tag(res[i])\n",
    "    en_pos.append(tokens_pos)\n",
    "en_pos[:2]"
   ]
  },
  {
   "cell_type": "code",
   "execution_count": 18,
   "metadata": {
    "colab": {
     "base_uri": "https://localhost:8080/"
    },
    "id": "fK0IG61v-gQU",
    "outputId": "c618343a-e32f-4aac-ad91-3757fe92eebb"
   },
   "outputs": [
    {
     "data": {
      "text/plain": [
       "['scene', 'check']"
      ]
     },
     "execution_count": 18,
     "metadata": {},
     "output_type": "execute_result"
    }
   ],
   "source": [
    "# 명사는 NN을 포함하고 있음을 알 수 있음\n",
    "en_NN=[]\n",
    "for i in range(len(en_pos)):\n",
    "    NN_words = []\n",
    "    for word, pos in en_pos[i]:\n",
    "        if 'NN' in pos:\n",
    "            NN_words.append(word)\n",
    "    en_NN.extend(NN_words)\n",
    "en_NN[:2]"
   ]
  },
  {
   "cell_type": "code",
   "execution_count": 19,
   "metadata": {
    "colab": {
     "base_uri": "https://localhost:8080/"
    },
    "id": "b6ZA5tPq-hvI",
    "outputId": "a3089bb1-e233-45eb-d2e4-9b988de087d0"
   },
   "outputs": [
    {
     "name": "stdout",
     "output_type": "stream",
     "text": [
      "[('looks', 232), ('pokemon', 211), ('dokev', 188), ('kids', 167), ('play', 167), ('world', 129), ('graphics', 118), ('mmo', 103), ('time', 102), ('song', 94), ('video', 89), ('abyss', 88), ('pearl', 88), ('look', 86), ('fun', 85), ('desert', 81), ('way', 75), ('thing', 71), ('gon', 70), ('something', 69)]\n"
     ]
    }
   ],
   "source": [
    "#9. 빈도분석\n",
    "from collections import Counter\n",
    "c = Counter(en_NN) # input type should be a list of words (or tokens)\n",
    "k = 20\n",
    "print(c.most_common(k)) # 빈도수 기준 상위 k개 단어 출력"
   ]
  },
  {
   "cell_type": "code",
   "execution_count": 20,
   "metadata": {
    "id": "rInmWAt1-lC-"
   },
   "outputs": [],
   "source": [
    "#wordclound\n",
    "import wordcloud\n",
    "from wordcloud import WordCloud\n",
    "import matplotlib.pyplot as plt\n",
    "\n",
    "noun_text = ''\n",
    "for word in en_NN:\n",
    "    noun_text = noun_text +' '+word\n"
   ]
  },
  {
   "cell_type": "code",
   "execution_count": 22,
   "metadata": {
    "colab": {
     "base_uri": "https://localhost:8080/",
     "height": 216
    },
    "id": "-pqSe0mv-nNg",
    "outputId": "7406ebb0-221f-4315-c34e-b7bba945483c"
   },
   "outputs": [
    {
     "data": {
      "image/png": "[encoded data removed]",
      "text/plain": [
       "<Figure size 432x288 with 1 Axes>"
      ]
     },
     "metadata": {
      "needs_background": "light"
     },
     "output_type": "display_data"
    },
    {
     "data": {
      "text/plain": [
       "<wordcloud.wordcloud.WordCloud at 0x7f1aa1fd0390>"
      ]
     },
     "execution_count": 22,
     "metadata": {},
     "output_type": "execute_result"
    }
   ],
   "source": [
    "wordcloud = WordCloud(max_font_size=60, relative_scaling=.5).generate(noun_text) # generate() 는 하나의 string value를 입력 받음\n",
    "plt.figure()\n",
    "plt.imshow(wordcloud, interpolation='bilinear')\n",
    "plt.axis(\"off\")\n",
    "plt.show()\n",
    "wordcloud.to_file('/home/lab10/game_analysis/wordcloud.png')"
   ]
  },
  {
   "cell_type": "code",
   "execution_count": 23,
   "metadata": {
    "id": "nDlaGfx0-qLi"
   },
   "outputs": [],
   "source": [
    "from sklearn.feature_extraction.text import TfidfVectorizer\n",
    "from sklearn.decomposition import LatentDirichletAllocation\n",
    "from sklearn.feature_extraction.text import CountVectorizer\n",
    "from nltk.tokenize import sent_tokenize\n"
   ]
  },
  {
   "cell_type": "code",
   "execution_count": 24,
   "metadata": {
    "colab": {
     "base_uri": "https://localhost:8080/"
    },
    "id": "WXAQi9tL-0oa",
    "outputId": "054a5bcc-5ec3-4e0c-8076-b348119f8ccb"
   },
   "outputs": [
    {
     "data": {
      "text/plain": [
       "[['remember',\n",
       "  'amazing',\n",
       "  'longboarding',\n",
       "  'scene',\n",
       "  'check',\n",
       "  'channel',\n",
       "  'helped',\n",
       "  'capture',\n",
       "  'longboard',\n",
       "  'motions',\n",
       "  'watch',\n",
       "  'fascinating',\n",
       "  'videos',\n",
       "  'longboarding',\n",
       "  'wwwyoutubecom',\n",
       "  'uzseok'],\n",
       " ['never',\n",
       "  'seen',\n",
       "  'lag',\n",
       "  'beforeit',\n",
       "  'good',\n",
       "  'sign',\n",
       "  'seeing',\n",
       "  'actual',\n",
       "  'unedited',\n",
       "  'gameplaygood',\n",
       "  'luck',\n",
       "  'though']]"
      ]
     },
     "execution_count": 24,
     "metadata": {},
     "output_type": "execute_result"
    }
   ],
   "source": [
    "## 3단어 이하 짧은 단어 제거\n",
    " # remove words less than three letters\n",
    "# print(res[1])\n",
    "# for word in res[1]:\n",
    "#     print(word)\n",
    "en_sent_less3=[]\n",
    "for i in range(len(res)):\n",
    "    tokens = [word for word in res[i] if len(word) >= 3]\n",
    "    en_sent_less3.append(tokens)\n",
    "en_sent_less3[:2]\n"
   ]
  },
  {
   "cell_type": "code",
   "execution_count": 25,
   "metadata": {
    "colab": {
     "base_uri": "https://localhost:8080/"
    },
    "id": "rg9QUzUI-2CM",
    "outputId": "b843f94c-45e0-4dfc-df48-f356c9dc48b5"
   },
   "outputs": [
    {
     "data": {
      "text/plain": [
       "['remember amazing longboarding scene check channel helped capture longboard motions watch fascinating videos longboarding wwwyoutubecom uzseok',\n",
       " 'never seen lag beforeit good sign seeing actual unedited gameplaygood luck though',\n",
       " 'looks awesome hope video help know cuties creatures',\n",
       " 'omg laptop boom waiting',\n",
       " 'looks absolutely brilliant',\n",
       " 'classic gamers parents play together kids actually enjoy awesome',\n",
       " 'open world pok mon look like looks awesome',\n",
       " 'good want graphics beyes',\n",
       " 'buying daughter buying',\n",
       " 'recommendations amaze looks looking forward looks interesting needs recognition gaming media hope coming',\n",
       " 'wow jeez looks insane graphics blew mind',\n",
       " 'official song suits perfectly thumbs musicians composer involved making',\n",
       " 'honestly coolest thing seen gaming world',\n",
       " 'looks amazing',\n",
       " 'willing pay full price hope micro transactions']"
      ]
     },
     "execution_count": 25,
     "metadata": {},
     "output_type": "execute_result"
    }
   ],
   "source": [
    "en_sent =[]\n",
    "for i in range(len(en_sent_less3)):\n",
    "    temp=\" \".join(en_sent_less3[i])\n",
    "    en_sent.append(temp)\n",
    "en_sent[:15]"
   ]
  },
  {
   "cell_type": "code",
   "execution_count": 26,
   "metadata": {
    "id": "ufwHSO1J-4Nx"
   },
   "outputs": [],
   "source": [
    "\"\"\"# 빈도수 계산을 위한 텍스트 데이터 벡터화\n",
    " - BoW 단어를 특성 벡터로 변환\n",
    " - TF-IDF 를 사용하여 단어 적합성 평가\n",
    "\"\"\"\n",
    "\n",
    "# BoW 모델로 벡터화\n",
    "count = CountVectorizer(ngram_range=(3,6),\n",
    "                        max_df = .1,\n",
    "                        max_features=5000, stop_words=None)\n",
    "docs = en_sent\n",
    "bag = count.fit_transform(docs)"
   ]
  },
  {
   "cell_type": "code",
   "execution_count": 27,
   "metadata": {
    "id": "7-Ql2Dz5-54z"
   },
   "outputs": [],
   "source": [
    "# TF_IDF 벡터화\n",
    "\n",
    "tfidf = TfidfVectorizer(ngram_range=(3,6), # 유니그램 바이그램으로 사용\n",
    "                        min_df = 3, # 3회 미만으로 등장하는 토큰은 무시\n",
    "                        max_df =0.95 # 많이 등장한 단어 5%의 토큰도 무시\n",
    "                        )\n",
    "docs_tf = tfidf.fit_transform(docs)"
   ]
  },
  {
   "cell_type": "code",
   "execution_count": 28,
   "metadata": {
    "id": "TvXuASTP-7So"
   },
   "outputs": [],
   "source": [
    "\"\"\"# 잠재 디리클레 할당을 사용한 토픽 모델링\"\"\"\n",
    "\n",
    "# LDA 사용 (BoW 기반)\n",
    "from sklearn.decomposition import LatentDirichletAllocation\n",
    "lda = LatentDirichletAllocation(n_components = 6,\n",
    "                                random_state = 1,\n",
    "                                learning_method = 'batch')\n",
    "\n",
    "X_topics = lda.fit_transform(bag)"
   ]
  },
  {
   "cell_type": "code",
   "execution_count": 29,
   "metadata": {
    "colab": {
     "base_uri": "https://localhost:8080/"
    },
    "id": "Xim5gYVt-8rc",
    "outputId": "24bf291b-f61f-47a7-99d2-74dc73bb31f1"
   },
   "outputs": [
    {
     "name": "stdout",
     "output_type": "stream",
     "text": [
      "토픽 1:\n",
      "['also believe crazy', 'made korea especially development', 'made korea especially development environment']\n",
      "토픽 2:\n",
      "['agonizing rectal pain', 'inspired korean mythology', 'korean mythology folklore']\n",
      "토픽 3:\n",
      "['pokemon legends arceus', 'sounds like yuna', 'actually looks like']\n",
      "토픽 4:\n",
      "['like pok mon', 'pokemon monster hunter', 'korean mythology folklore']\n",
      "토픽 5:\n",
      "['black desert online', 'looks like something', 'year old man']\n",
      "토픽 6:\n",
      "['wonder egg priority', 'sound like yuna', 'dreams fantasies dream fly']\n"
     ]
    }
   ],
   "source": [
    "# 결과 분석을 위해 각 토픽 당 중요 단어 3개 출력 (BoW 기반)\n",
    "n_top_word = 3\n",
    "feature_name = count.get_feature_names()\n",
    "for topic_idx, topic in enumerate(lda.components_):\n",
    "  print(\"토픽 %d:\" % (topic_idx+1))\n",
    "  print([feature_name[i] for i in topic.argsort()[:-n_top_word - 1: -1]])"
   ]
  },
  {
   "cell_type": "code",
   "execution_count": 30,
   "metadata": {
    "id": "IdcfE9QQ--EK"
   },
   "outputs": [],
   "source": [
    "# LDA 사용 (tf-idf 기반)\n",
    "lda_tfidf = LatentDirichletAllocation(n_components = 6,\n",
    "                                      random_state = 1,\n",
    "                                      learning_method = 'batch')\n",
    "\n",
    "X_topics = lda_tfidf.fit_transform(docs_tf)"
   ]
  },
  {
   "cell_type": "code",
   "execution_count": 31,
   "metadata": {
    "colab": {
     "base_uri": "https://localhost:8080/"
    },
    "id": "3dsn6PzS-_oC",
    "outputId": "802fe0cf-c441-4873-d480-25a3dfe84ecb"
   },
   "outputs": [
    {
     "name": "stdout",
     "output_type": "stream",
     "text": [
      "토픽 1:\n",
      "['abyss developing developing many', 'especially development environment know almost korean', 'grown adult could']\n",
      "토픽 2:\n",
      "['ducks regarded magical messengers nowhere realms', 'birds migrate disappear winter ancients thought', 'dokev art style kidsdokev']\n",
      "토픽 3:\n",
      "['count favorite mmo problems make', 'get next gen', 'fantasies dream fly']\n",
      "토픽 4:\n",
      "['dokev inspired korean', 'developing many new age time dokev', 'abyss developing developing many new']\n",
      "토픽 5:\n",
      "['age time dokev', 'different dokkaebi many', 'dokev name mischievous']\n",
      "토픽 6:\n",
      "['dokev crimson desert', 'ducks travel heaven earth water', 'grand theft auto kids']\n"
     ]
    }
   ],
   "source": [
    "# 결과 분석을 위해 각 토픽 당 중요 단어 10개 출력 (tf-idf 기반)\n",
    "n_top_word = 3\n",
    "feature_name = count.get_feature_names()\n",
    "for topic_idx, topic in enumerate(lda_tfidf.components_):\n",
    "  print(\"토픽 %d:\" % (topic_idx+1))\n",
    "  print([feature_name[i] for i in topic.argsort()[:-n_top_word - 1: -1]])\n"
   ]
  },
  {
   "cell_type": "markdown",
   "metadata": {
    "id": "0JR_Tm4WHCuM"
   },
   "source": []
  },
  {
   "cell_type": "markdown",
   "metadata": {
    "id": "ZCjaEd_IHCra"
   },
   "source": []
  },
  {
   "cell_type": "markdown",
   "metadata": {
    "id": "YyOB9ToWHCor"
   },
   "source": [
    "##Rake_nltk 라이브러리\n",
    "\n",
    "https://github.com/csurfer/rake-nltk\n"
   ]
  },
  {
   "cell_type": "markdown",
   "metadata": {
    "id": "nLwQi8YV8WSE"
   },
   "source": [
    "## Rake_nltk 이론적 배경\n",
    "\n",
    "\n",
    "https://www.researchgate.net/publication/227988510_Automatic_Keyword_Extraction_from_Individual_Documents"
   ]
  },
  {
   "cell_type": "code",
   "execution_count": 32,
   "metadata": {
    "id": "ieTYWjEI_B7E"
   },
   "outputs": [],
   "source": [
    "from rake_nltk import Rake"
   ]
  },
  {
   "cell_type": "code",
   "execution_count": 33,
   "metadata": {
    "id": "HotiOahtHDVg"
   },
   "outputs": [],
   "source": [
    "# raw= pd.read_csv('/content/drive/MyDrive/Colab Notebooks/[공유] Mulcam_Army 공유폴더!/크롤링 한 자료/youtube/영상별 댓글/comments_youtube_aespa.csv',header=None)\n",
    "# raw.columns=['comments','likes']\n",
    "# raw"
   ]
  },
  {
   "cell_type": "code",
   "execution_count": 34,
   "metadata": {
    "colab": {
     "base_uri": "https://localhost:8080/"
    },
    "id": "8-vN8GWapfAz",
    "outputId": "4a76072c-7304-4736-e21e-02f15c06ee3c"
   },
   "outputs": [
    {
     "data": {
      "text/plain": [
       "['remember amazing longboarding scene check channel helped capture longboard motions watch fascinating videos longboarding wwwyoutubecom uzseok',\n",
       " 'never seen lag beforeit good sign seeing actual unedited gameplaygood luck though',\n",
       " 'looks awesome hope video help know cuties creatures',\n",
       " 'omg laptop boom waiting',\n",
       " 'looks absolutely brilliant',\n",
       " 'classic gamers parents play together kids actually enjoy awesome',\n",
       " 'open world pok mon look like looks awesome',\n",
       " 'good want graphics beyes',\n",
       " 'buying daughter buying',\n",
       " 'recommendations amaze looks looking forward looks interesting needs recognition gaming media hope coming']"
      ]
     },
     "execution_count": 34,
     "metadata": {},
     "output_type": "execute_result"
    }
   ],
   "source": [
    "en_sent[:10]"
   ]
  },
  {
   "cell_type": "code",
   "execution_count": 39,
   "metadata": {
    "id": "KVSEkpX_qVuW"
   },
   "outputs": [],
   "source": [
    "text=\". \".join(en_sent)\n",
    "# text"
   ]
  },
  {
   "cell_type": "code",
   "execution_count": 40,
   "metadata": {
    "id": "BDcOh5v7AeyC"
   },
   "outputs": [],
   "source": [
    "# # Uses stopwords for english from NLTK, and all puntuation characters by\n",
    "# # default\n",
    "# r = Rake()\n",
    "\n",
    "# # Extraction given the text.\n",
    "# r.extract_keywords_from_text(<text to process>)\n",
    "\n",
    "# # Extraction given the list of strings where each string is a sentence.\n",
    "# r.extract_keywords_from_sentences(<list of sentences>)\n",
    "\n",
    "# # To get keyword phrases ranked highest to lowest.\n",
    "# r.get_ranked_phrases()\n",
    "\n",
    "# # To get keyword phrases ranked highest to lowest with scores.\n",
    "# r.get_ranked_phrases_with_scores()"
   ]
  },
  {
   "cell_type": "code",
   "execution_count": 41,
   "metadata": {
    "colab": {
     "base_uri": "https://localhost:8080/"
    },
    "id": "sOiA6-dZCerh",
    "outputId": "ddaa9645-cd18-4eee-c8d6-164e22c1307a"
   },
   "outputs": [
    {
     "data": {
      "text/plain": [
       "[(5050.571371692206,\n",
       "  'explanation foreigners know wooden stick bird sotdae korean wooden stone religious building believed handed least bronze age depicts bird perched perch bird sits sotdae usually recognized duck ducks fly sky roam freely water thus ancients considered ducks travel heaven earth water dragon palace addition ducks migratory birds migrate disappear winter ancients thought ducks left underworld therefore ducks regarded magical messengers nowhere realms life also afterlife sotdae also erected entrance village prevent evil spirits miscellaneous diseases considered lower deity meaning promoting korean traditional culture dokev'),\n",
       " (5050.571371692206,\n",
       "  'explanation foreigners know wooden stick bird sotdae korean wooden stone religious building believed handed least bronze age depicts bird perched perch bird sits sotdae usually recognized duck ducks fly sky roam freely water thus ancients considered ducks travel heaven earth water dragon palace addition ducks migratory birds migrate disappear winter ancients thought ducks left underworld therefore ducks regarded magical messengers nowhere realms life also afterlife sotdae also erected entrance village prevent evil spirits miscellaneous diseases considered lower deity meaning promoting korean traditional culture dokev'),\n",
       " (4820.25540512803,\n",
       "  'regarding question inderpreet singh cost regular rasterization increases linearly screen resolution overdraw often pixel shader runs also linearly scene complexity often vertex shader runs ray tracing cost increases linearly number rays logarithmically scene complexity increasing scene complexity theoretically come point ray tracing faster rasterization however nanite developers managed write renderer near constant cost per pixel independent scene complexity using ray tracing also offline renderers send thousands rays per pixel realtime ray tracing budget samples currently hardware would get thousands times faster worry performance ray tracing anymore'),\n",
       " (4670.469152791518,\n",
       "  'honest got remember team pokemon legends arceus diferent set skills one dokev gods sake black desert dokev see touch end think pokemon team rather given time polish rushed times teams little expirience genre trying innovate take account first open world pokemon made compared dokev creators end think problem creators pokemon company giving enough time also expect always rush pokemon next generation lets real bitching black white wasent bitch good enough taking account working pokemon time experts pixel art scrap experience stayed pixel art pokemon outsourced new innovative teams expirienced department wed better pokemon better pokemon models easier integration pokemon new pixels easier full models animate make would expirienced team'),\n",
       " (4165.460107375728,\n",
       "  'nvidia great comes pushing new tech really smart talented sure said stand way business seems like nvidia always introduces something pushes market amd plays catch quite hitting performance levels nvidia least year head start amd little behind open source tech produce much consumer friendly understand nvidia perspective keeping tech proprietary consumer makes think twice buying back sync freesync fairly new sync monitor absurdly expensive comparison pretty much every monitor made point supports freesync sync monitor make much sense worth price unless still using nvidia card older gtx series point good luck running modern refresh rates warrant sync'),\n",
       " (3133.9816826870997,\n",
       "  'appreciate digital foundry watch almost every video put say time dying light rtx rtx comparisons often see looking better kind like gamey look hyperrealistic look characters environments realistic would want shadows reflections incredibly realistic raytracing subjective many cases often like cube maps example ffxiv reflections convincing think sit boom least generation stick rasterization higher native resolution also consumes power gpus heats gpu mention fps hit large screen anything native upscaled takes away depth image compared native think next thing want instead think able'),\n",
       " (3048.3294997230437,\n",
       "  'watching multiple times thinking actually seems inspired digimon pokemonthe world seems digital universe made apparent girl end teleports toy inside kids playground island fun sometimes seems corrupted toys digital monsters attack city kids alter egos transform fight corrupted battle starts enter battle zone closed zone similar ffvii remake cloud force field surrounding instead block exiting battle zone must fight defeat capture attacking monster decorrupt monster revert back original form tags along help fight monsters future like pokemon'),\n",
       " (2658.69005732245,\n",
       "  'problem alex rich thinks xbox rdna gpus virtually identical rdna gpu compute unit compute unit xbox fancy machine learning hardware inside gpus using shader cores machine learning matrix cores found inside amd cdna chips able exact thing use shader cores machine learning real full rdna gpus including infinity cache xbox matrix cores either use shader cores machine learning pushing junk information'),\n",
       " (2375.0094749323207,\n",
       "  'watching multiple times understanding eventually improved others said pokemon style catching way insane many steroids also battle alongside team battle ensues apparently zones closed outside see cloud barriers battle areas inside battle zone take team pokemon fight enemy also apparently alter ego form like super hero seems extensive customizabilitymy head canon story right kind digital world sometimes things get corrupted kids destroy capture problem enemy think similar digimon'),\n",
       " (2352.727279808186,\n",
       "  'dokev mmo devs said decided feasible wanted multiplayer aspects full multiplayer mmo released primarily based pokemon styled aspects dokebi creatures creatures based kids dreams dreaming rockstar superhero dreams create dokebi order recruit dokebi things association dokebi described fileld things thought cool kids make could play kids essentially imaginary friends monsters fight look like general things child might look compare monster appears customizable housing cars clothes etc probable sell kind thing extra')]"
      ]
     },
     "execution_count": 41,
     "metadata": {},
     "output_type": "execute_result"
    }
   ],
   "source": [
    "r=Rake()\n",
    "r.extract_keywords_from_text(text)\n",
    "r.get_ranked_phrases_with_scores()[:10]"
   ]
  },
  {
   "cell_type": "code",
   "execution_count": 43,
   "metadata": {
    "colab": {
     "base_uri": "https://localhost:8080/"
    },
    "id": "MsN3CJAKH7NB",
    "outputId": "63356883-f893-4a9a-eb07-597c74931adf"
   },
   "outputs": [
    {
     "data": {
      "text/plain": [
       "[(5050.571371692206,\n",
       "  'explanation foreigners know wooden stick bird sotdae korean wooden stone religious building believed handed least bronze age depicts bird perched perch bird sits sotdae usually recognized duck ducks fly sky roam freely water thus ancients considered ducks travel heaven earth water dragon palace addition ducks migratory birds migrate disappear winter ancients thought ducks left underworld therefore ducks regarded magical messengers nowhere realms life also afterlife sotdae also erected entrance village prevent evil spirits miscellaneous diseases considered lower deity meaning promoting korean traditional culture dokev'),\n",
       " (5050.571371692206,\n",
       "  'explanation foreigners know wooden stick bird sotdae korean wooden stone religious building believed handed least bronze age depicts bird perched perch bird sits sotdae usually recognized duck ducks fly sky roam freely water thus ancients considered ducks travel heaven earth water dragon palace addition ducks migratory birds migrate disappear winter ancients thought ducks left underworld therefore ducks regarded magical messengers nowhere realms life also afterlife sotdae also erected entrance village prevent evil spirits miscellaneous diseases considered lower deity meaning promoting korean traditional culture dokev'),\n",
       " (4820.25540512803,\n",
       "  'regarding question inderpreet singh cost regular rasterization increases linearly screen resolution overdraw often pixel shader runs also linearly scene complexity often vertex shader runs ray tracing cost increases linearly number rays logarithmically scene complexity increasing scene complexity theoretically come point ray tracing faster rasterization however nanite developers managed write renderer near constant cost per pixel independent scene complexity using ray tracing also offline renderers send thousands rays per pixel realtime ray tracing budget samples currently hardware would get thousands times faster worry performance ray tracing anymore'),\n",
       " (4670.469152791518,\n",
       "  'honest got remember team pokemon legends arceus diferent set skills one dokev gods sake black desert dokev see touch end think pokemon team rather given time polish rushed times teams little expirience genre trying innovate take account first open world pokemon made compared dokev creators end think problem creators pokemon company giving enough time also expect always rush pokemon next generation lets real bitching black white wasent bitch good enough taking account working pokemon time experts pixel art scrap experience stayed pixel art pokemon outsourced new innovative teams expirienced department wed better pokemon better pokemon models easier integration pokemon new pixels easier full models animate make would expirienced team'),\n",
       " (4165.460107375728,\n",
       "  'nvidia great comes pushing new tech really smart talented sure said stand way business seems like nvidia always introduces something pushes market amd plays catch quite hitting performance levels nvidia least year head start amd little behind open source tech produce much consumer friendly understand nvidia perspective keeping tech proprietary consumer makes think twice buying back sync freesync fairly new sync monitor absurdly expensive comparison pretty much every monitor made point supports freesync sync monitor make much sense worth price unless still using nvidia card older gtx series point good luck running modern refresh rates warrant sync'),\n",
       " (3133.9816826870997,\n",
       "  'appreciate digital foundry watch almost every video put say time dying light rtx rtx comparisons often see looking better kind like gamey look hyperrealistic look characters environments realistic would want shadows reflections incredibly realistic raytracing subjective many cases often like cube maps example ffxiv reflections convincing think sit boom least generation stick rasterization higher native resolution also consumes power gpus heats gpu mention fps hit large screen anything native upscaled takes away depth image compared native think next thing want instead think able'),\n",
       " (3048.3294997230437,\n",
       "  'watching multiple times thinking actually seems inspired digimon pokemonthe world seems digital universe made apparent girl end teleports toy inside kids playground island fun sometimes seems corrupted toys digital monsters attack city kids alter egos transform fight corrupted battle starts enter battle zone closed zone similar ffvii remake cloud force field surrounding instead block exiting battle zone must fight defeat capture attacking monster decorrupt monster revert back original form tags along help fight monsters future like pokemon'),\n",
       " (2658.69005732245,\n",
       "  'problem alex rich thinks xbox rdna gpus virtually identical rdna gpu compute unit compute unit xbox fancy machine learning hardware inside gpus using shader cores machine learning matrix cores found inside amd cdna chips able exact thing use shader cores machine learning real full rdna gpus including infinity cache xbox matrix cores either use shader cores machine learning pushing junk information'),\n",
       " (2375.0094749323207,\n",
       "  'watching multiple times understanding eventually improved others said pokemon style catching way insane many steroids also battle alongside team battle ensues apparently zones closed outside see cloud barriers battle areas inside battle zone take team pokemon fight enemy also apparently alter ego form like super hero seems extensive customizabilitymy head canon story right kind digital world sometimes things get corrupted kids destroy capture problem enemy think similar digimon'),\n",
       " (2352.727279808186,\n",
       "  'dokev mmo devs said decided feasible wanted multiplayer aspects full multiplayer mmo released primarily based pokemon styled aspects dokebi creatures creatures based kids dreams dreaming rockstar superhero dreams create dokebi order recruit dokebi things association dokebi described fileld things thought cool kids make could play kids essentially imaginary friends monsters fight look like general things child might look compare monster appears customizable housing cars clothes etc probable sell kind thing extra')]"
      ]
     },
     "execution_count": 43,
     "metadata": {},
     "output_type": "execute_result"
    }
   ],
   "source": [
    "r1=Rake()\n",
    "r1.extract_keywords_from_sentences(en_sent)\n",
    "r1.get_ranked_phrases_with_scores()[:10]"
   ]
  },
  {
   "cell_type": "markdown",
   "metadata": {
    "id": "fNo3rO5q8Fp1"
   },
   "source": []
  },
  {
   "cell_type": "markdown",
   "metadata": {
    "id": "jqWYA2Ff8Fn6"
   },
   "source": []
  },
  {
   "cell_type": "markdown",
   "metadata": {
    "id": "1uUuW4N98FlB"
   },
   "source": []
  },
  {
   "cell_type": "markdown",
   "metadata": {
    "id": "lo8yiEXB8Fim"
   },
   "source": []
  },
  {
   "cell_type": "markdown",
   "metadata": {
    "id": "9Td75gZs8FgQ"
   },
   "source": [
    "K-means써볼까?\n"
   ]
  },
  {
   "cell_type": "code",
   "execution_count": 44,
   "metadata": {
    "id": "MDC0LrvVBktK"
   },
   "outputs": [],
   "source": [
    "# 텍스트 단어들의 어근 원형을 추출하기 위해 함수 생성\n",
    "from sklearn.feature_extraction.text import TfidfVectorizer\n",
    "import nltk\n",
    "import string\n",
    "\n",
    "# Tf-idf 벡터화시키면서 cusotmized해준 토큰화+어근추출 방식 tokenizer인자에 넣어주기\n",
    "# 벡터화시킬 Tf-idf 도구 옵션 추가해서 구축\n",
    "# 1,2gram적용, 빈도수 0.05이하, 0.85이상의 빈도수 단어들 제거\n",
    "tfidf_vect = TfidfVectorizer(ngram_range=(1,2),\n",
    "                            min_df=0.05, max_df=0.85)\n",
    "# fit_transform으로 위에서 구축한 도구로 텍스트 벡터화\n",
    "ftr_vect = tfidf_vect.fit_transform(en_sent)"
   ]
  },
  {
   "cell_type": "code",
   "execution_count": 45,
   "metadata": {
    "colab": {
     "base_uri": "https://localhost:8080/"
    },
    "id": "gpE7WKnmBraN",
    "outputId": "49b11296-0e54-4f5f-de5d-ea2380d29db4"
   },
   "outputs": [
    {
     "name": "stdout",
     "output_type": "stream",
     "text": [
      "                                                comment  label\n",
      "0     do you remember the amazing longboarding scene...      0\n",
      "2338                                          good song      0\n",
      "2339                                          nice song      0\n",
      "2340                                             second      0\n",
      "2341                                               subs      0\n",
      "...                                                 ...    ...\n",
      "2751                   i am all kinds of hype for dokev      5\n",
      "2754  can you imagine how a pokemon game would look ...      5\n",
      "2760  dokev might be what genshin was to me for chin...      5\n",
      "2740  dokev was easily the highlight and anyone sayi...      5\n",
      "2720      dokev vibes are the jolliest ive had in years      5\n",
      "\n",
      "[3909 rows x 2 columns]\n"
     ]
    }
   ],
   "source": [
    "# K-means로 3개 군집으로 문서 군집화시키기\n",
    "from sklearn.cluster import KMeans\n",
    "\n",
    "kmeans = KMeans(n_clusters=6, max_iter=10000, random_state=42)\n",
    "# 비지도 학습이니 feature로만 학습시키고 예측\n",
    "cluster_label = kmeans.fit_predict(ftr_vect)\n",
    "\n",
    "# 군집화한 레이블값들을 document_df 에 추가하기\n",
    "data_en['label'] = cluster_label\n",
    "print(data_en.sort_values(by=['label']))"
   ]
  },
  {
   "cell_type": "code",
   "execution_count": 46,
   "metadata": {
    "colab": {
     "base_uri": "https://localhost:8080/"
    },
    "id": "tVbEGIAPBTpd",
    "outputId": "6d36e0ac-3f53-4ee6-ed3e-41aa05cd7c52"
   },
   "outputs": [
    {
     "name": "stdout",
     "output_type": "stream",
     "text": [
      "(6, 5)\n",
      "[[0.         0.         0.         0.         0.        ]\n",
      " [0.00502269 0.24828601 0.89979416 0.01029263 0.00365424]\n",
      " [0.00708455 0.98318422 0.03234342 0.01099489 0.0145479 ]\n",
      " [0.01145032 0.12707217 0.07009368 0.00280012 0.93296085]\n",
      " [0.05892025 0.07148723 0.08638043 0.91568882 0.02817593]\n",
      " [0.9296648  0.09313357 0.05396624 0.00209574 0.05488725]]\n"
     ]
    }
   ],
   "source": [
    "# 문서의 feature(단어별) cluster_centers_확인해보자\n",
    "cluster_centers = kmeans.cluster_centers_\n",
    "print(cluster_centers.shape)\n",
    "print(cluster_centers)\n",
    "# shape의 행은 클러스터 레이블, 열은 벡터화 시킨 feature(단어들)"
   ]
  },
  {
   "cell_type": "code",
   "execution_count": 47,
   "metadata": {
    "colab": {
     "base_uri": "https://localhost:8080/"
    },
    "id": "KrzqFzvjBaDW",
    "outputId": "99144e5a-fb1d-4e2c-da4f-1e5f6d0864ec"
   },
   "outputs": [
    {
     "name": "stdout",
     "output_type": "stream",
     "text": [
      "#####Cluster Num: 0\n",
      "\n",
      "상위 5개 feature단어들:\n",
      " ['pokemon', 'play', 'looks', 'like', 'dokev']\n",
      "\n",
      "Cluster 0으로 분류된 문서들:\n",
      "['do you remember the amazing longboarding scene from the trailer check out the youtube channel of 롱보드 유지uz who helped us capture his longboard motions and watch his fascinating videos about longboarding https : / / wwwyoutubecom / uzseok', \"i ' ve never seen a game trailer lag beforeit ' s a good sign that we are seeing actual unedited gameplaygood luck to your pc though\", 'omg my laptop ll boom i m waiting for this game', 'how good do you want the graphics to beyes', 'no i m not buying this for my daughter i m buying this for myself']\n",
      "--------------------\n",
      "#####Cluster Num: 1\n",
      "\n",
      "상위 5개 feature단어들:\n",
      " ['looks', 'like', 'play', 'dokev', 'pokemon']\n",
      "\n",
      "Cluster 1으로 분류된 문서들:\n",
      "['this trailer looks awesome i hope my video will help people to know about these cuties creatures', 'this looks absolutely brilliant', 'this is how an open world pok mon game should look like this looks awesome', 'this was on my recommendations and i m amaze how this game looks i m looking forward to this game this looks so interesting this game needs more recognition in the gaming media i hope is coming to ps & ps', 'wow jeez this game looks so insane graphics blew my mind']\n",
      "--------------------\n",
      "#####Cluster Num: 2\n",
      "\n",
      "상위 5개 feature단어들:\n",
      " ['like', 'looks', 'pokemon', 'play', 'dokev']\n",
      "\n",
      "Cluster 2으로 분류된 문서들:\n",
      "[\"so as a child i would often fantasize about having secret super powers and getting attacked by monsters out of nowhere and i would use my secret powers to save everyone and everyone would be like oooh he ' s so coolso i guess i wasn ' t the only one and now it ' s a video game\", \"i ' m honestly so excited for this it just like pure fun and it doesn ' t take its self serious definitely gonna buy this\", \"this feels like seoul the game it has everything you ' d want from a tourist visit to korea : k - pop architecture cultural children ' s games and just pure oozing style\", 'this is how the next dragon nest game should look like', \"it ' s like gta and animal crossing had a lovechild and im % for this\"]\n",
      "--------------------\n",
      "#####Cluster Num: 3\n",
      "\n",
      "상위 5개 feature단어들:\n",
      " ['pokemon', 'like', 'looks', 'dokev', 'play']\n",
      "\n",
      "Cluster 3으로 분류된 문서들:\n",
      "['bro this game can do a corporation with pokemon then we can battle with pokemons', \"looks like a gorgeous game this is what pokemon could ' ve been but failed to become nintendo game freak & the pokemon company are just too old fashioned\", 'this game is what a proper next gen pokemon should be', 'this is what pokemon will eventually look like in years', 'imagine if pokemon could release on an actual powerful console nintendo']\n",
      "--------------------\n",
      "#####Cluster Num: 4\n",
      "\n",
      "상위 5개 feature단어들:\n",
      " ['play', 'looks', 'like', 'dokev', 'pokemon']\n",
      "\n",
      "Cluster 4으로 분류된 문서들:\n",
      "['not only for classic gamers but for those parents who play together with their kids and actually enjoy the game awesome', 'i want to play the first game seen in this video', 'we made a game for you to play with your kidsme someone who never wants kids : the target demographic', 'this game already is a masterpiece cant wait to play it but first polish it as much as you want no more cyberjunk please', 'never been this hyped to play a game since halo']\n",
      "--------------------\n",
      "#####Cluster Num: 5\n",
      "\n",
      "상위 5개 feature단어들:\n",
      " ['dokev', 'like', 'pokemon', 'looks', 'play']\n",
      "\n",
      "Cluster 5으로 분류된 문서들:\n",
      "['holy molly this is awesome hardcore oldtimer gamers now can really enjoy gaming together with their kids its pretty cool for both generation imoand maybe the name dokev is a pun for dokkaebi so we fight this dokkaebi entity maybe korean urban legend', 'cant wait to see your analysis video on dokev', \"can ' t wait for dokev love from india\", 'pokemon + pixar + korea = dokev', \"these interviews from asia gotta stop being like when you play dokev we want you to think i ' m in the world of dokev\"]\n",
      "--------------------\n"
     ]
    }
   ],
   "source": [
    "def get_cluster_details(cluster_model, cluster_data, feature_names,\n",
    "                       cluster_num, top_n_features=5):\n",
    "    cluster_details = {}\n",
    "    # 각 클러스터 레이블별 feature들의 center값들 내림차순으로 정렬 후의 인덱스를 반환\n",
    "    center_feature_idx = cluster_model.cluster_centers_.argsort()[:,::-1]\n",
    "    \n",
    "    # 개별 클러스터 레이블별로 \n",
    "    for cluster_num in range(cluster_num):\n",
    "        # 개별 클러스터별 정보를 담을 empty dict할당\n",
    "        cluster_details[cluster_num] = {}\n",
    "        cluster_details[cluster_num]['cluster'] = cluster_num\n",
    "        \n",
    "        # 각 feature별 center값들 정렬한 인덱스 중 상위 5개만 추출\n",
    "        top_ftr_idx = center_feature_idx[cluster_num, :top_n_features]\n",
    "        top_ftr = [feature_names[idx] for idx in top_ftr_idx]\n",
    "        # top_ftr_idx를 활용해서 상위 5개 feature들의 center값들 반환\n",
    "        # 반환하게 되면 array이기 떄문에 리스트로바꾸기\n",
    "        top_ftr_val = cluster_model.cluster_centers_[cluster_num, top_ftr_idx].tolist()\n",
    "        \n",
    "        # cluster_details 딕셔너리에다가 개별 군집 정보 넣어주기\n",
    "        cluster_details[cluster_num]['top_features'] = top_ftr\n",
    "        cluster_details[cluster_num]['top_featrues_value'] = top_ftr_val\n",
    "        # 해당 cluster_num으로 분류된 파일명(문서들) 넣어주기\n",
    "        comment = cluster_data[cluster_data['label']==cluster_num]['comment']\n",
    "        # filenames가 df으로 반환되기 떄문에 값들만 출력해서 array->list로 변환\n",
    "        comment = comment.values.tolist()\n",
    "        cluster_details[cluster_num]['comment'] = comment\n",
    "    \n",
    "    return cluster_details\n",
    "\n",
    "def print_cluster_details(cluster_details):\n",
    "    for cluster_num, cluster_detail in cluster_details.items():\n",
    "        print(f\"#####Cluster Num: {cluster_num}\")\n",
    "        print()\n",
    "        print(\"상위 5개 feature단어들:\\n\", cluster_detail['top_features'])\n",
    "        print()\n",
    "        print(f\"Cluster {cluster_num}으로 분류된 문서들:\\n{cluster_detail['comment'][:5]}\")\n",
    "        print('-'*20)\n",
    "\n",
    "feature_names = tfidf_vect.get_feature_names()\n",
    "cluster_details = get_cluster_details(cluster_model=kmeans,\n",
    "                                     cluster_data=data_en,\n",
    "                                     feature_names=feature_names,\n",
    "                                     cluster_num=6,\n",
    "                                     top_n_features=10)\n",
    "print_cluster_details(cluster_details)"
   ]
  },
  {
   "cell_type": "code",
   "execution_count": 48,
   "metadata": {
    "colab": {
     "base_uri": "https://localhost:8080/",
     "height": 206
    },
    "id": "DrtSmaEcZ0Xw",
    "outputId": "dcbe2e06-b8f4-45c9-8b32-6a372811cf5a"
   },
   "outputs": [
    {
     "data": {
      "text/html": [
       "<div>\n",
       "<style scoped>\n",
       "    .dataframe tbody tr th:only-of-type {\n",
       "        vertical-align: middle;\n",
       "    }\n",
       "\n",
       "    .dataframe tbody tr th {\n",
       "        vertical-align: top;\n",
       "    }\n",
       "\n",
       "    .dataframe thead th {\n",
       "        text-align: right;\n",
       "    }\n",
       "</style>\n",
       "<table border=\"1\" class=\"dataframe\">\n",
       "  <thead>\n",
       "    <tr style=\"text-align: right;\">\n",
       "      <th></th>\n",
       "      <th>comment</th>\n",
       "      <th>label</th>\n",
       "    </tr>\n",
       "  </thead>\n",
       "  <tbody>\n",
       "    <tr>\n",
       "      <th>0</th>\n",
       "      <td>do you remember the amazing longboarding scene...</td>\n",
       "      <td>0</td>\n",
       "    </tr>\n",
       "    <tr>\n",
       "      <th>1</th>\n",
       "      <td>i ' ve never seen a game trailer lag beforeit ...</td>\n",
       "      <td>0</td>\n",
       "    </tr>\n",
       "    <tr>\n",
       "      <th>2</th>\n",
       "      <td>this trailer looks awesome i hope my video wil...</td>\n",
       "      <td>1</td>\n",
       "    </tr>\n",
       "    <tr>\n",
       "      <th>3</th>\n",
       "      <td>omg my laptop ll boom i m waiting for this game</td>\n",
       "      <td>0</td>\n",
       "    </tr>\n",
       "    <tr>\n",
       "      <th>4</th>\n",
       "      <td>this looks absolutely brilliant</td>\n",
       "      <td>1</td>\n",
       "    </tr>\n",
       "  </tbody>\n",
       "</table>\n",
       "</div>"
      ],
      "text/plain": [
       "                                             comment  label\n",
       "0  do you remember the amazing longboarding scene...      0\n",
       "1  i ' ve never seen a game trailer lag beforeit ...      0\n",
       "2  this trailer looks awesome i hope my video wil...      1\n",
       "3    omg my laptop ll boom i m waiting for this game      0\n",
       "4                    this looks absolutely brilliant      1"
      ]
     },
     "execution_count": 48,
     "metadata": {},
     "output_type": "execute_result"
    }
   ],
   "source": [
    "data_en.head()"
   ]
  },
  {
   "cell_type": "code",
   "execution_count": 49,
   "metadata": {
    "id": "fMjELoBeBaM2"
   },
   "outputs": [],
   "source": [
    "# 클러스터링된 문서들 중에서 특정 문서를 하나 선택한 후 비슷한 문서 추출\n",
    "from sklearn.metrics.pairwise import cosine_similarity\n"
   ]
  },
  {
   "cell_type": "code",
   "execution_count": 50,
   "metadata": {
    "colab": {
     "base_uri": "https://localhost:8080/"
    },
    "id": "6eEURWn-01Y4",
    "outputId": "6eda0188-ec81-4d91-aa4c-0024d59f51cd"
   },
   "outputs": [
    {
     "name": "stdout",
     "output_type": "stream",
     "text": [
      "호텔 카테고리로 클러스터링된 문서들의 인덱스:\n",
      " Int64Index([   2,    4,    6,    9,   10,   13,   17,   19,   52,   53,\n",
      "            ...\n",
      "            3761, 3802, 3803, 3809, 3825, 3826, 3831, 3833, 3843, 3851],\n",
      "           dtype='int64', length=362)\n",
      "\n",
      "##유사도 비교 기준 문서 이름: this trailer looks awesome i hope my video will help people to know about these cuties creatures ##\n",
      "\n"
     ]
    }
   ],
   "source": [
    "\n",
    "hotel_idx = data_en[data_en['label']==1].index\n",
    "print(\"호텔 카테고리로 클러스터링된 문서들의 인덱스:\\n\",hotel_idx)\n",
    "print()\n",
    "# 호텔 카테고리로 클러스터링 된 문서들의 인덱스 중 하나 선택해 비교 기준으로 삼을 문서 선정\n",
    "comparison_doc = data_en.iloc[hotel_idx[0]]['comment']\n",
    "print(\"##유사도 비교 기준 문서 이름:\",comparison_doc,'##')\n",
    "print()\n",
    "\n",
    "# 위에서 추출한 호텔 카테고리로 클러스터링된 문서들의 인덱스 중 0번인덱스(비교기준문서)제외한\n",
    "# 다른 문서들과의 유사도 측정\n",
    "similarity = cosine_similarity(ftr_vect[hotel_idx[0]], ftr_vect[hotel_idx])\n",
    "# print(similarity)\n"
   ]
  },
  {
   "cell_type": "code",
   "execution_count": 55,
   "metadata": {
    "colab": {
     "base_uri": "https://localhost:8080/"
    },
    "id": "AzODQHXkaHoz",
    "outputId": "395250ee-5e74-4dba-c82e-99b3dd308234"
   },
   "outputs": [
    {
     "name": "stdout",
     "output_type": "stream",
     "text": [
      "\n",
      "길이 비교 361 361\n",
      "\n"
     ]
    },
    {
     "data": {
      "text/plain": [
       "Text(0.5, 1.0, 'this trailer looks awesome i hope my video will help people to know about these cuties creatures')"
      ]
     },
     "execution_count": 55,
     "metadata": {},
     "output_type": "execute_result"
    },
    {
     "data": {
      "image/png": "[encoded data removed]",
      "text/plain": [
       "<Figure size 1080x720 with 1 Axes>"
      ]
     },
     "metadata": {
      "needs_background": "light"
     },
     "output_type": "display_data"
    }
   ],
   "source": [
    "# 비교기준 문서와 다른 문서들간의 유사도 살펴보기\n",
    "import seaborn as sns\n",
    "import numpy as np\n",
    "import matplotlib.pyplot as plt\n",
    "# array 내림차순으로 정렬한 후 인덱스 반환 [:,::-1] 모든행에 대해서 열을 내림차순으로!\n",
    "sorted_idx = similarity.argsort()[:,::-1]\n",
    "# 비교문서 당사자는 제외한 인덱스 추출\n",
    "sorted_idx = sorted_idx[:, 1:]\n",
    "\n",
    "# 유사도가 큰 순으로 hotel_idx(label=1인 즉, 호텔과관련된 내용의 문서이름들의 index들)에서 재 정렬 \n",
    "# index로 넣으려면 1차원으로 reshape해주기!\n",
    "hotel_sorted_idx = hotel_idx[sorted_idx.reshape(-1,)]\n",
    "# 유사도 행렬값들을 유사도가 큰 순으로 재정렬(비교 문서 당사자는 제외)\n",
    "hotel_sim_values = np.sort(similarity.reshape(-1,))[::-1]\n",
    "hotel_sim_values = hotel_sim_values[1:]\n",
    "# 이렇게 되면 비교문서와 가장 유사한 순으로 '해당문서의index-유사도값' 으로 동일한 위치가 매핑된 두 개의 array!\n",
    "# 그래서 그대로 데이터프레임의 각 칼럼으로 넣어주기\n",
    "# print(hotel_sorted_idx)\n",
    "# print(hotel_sim_values)\n",
    "print()\n",
    "print(\"길이 비교\", len(hotel_sorted_idx), len(hotel_sim_values))\n",
    "print()\n",
    "# 빈 데이터프레임 생성\n",
    "hotel_sim_df = pd.DataFrame()\n",
    "# hotel_sorted_idx 와 hotel_sim_values 매핑시킨 array임\n",
    "hotel_sim_df['comment'] = data_en.iloc[hotel_sorted_idx]['comment']\n",
    "hotel_sim_df['similarity'] = hotel_sim_values\n",
    "\n",
    "plt.figure(figsize=(15,10))\n",
    "sns.barplot(data=hotel_sim_df[:10], x='similarity', y='comment')\n",
    "plt.title(comparison_doc)"
   ]
  },
  {
   "cell_type": "markdown",
   "metadata": {
    "id": "BJul2pmpvA4n"
   },
   "source": [
    "https://techblog-history-younghunjo1.tistory.com/114"
   ]
  },
  {
   "cell_type": "code",
   "execution_count": 40,
   "metadata": {
    "id": "Zdc3mTQAaIAZ"
   },
   "outputs": [],
   "source": []
  },
  {
   "cell_type": "markdown",
   "metadata": {
    "id": "L_wF06sm8pWg"
   },
   "source": [
    "Text Rank\n"
   ]
  },
  {
   "cell_type": "code",
   "execution_count": 41,
   "metadata": {
    "colab": {
     "base_uri": "https://localhost:8080/",
     "height": 109
    },
    "id": "gb2fJL0l8rBW",
    "outputId": "715e5be7-ca39-44d6-c78b-2dd65307ba7b"
   },
   "outputs": [
    {
     "data": {
      "application/vnd.google.colaboratory.intrinsic+json": {
       "type": "string"
      },
      "text/plain": [
       "'\\nimport numpy as np\\nimport matplotlib.pyplot as plt\\nfrom copy import deepcopy\\nimport time\\nimport nltk\\nfrom sklearn.feature_extraction.text import TfidfVectorizer\\nfrom sklearn.metrics.pairwise import cosine_similarity\\nimport time\\ntime.sleep(1)\\ndef get_TR(C, d, TR, n, decimal):\\n    new_TR = deepcopy(TR)\\n    for idx in range(n):\\n        res = 0\\n        for near_idx in range(n):\\n            if C[idx][near_idx] == 0: continue\\n            res += C[idx][near_idx] / sum(C[near_idx]) * new_TR[near_idx]\\n        res = (1-d)/n + d * res\\n        new_TR[idx] = round(res, decimal)\\n    return new_TR\\n\\ndef TextRank(C,d, TR, N,decimal):\\n    new_TR = deepcopy(TR)\\n    for x in range(N):\\n        res = 0 \\n        for y in range(N):\\n            res += C[x][y] / sum(C[y]) * new_TR[y]\\n        res = (1-d)/N +d * res\\n        new_TR[x] = round(res, decimal)\\n    return new_TR\\n\\ndef update_TR(C, d=1, stp=1, decimal=2):\\n    \"\"\"\\n    step : 반복 횟수\\n    decimal : TR 값 소수점 표출 자리수 지정\\n    \"\"\"\\n    n = C.shape[0]\\n    TR = [1/n for _ in range(n)]\\n    TRs = [TR]\\n    errors = []\\n    for _ in range(step):\\n        new_TR = get_TR(C, d, TR, n, decimal)\\n        error = sum([abs(TR[i] - new_TR[i]) for i in range(n)])\\n        errors.append(error)\\n        TRs.append(new_TR)\\n        TR = new_TR\\n    return TRs, errors\\n\\nText =  np.array([[0, 0.2, 0, 0.3],\\n                  [0.2, 0, 0.4, 0],\\n                  [0, 0.4, 0, 0],\\n                  [0.3, 0, 0, 0]])\\nN=Text.shape[0]\\nTRs, errors = update_TR(Text, d=0.85, step=10, decimal=4)\\n\\n# print(TRs)\\n# for TR in TRs:\\n#      print(TR)\\n# print()\\nprint(f\"final TR : {TRs[-1]}\")\\nprint()\\n\\nplt.plot(errors)\\nplt.xlabel(\\'Number of iterations\\')\\nplt.ylabel(\\'Error rate\\')\\nplt.show()\\n'"
      ]
     },
     "execution_count": 41,
     "metadata": {},
     "output_type": "execute_result"
    }
   ],
   "source": [
    "'''\n",
    "import numpy as np\n",
    "import matplotlib.pyplot as plt\n",
    "from copy import deepcopy\n",
    "import time\n",
    "import nltk\n",
    "from sklearn.feature_extraction.text import TfidfVectorizer\n",
    "from sklearn.metrics.pairwise import cosine_similarity\n",
    "import time\n",
    "time.sleep(1)\n",
    "def get_TR(C, d, TR, n, decimal):\n",
    "    new_TR = deepcopy(TR)\n",
    "    for idx in range(n):\n",
    "        res = 0\n",
    "        for near_idx in range(n):\n",
    "            if C[idx][near_idx] == 0: continue\n",
    "            res += C[idx][near_idx] / sum(C[near_idx]) * new_TR[near_idx]\n",
    "        res = (1-d)/n + d * res\n",
    "        new_TR[idx] = round(res, decimal)\n",
    "    return new_TR\n",
    "\n",
    "def TextRank(C,d, TR, N,decimal):\n",
    "    new_TR = deepcopy(TR)\n",
    "    for x in range(N):\n",
    "        res = 0 \n",
    "        for y in range(N):\n",
    "            res += C[x][y] / sum(C[y]) * new_TR[y]\n",
    "        res = (1-d)/N +d * res\n",
    "        new_TR[x] = round(res, decimal)\n",
    "    return new_TR\n",
    "\n",
    "def update_TR(C, d=1, stp=1, decimal=2):\n",
    "    \"\"\"\n",
    "    step : 반복 횟수\n",
    "    decimal : TR 값 소수점 표출 자리수 지정\n",
    "    \"\"\"\n",
    "    n = C.shape[0]\n",
    "    TR = [1/n for _ in range(n)]\n",
    "    TRs = [TR]\n",
    "    errors = []\n",
    "    for _ in range(step):\n",
    "        new_TR = get_TR(C, d, TR, n, decimal)\n",
    "        error = sum([abs(TR[i] - new_TR[i]) for i in range(n)])\n",
    "        errors.append(error)\n",
    "        TRs.append(new_TR)\n",
    "        TR = new_TR\n",
    "    return TRs, errors\n",
    "\n",
    "Text =  np.array([[0, 0.2, 0, 0.3],\n",
    "                  [0.2, 0, 0.4, 0],\n",
    "                  [0, 0.4, 0, 0],\n",
    "                  [0.3, 0, 0, 0]])\n",
    "N=Text.shape[0]\n",
    "TRs, errors = update_TR(Text, d=0.85, step=10, decimal=4)\n",
    "\n",
    "# print(TRs)\n",
    "# for TR in TRs:\n",
    "#      print(TR)\n",
    "# print()\n",
    "print(f\"final TR : {TRs[-1]}\")\n",
    "print()\n",
    "\n",
    "plt.plot(errors)\n",
    "plt.xlabel('Number of iterations')\n",
    "plt.ylabel('Error rate')\n",
    "plt.show()\n",
    "'''"
   ]
  },
  {
   "cell_type": "code",
   "execution_count": 42,
   "metadata": {
    "colab": {
     "base_uri": "https://localhost:8080/",
     "height": 109
    },
    "id": "Blov2FqrW_u9",
    "outputId": "df8e00ee-0ed9-4cb3-8973-367bd4c5d364"
   },
   "outputs": [
    {
     "data": {
      "application/vnd.google.colaboratory.intrinsic+json": {
       "type": "string"
      },
      "text/plain": [
       "'\\ntfidf = TfidfVectorizer()\\ntfidf_matrix = tfidf.fit_transform(en_sent).toarray()\\nn = tfidf_matrix.shape[0]\\nC = np.zeros(shape=(n, n))\\nprint(\\'유사도 행렬(C) 계산 시작...\\')\\nfor i in range(n):\\n    for j in range(n):\\n        sim = cosine_similarity(tfidf_matrix[i:i+1], tfidf_matrix[j:j+1])\\n        C[i][j] = sim\\n        C[j][i] = sim\\nnp.fill_diagonal(C, 0)\\nprint(\\'유사도 행렬(C) 계산 종료...\\')\\nprint()\\n\\n# print(C)\\n# print()\\n\\nprint(\\'TR 업데이트 시작...\\')\\nTRs, errors = update_TR(C, d=0.85, step=10, decimal=3)\\nprint(\\'TR 업데이트 종료...\\')\\nprint()\\n\\n# for TR in TRs:\\n#     print(TR)\\n# print()\\n\\nfinal_TR = TRs[-1]\\nprint(f\"final TR : {final_TR}\")\\nprint()\\n\\nimp_sentence_idx = np.argmax(final_TR)\\nprint(f\"most important sentence : {en[imp_sentence_idx]}\")\\nprint()\\n\\nplt.plot(errors)\\nplt.xlabel(\\'Number of iterations\\')\\nplt.ylabel(\\'Error rate\\')\\nplt.show()\\n'"
      ]
     },
     "execution_count": 42,
     "metadata": {},
     "output_type": "execute_result"
    }
   ],
   "source": [
    "# text='''\\\n",
    "# Maria Sharapova has basically no friends as tennis players on the WTA Tour. \\\n",
    "# The Russian player has no problems in openly speaking about it and in a recent interview she said: \\\n",
    "# 'I don't really hide any feelings too much. I think everyone knows this is my job here. \\\n",
    "# When I'm on the courts or when I'm on the court playing, I'm a competitor and I want to beat every \\\n",
    "# single person whether they're in the locker room or across the net. So I'm not the one to strike up \\\n",
    "# a conversation about the weather and know that in the next few minutes I have to go and try to win \\\n",
    "# a tennis match. I'm a pretty competitive girl. I say my hellos, but I'm not sending any players \\\n",
    "# flowers as well. Uhm, I'm not really friendly or close to many players. I have not a lot of friends \\\n",
    "# away from the courts.' When she said she is not really close to a lot of players, is that something \\\n",
    "# strategic that she is doing? Is it different on the men's tour than the women's tour? 'No, not at all. \\\n",
    "# I think just because you're in the same sport doesn't mean that you have to be friends with everyone \\\n",
    "# just because you're categorized, you're a tennis player, so you're going to get along with tennis players. \\\n",
    "# I think every person has different interests. I have friends that have completely different jobs and interests, \\\n",
    "# and I've met them in very different parts of my life. I think everyone just thinks because we're tennis players \\\n",
    "# we should be the greatest of friends. But ultimately tennis is just a very small part of what we do. \\\n",
    "# There are so many other things that we're interested in, that we do.' ALSO READ: Maria Sharapova reveals \\\n",
    "# how tennis keeps her motivated.'''\n",
    "\n",
    "# # stopwords = nltk.corpus.stopwords.words('english')\n",
    "# # stopwords.extend(['.'])\n",
    "\n",
    "# # sentences_org = nltk.sent_tokenize(text)\n",
    "# # sentences = []\n",
    "# # print('데이터 전처리 시작...')\n",
    "# # for sentence in sentences_org:\n",
    "# #     words = nltk.word_tokenize(sentence)\n",
    "# #     words = [word for word in words if word not in stopwords] # 불용어 제거\n",
    "# #     words = [word.lower() for word in words] # 소문자 변환\n",
    "# #     sentences.append(' '.join(words))\n",
    "# # print('데이터 전처리 종료...')\n",
    "# # print()\n",
    "'''\n",
    "tfidf = TfidfVectorizer()\n",
    "tfidf_matrix = tfidf.fit_transform(en_sent).toarray()\n",
    "n = tfidf_matrix.shape[0]\n",
    "C = np.zeros(shape=(n, n))\n",
    "print('유사도 행렬(C) 계산 시작...')\n",
    "for i in range(n):\n",
    "    for j in range(n):\n",
    "        sim = cosine_similarity(tfidf_matrix[i:i+1], tfidf_matrix[j:j+1])\n",
    "        C[i][j] = sim\n",
    "        C[j][i] = sim\n",
    "np.fill_diagonal(C, 0)\n",
    "print('유사도 행렬(C) 계산 종료...')\n",
    "print()\n",
    "\n",
    "# print(C)\n",
    "# print()\n",
    "\n",
    "print('TR 업데이트 시작...')\n",
    "TRs, errors = update_TR(C, d=0.85, step=10, decimal=3)\n",
    "print('TR 업데이트 종료...')\n",
    "print()\n",
    "\n",
    "# for TR in TRs:\n",
    "#     print(TR)\n",
    "# print()\n",
    "\n",
    "final_TR = TRs[-1]\n",
    "print(f\"final TR : {final_TR}\")\n",
    "print()\n",
    "\n",
    "imp_sentence_idx = np.argmax(final_TR)\n",
    "print(f\"most important sentence : {en[imp_sentence_idx]}\")\n",
    "print()\n",
    "\n",
    "plt.plot(errors)\n",
    "plt.xlabel('Number of iterations')\n",
    "plt.ylabel('Error rate')\n",
    "plt.show()\n",
    "'''"
   ]
  },
  {
   "cell_type": "markdown",
   "metadata": {
    "id": "vqSTGQxICGBD"
   },
   "source": []
  },
  {
   "cell_type": "code",
   "execution_count": 43,
   "metadata": {
    "id": "hEA7jRwKW_mu"
   },
   "outputs": [],
   "source": [
    "from collections import Counter\n",
    "\n",
    "def scan_vocabulary(sents, tokenize, min_count=2):\n",
    "    counter = Counter(w for sent in sents for w in tokenize(sent))\n",
    "    counter = {w:c for w,c in counter.items() if c >= min_count}\n",
    "    idx_to_vocab = [w for w, _ in sorted(counter.items(), key=lambda x:-x[1])]\n",
    "    vocab_to_idx = {vocab:idx for idx, vocab in enumerate(idx_to_vocab)}\n",
    "    return idx_to_vocab, vocab_to_idx\n",
    "    \n",
    "from collections import defaultdict\n",
    "\n",
    "def cooccurrence(tokens, vocab_to_idx, window=2, min_cooccurrence=2):\n",
    "    counter = defaultdict(int)\n",
    "    for s, tokens_i in enumerate(tokens):\n",
    "        vocabs = [vocab_to_idx[w] for w in tokens_i if w in vocab_to_idx]\n",
    "        n = len(vocabs)\n",
    "        for i, v in enumerate(vocabs):\n",
    "            if window <= 0:\n",
    "                b, e = 0, n\n",
    "            else:\n",
    "                b = max(0, i - window)\n",
    "                e = min(i + window, n)\n",
    "            for j in range(b, e):\n",
    "                if i == j:\n",
    "                    continue\n",
    "                counter[(v, vocabs[j])] += 1\n",
    "                counter[(vocabs[j], v)] += 1\n",
    "    counter = {k:v for k,v in counter.items() if v >= min_cooccurrence}\n",
    "    n_vocabs = len(vocab_to_idx)\n",
    "    return dict_to_mat(counter, n_vocabs, n_vocabs)\n",
    "from scipy.sparse import csr_matrix\n",
    "\n",
    "def dict_to_mat(d, n_rows, n_cols):\n",
    "    rows, cols, data = [], [], []\n",
    "    for (i, j), v in d.items():\n",
    "        rows.append(i)\n",
    "        cols.append(j)\n",
    "        data.append(v)\n",
    "    return csr_matrix((data, (rows, cols)), shape=(n_rows, n_cols))\n",
    "def word_graph(sents, tokenize=None, min_count=2, window=2, min_cooccurrence=2):\n",
    "    idx_to_vocab, vocab_to_idx = scan_vocabulary(sents, tokenize, min_count)\n",
    "    tokens = [tokenize(sent) for sent in sents]\n",
    "    g = cooccurrence(tokens, vocab_to_idx, window, min_cooccurrence, verbose)\n",
    "    return g, idx_to_vocab\n",
    "import numpy as np\n",
    "from sklearn.preprocessing import normalize\n",
    "\n",
    "def pagerank(x, df=0.85, max_iter=30):\n",
    "    assert 0 < df < 1\n",
    "\n",
    "    # initialize\n",
    "    A = normalize(x, axis=0, norm='l1')\n",
    "    R = np.ones(A.shape[0]).reshape(-1,1)\n",
    "    bias = (1 - df) * np.ones(A.shape[0]).reshape(-1,1)\n",
    "\n",
    "    # iteration\n",
    "    for _ in range(max_iter):\n",
    "        R = df * (A * R) + bias\n",
    "\n",
    "    return R\n",
    "def textrank_keyword(sents, tokenize, min_count, window, min_cooccurrence, df=0.85, max_iter=30, topk=30):\n",
    "    g, idx_to_vocab = word_graph(sents, tokenize, min_count, window, min_cooccurrence)\n",
    "    R = pagerank(g, df, max_iter).reshape(-1)\n",
    "    idxs = R.argsort()[-topk:]\n",
    "    keywords = [(idx_to_vocab[idx], R[idx]) for idx in reversed(idxs)]\n",
    "    return keywords\n",
    "\n",
    "from collections import Counter\n",
    "from scipy.sparse import csr_matrix\n",
    "import math\n",
    "\n",
    "def sent_graph(sents, tokenize, similarity, min_count=2, min_sim=0.3):\n",
    "    _, vocab_to_idx = scan_vocabulary(sents, tokenize, min_count)\n",
    "\n",
    "    tokens = [[w for w in tokenize(sent) if w in vocab_to_idx] for sent in sents]\n",
    "    rows, cols, data = [], [], []\n",
    "    n_sents = len(tokens)\n",
    "    for i, tokens_i in enumerate(tokens):\n",
    "        for j, tokens_j in enumerate(tokens):\n",
    "            if i >= j:\n",
    "                continue\n",
    "            sim = similarity(tokens_i, tokens_j)\n",
    "            if sim < min_sim:\n",
    "                continue\n",
    "            rows.append(i)\n",
    "            cols.append(j)\n",
    "            data.append(sim)\n",
    "    return csr_matrix((data, (rows, cols)), shape=(n_sents, n_sents))\n",
    "\n",
    "def textrank_sent_sim(s1, s2):\n",
    "    n1 = len(s1)\n",
    "    n2 = len(s2)\n",
    "    if (n1 <= 1) or (n2 <= 1):\n",
    "        return 0\n",
    "    common = len(set(s1).intersection(set(s2)))\n",
    "    base = math.log(n1) + math.log(n2)\n",
    "    return common / base\n",
    "\n",
    "def cosine_sent_sim(s1, s2):\n",
    "    if (not s1) or (not s2):\n",
    "        return 0\n",
    "\n",
    "    s1 = Counter(s1)\n",
    "    s2 = Counter(s2)\n",
    "    norm1 = math.sqrt(sum(v ** 2 for v in s1.values()))\n",
    "    norm2 = math.sqrt(sum(v ** 2 for v in s2.values()))\n",
    "    prod = 0\n",
    "    for k, v in s1.items():\n",
    "        prod += v * s2.get(k, 0)\n",
    "    return prod / (norm1 * norm2)\n",
    "def textrank_keysentence(sents, tokenize, min_count, similarity, df=0.85, max_iter=30, topk=5):\n",
    "    g = sent_graph(sents, tokenize, min_count, min_sim, similarity)\n",
    "    R = pagerank(g, df, max_iter).reshape(-1)\n",
    "    idxs = R.argsort()[-topk:]\n",
    "    keysents = [(idx, R[idx], sents[idx]) for idx in reversed(idxs)]\n",
    "    return keysents"
   ]
  },
  {
   "cell_type": "code",
   "execution_count": 44,
   "metadata": {
    "colab": {
     "base_uri": "https://localhost:8080/"
    },
    "id": "7Anlr0OmLxwr",
    "outputId": "3c6a5b6f-497a-4121-c355-6bc2e24a47cb"
   },
   "outputs": [
    {
     "name": "stdout",
     "output_type": "stream",
     "text": [
      "Requirement already satisfied: textrank in /usr/local/lib/python3.7/dist-packages (0.1.0)\n"
     ]
    }
   ],
   "source": [
    "!pip install textrank"
   ]
  },
  {
   "cell_type": "code",
   "execution_count": 45,
   "metadata": {
    "colab": {
     "base_uri": "https://localhost:8080/",
     "height": 109
    },
    "id": "J3GYXhBeJVYm",
    "outputId": "52446f9a-d6ae-4a02-e067-d49d83741a7d"
   },
   "outputs": [
    {
     "data": {
      "application/vnd.google.colaboratory.intrinsic+json": {
       "type": "string"
      },
      "text/plain": [
       "\"\\nfrom textrank import KeywordSummarizer\\ndef nltk_tokenize(sent):\\n    words = nltk.pos_tag(sent, join=True)\\n    words = [w for w in words if ('/NN' in w or '/XR' in w or '/VA' in w or '/VV' in w)]\\n    return words\\n\\nkeyword_extractor = KeywordSummarizer(\\n    tokenize = nltk_tokenize,\\n    window = -1,\\n    verbose = False\\n)\\n\\nkeywords = keyword_extractor.summarize(res, topk=30)\\n    \\ndef komoran_tokenize(sent):\\n    return komoran.pos(sent, join=True)\\n\\nkeyword_extractor = KeywordSummarizer(tokenize = komoran_tokenize, window = -1)\\nkeywords = keyword_extractor.summarize(sents, topk=30)\\n\\ndef komoran_tokenize(sent):\\n    words = komoran.pos(sent, join=True)\\n    words = [w for w in words if ('/NN' in w or '/XR' in w or '/VA' in w or '/VV' in w)]\\n    return words\\n\\nkeyword_extractor = KeywordSummarizer(tokenize = komoran_tokenize, window = 2)\\nkeywords = keyword_extractor.summarize(sents, topk=30)\\n\\nfrom textrank import KeysentenceSummarizer\\n\\nsummarizer = KeysentenceSummarizer(tokenize = komoran_tokenize, min_sim = 0.5)\\nkeysents = summarizer.summarize(sents, topk=10)\\n\\nsummarizer = KeysentenceSummarizer(tokenize = komoran_tokenizer, min_sim = 0.3)\\nkeysents = summarizer.summarize(sents, topk=3)\\n\\n\\ndef subword_tokenizer(sent, n=3):\\n    def subword(token, n):\\n        if len(token) <= n:\\n            return [token]\\n        return [token[i:i+n] for i in range(len(token) - n)]\\n    return [sub for token in sent.split() for sub in subword(token, n)]\\n\\nsubword_tokenizer('이것은 부분단어의 예시입니다 짧은 어절은 그대로 나옵니다')\\n# ['이것은', '부분단', '분단어', '단어의', '예시입', '시입니', '입니다', '짧은', '어절은', '그대로', '나옵니', '옵니다']\\n\\nsummarizer = KeysentenceSummarizer(tokenize = subword_tokenizer, min_sim = 0.3)\\nkeysents = summarizer.summarize(sents, topk=3)\\n\\n\\nsummarizer.R\\n\\nimport numpy as np\\n\\nbias = np.ones(len(sents))\\nbias[-1] = 10\\nkeysents = summarizer.summarize(sents, topk=3, bias=bias)\\n\\nsummarizer.R\\n\""
      ]
     },
     "execution_count": 45,
     "metadata": {},
     "output_type": "execute_result"
    }
   ],
   "source": [
    "'''\n",
    "from textrank import KeywordSummarizer\n",
    "def nltk_tokenize(sent):\n",
    "    words = nltk.pos_tag(sent, join=True)\n",
    "    words = [w for w in words if ('/NN' in w or '/XR' in w or '/VA' in w or '/VV' in w)]\n",
    "    return words\n",
    "\n",
    "keyword_extractor = KeywordSummarizer(\n",
    "    tokenize = nltk_tokenize,\n",
    "    window = -1,\n",
    "    verbose = False\n",
    ")\n",
    "\n",
    "keywords = keyword_extractor.summarize(res, topk=30)\n",
    "    \n",
    "def komoran_tokenize(sent):\n",
    "    return komoran.pos(sent, join=True)\n",
    "\n",
    "keyword_extractor = KeywordSummarizer(tokenize = komoran_tokenize, window = -1)\n",
    "keywords = keyword_extractor.summarize(sents, topk=30)\n",
    "\n",
    "def komoran_tokenize(sent):\n",
    "    words = komoran.pos(sent, join=True)\n",
    "    words = [w for w in words if ('/NN' in w or '/XR' in w or '/VA' in w or '/VV' in w)]\n",
    "    return words\n",
    "\n",
    "keyword_extractor = KeywordSummarizer(tokenize = komoran_tokenize, window = 2)\n",
    "keywords = keyword_extractor.summarize(sents, topk=30)\n",
    "\n",
    "from textrank import KeysentenceSummarizer\n",
    "\n",
    "summarizer = KeysentenceSummarizer(tokenize = komoran_tokenize, min_sim = 0.5)\n",
    "keysents = summarizer.summarize(sents, topk=10)\n",
    "\n",
    "summarizer = KeysentenceSummarizer(tokenize = komoran_tokenizer, min_sim = 0.3)\n",
    "keysents = summarizer.summarize(sents, topk=3)\n",
    "\n",
    "\n",
    "def subword_tokenizer(sent, n=3):\n",
    "    def subword(token, n):\n",
    "        if len(token) <= n:\n",
    "            return [token]\n",
    "        return [token[i:i+n] for i in range(len(token) - n)]\n",
    "    return [sub for token in sent.split() for sub in subword(token, n)]\n",
    "\n",
    "subword_tokenizer('이것은 부분단어의 예시입니다 짧은 어절은 그대로 나옵니다')\n",
    "# ['이것은', '부분단', '분단어', '단어의', '예시입', '시입니', '입니다', '짧은', '어절은', '그대로', '나옵니', '옵니다']\n",
    "\n",
    "summarizer = KeysentenceSummarizer(tokenize = subword_tokenizer, min_sim = 0.3)\n",
    "keysents = summarizer.summarize(sents, topk=3)\n",
    "\n",
    "\n",
    "summarizer.R\n",
    "\n",
    "import numpy as np\n",
    "\n",
    "bias = np.ones(len(sents))\n",
    "bias[-1] = 10\n",
    "keysents = summarizer.summarize(sents, topk=3, bias=bias)\n",
    "\n",
    "summarizer.R\n",
    "'''"
   ]
  },
  {
   "cell_type": "code",
   "execution_count": null,
   "metadata": {
    "id": "cxGwgePjN0Sy"
   },
   "outputs": [],
   "source": [
    "from gensim.summarization.summarizer import summarize\n",
    "en_total=[]\n",
    "for i in range(len(en_sent)):\n",
    "    en_total.append(en_sent[i])\n",
    "en_total[:10]\n",
    "a=\"\\n\".join(en_total)\n",
    "summarize(a).split('\\n')"
   ]
  },
  {
   "cell_type": "code",
   "execution_count": null,
   "metadata": {
    "id": "eQwxIbu-N0OZ"
   },
   "outputs": [],
   "source": []
  },
  {
   "cell_type": "code",
   "execution_count": null,
   "metadata": {
    "id": "S5JDZKovN0MD"
   },
   "outputs": [],
   "source": []
  },
  {
   "cell_type": "code",
   "execution_count": null,
   "metadata": {
    "id": "yeGOu1lsJVOA"
   },
   "outputs": [],
   "source": []
  },
  {
   "cell_type": "markdown",
   "metadata": {
    "id": "i0e0Q7Li88AV"
   },
   "source": [
    "Word2vec"
   ]
  },
  {
   "cell_type": "code",
   "execution_count": null,
   "metadata": {
    "id": "gBMIeQVE89l2"
   },
   "outputs": [],
   "source": []
  },
  {
   "cell_type": "code",
   "execution_count": null,
   "metadata": {
    "id": "z2BQL_RovNsW"
   },
   "outputs": [],
   "source": []
  },
  {
   "cell_type": "code",
   "execution_count": null,
   "metadata": {
    "id": "G8mbxMcAy8gK"
   },
   "outputs": [],
   "source": []
  },
  {
   "cell_type": "code",
   "execution_count": null,
   "metadata": {
    "id": "kSP-taO2y_jb"
   },
   "outputs": [],
   "source": []
  },
  {
   "cell_type": "code",
   "execution_count": null,
   "metadata": {
    "id": "8m2BWA1E06Uk"
   },
   "outputs": [],
   "source": []
  }
 ],
 "metadata": {
  "colab": {
   "collapsed_sections": [],
   "name": "개별 아이돌 분석",
   "provenance": [],
   "toc_visible": true
  },
  "kernelspec": {
   "display_name": "Python 3",
   "language": "python",
   "name": "python3"
  },
  "language_info": {
   "codemirror_mode": {
    "name": "ipython",
    "version": 3
   },
   "file_extension": ".py",
   "mimetype": "text/x-python",
   "name": "python",
   "nbconvert_exporter": "python",
   "pygments_lexer": "ipython3",
   "version": "3.7.10"
  }
 },
 "nbformat": 4,
 "nbformat_minor": 1
}
