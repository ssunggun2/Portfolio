{
 "cells": [
  {
   "cell_type": "code",
   "execution_count": 1,
   "metadata": {
    "colab": {
     "base_uri": "https://localhost:8080/"
    },
    "executionInfo": {
     "elapsed": 2586,
     "status": "ok",
     "timestamp": 1633394073774,
     "user": {
      "displayName": "­안성근",
      "photoUrl": "https://lh3.googleusercontent.com/a/default-user=s64",
      "userId": "04685780130763146039"
     },
     "user_tz": -540
    },
    "id": "xZUPb1VzBygl",
    "outputId": "cc905c7f-678d-4f07-e520-2eb7b5097233"
   },
   "outputs": [
    {
     "name": "stdout",
     "output_type": "stream",
     "text": [
      "\u001b[33mWARNING: Ignoring invalid distribution -rpcio (/home/ubuntu/anaconda3/lib/python3.7/site-packages)\u001b[0m\n",
      "\u001b[33mWARNING: Ignoring invalid distribution -eras (/home/ubuntu/anaconda3/lib/python3.7/site-packages)\u001b[0m\n",
      "\u001b[33mWARNING: Ignoring invalid distribution -eras-preprocessing (/home/ubuntu/anaconda3/lib/python3.7/site-packages)\u001b[0m\n",
      "\u001b[33mWARNING: Ignoring invalid distribution -ensorflow (/home/ubuntu/anaconda3/lib/python3.7/site-packages)\u001b[0m\n",
      "\u001b[33mWARNING: Ignoring invalid distribution -ensorflow-estimator (/home/ubuntu/anaconda3/lib/python3.7/site-packages)\u001b[0m\n",
      "\u001b[33mWARNING: Ignoring invalid distribution -rpcio (/home/ubuntu/anaconda3/lib/python3.7/site-packages)\u001b[0m\n",
      "\u001b[33mWARNING: Ignoring invalid distribution -eras (/home/ubuntu/anaconda3/lib/python3.7/site-packages)\u001b[0m\n",
      "\u001b[33mWARNING: Ignoring invalid distribution -eras-preprocessing (/home/ubuntu/anaconda3/lib/python3.7/site-packages)\u001b[0m\n",
      "\u001b[33mWARNING: Ignoring invalid distribution -ensorflow (/home/ubuntu/anaconda3/lib/python3.7/site-packages)\u001b[0m\n",
      "\u001b[33mWARNING: Ignoring invalid distribution -ensorflow-estimator (/home/ubuntu/anaconda3/lib/python3.7/site-packages)\u001b[0m\n",
      "Collecting fasttext\n",
      "  Downloading fasttext-0.9.2.tar.gz (68 kB)\n",
      "\u001b[K     |████████████████████████████████| 68 kB 1.8 MB/s eta 0:00:01\n",
      "\u001b[?25hCollecting pybind11>=2.2\n",
      "  Using cached pybind11-2.8.0-py2.py3-none-any.whl (207 kB)\n",
      "Requirement already satisfied: setuptools>=0.7.0 in /home/ubuntu/anaconda3/lib/python3.7/site-packages (from fasttext) (46.4.0.post20200518)\n",
      "Requirement already satisfied: numpy in /home/ubuntu/anaconda3/lib/python3.7/site-packages (from fasttext) (1.19.2)\n",
      "Building wheels for collected packages: fasttext\n",
      "  Building wheel for fasttext (setup.py) ... \u001b[?25ldone\n",
      "\u001b[?25h  Created wheel for fasttext: filename=fasttext-0.9.2-cp37-cp37m-linux_x86_64.whl size=3290085 sha256=c84ba2abba85d819045a712129f2df1e2c99081675d92e66095452c81a100495\n",
      "  Stored in directory: /home/lab10/.cache/pip/wheels/4e/ca/bf/b020d2be95f7641801a6597a29c8f4f19e38f9c02a345bab9b\n",
      "Successfully built fasttext\n",
      "\u001b[33mWARNING: Ignoring invalid distribution -rpcio (/home/ubuntu/anaconda3/lib/python3.7/site-packages)\u001b[0m\n",
      "\u001b[33mWARNING: Ignoring invalid distribution -eras (/home/ubuntu/anaconda3/lib/python3.7/site-packages)\u001b[0m\n",
      "\u001b[33mWARNING: Ignoring invalid distribution -eras-preprocessing (/home/ubuntu/anaconda3/lib/python3.7/site-packages)\u001b[0m\n",
      "\u001b[33mWARNING: Ignoring invalid distribution -ensorflow (/home/ubuntu/anaconda3/lib/python3.7/site-packages)\u001b[0m\n",
      "\u001b[33mWARNING: Ignoring invalid distribution -ensorflow-estimator (/home/ubuntu/anaconda3/lib/python3.7/site-packages)\u001b[0m\n",
      "Installing collected packages: pybind11, fasttext\n",
      "\u001b[33mWARNING: Ignoring invalid distribution -rpcio (/home/ubuntu/anaconda3/lib/python3.7/site-packages)\u001b[0m\n",
      "\u001b[33mWARNING: Ignoring invalid distribution -eras (/home/ubuntu/anaconda3/lib/python3.7/site-packages)\u001b[0m\n",
      "\u001b[33mWARNING: Ignoring invalid distribution -eras-preprocessing (/home/ubuntu/anaconda3/lib/python3.7/site-packages)\u001b[0m\n",
      "\u001b[33mWARNING: Ignoring invalid distribution -ensorflow (/home/ubuntu/anaconda3/lib/python3.7/site-packages)\u001b[0m\n",
      "\u001b[33mWARNING: Ignoring invalid distribution -ensorflow-estimator (/home/ubuntu/anaconda3/lib/python3.7/site-packages)\u001b[0m\n",
      "\u001b[33mWARNING: Ignoring invalid distribution -rpcio (/home/ubuntu/anaconda3/lib/python3.7/site-packages)\u001b[0m\n",
      "\u001b[33mWARNING: Ignoring invalid distribution -eras (/home/ubuntu/anaconda3/lib/python3.7/site-packages)\u001b[0m\n",
      "\u001b[33mWARNING: Ignoring invalid distribution -eras-preprocessing (/home/ubuntu/anaconda3/lib/python3.7/site-packages)\u001b[0m\n",
      "\u001b[33mWARNING: Ignoring invalid distribution -ensorflow (/home/ubuntu/anaconda3/lib/python3.7/site-packages)\u001b[0m\n",
      "\u001b[33mWARNING: Ignoring invalid distribution -ensorflow-estimator (/home/ubuntu/anaconda3/lib/python3.7/site-packages)\u001b[0m\n",
      "Successfully installed fasttext-0.9.2 pybind11-2.8.0\n",
      "\u001b[33mWARNING: Ignoring invalid distribution -rpcio (/home/ubuntu/anaconda3/lib/python3.7/site-packages)\u001b[0m\n",
      "\u001b[33mWARNING: Ignoring invalid distribution -eras (/home/ubuntu/anaconda3/lib/python3.7/site-packages)\u001b[0m\n",
      "\u001b[33mWARNING: Ignoring invalid distribution -eras-preprocessing (/home/ubuntu/anaconda3/lib/python3.7/site-packages)\u001b[0m\n",
      "\u001b[33mWARNING: Ignoring invalid distribution -ensorflow (/home/ubuntu/anaconda3/lib/python3.7/site-packages)\u001b[0m\n",
      "\u001b[33mWARNING: Ignoring invalid distribution -ensorflow-estimator (/home/ubuntu/anaconda3/lib/python3.7/site-packages)\u001b[0m\n",
      "\u001b[33mWARNING: Ignoring invalid distribution -rpcio (/home/ubuntu/anaconda3/lib/python3.7/site-packages)\u001b[0m\n",
      "\u001b[33mWARNING: Ignoring invalid distribution -eras (/home/ubuntu/anaconda3/lib/python3.7/site-packages)\u001b[0m\n",
      "\u001b[33mWARNING: Ignoring invalid distribution -eras-preprocessing (/home/ubuntu/anaconda3/lib/python3.7/site-packages)\u001b[0m\n",
      "\u001b[33mWARNING: Ignoring invalid distribution -ensorflow (/home/ubuntu/anaconda3/lib/python3.7/site-packages)\u001b[0m\n",
      "\u001b[33mWARNING: Ignoring invalid distribution -ensorflow-estimator (/home/ubuntu/anaconda3/lib/python3.7/site-packages)\u001b[0m\n"
     ]
    }
   ],
   "source": [
    "\"\"\"# 언어별 분류 작업\n",
    "- 정확도가 높은 fasttext 모듈로 분류\n",
    "\"\"\"\n",
    "!pip install fasttext\n",
    "import copy\n",
    "import fasttext\n",
    "import pandas as pd\n",
    "import re"
   ]
  },
  {
   "cell_type": "code",
   "execution_count": null,
   "metadata": {
    "executionInfo": {
     "elapsed": 280,
     "status": "ok",
     "timestamp": 1633394121377,
     "user": {
      "displayName": "­안성근",
      "photoUrl": "https://lh3.googleusercontent.com/a/default-user=s64",
      "userId": "04685780130763146039"
     },
     "user_tz": -540
    },
    "id": "rNJ3bD3VBIU8"
   },
   "outputs": [],
   "source": [
    "def preprocessing(name):\n",
    "        \n",
    "    path = '/home/lab10/game_analysis/'\n",
    "    comment_file = f'comments_youtube_DokeV.csv'     #aespa\n",
    "    df = pd.read_csv(path+comment_file, encoding='utf-8', header=None)\n",
    "    df.columns=['comment','like']\n",
    "    \n",
    "    # 중복 값 제거\n",
    "    print(f\"{name} 전처리 시작\")\n",
    "    print('\\n')\n",
    "    print('중복 제거 전 :',df.shape)\n",
    "    df = df.drop_duplicates(['comment'],keep='last',ignore_index=True)\n",
    "    print(f'{name} 중복 제거 후 :',df.shape)\n",
    "    print('\\n')\n",
    "\n",
    "    # 소문자로 바꾸기\n",
    "    df['comment'] = df['comment'].str.lower()\n",
    "    \n",
    "    # 전처리 전 원본 보존\n",
    "    copy_data = copy.deepcopy(df)\n",
    "    \n",
    "    emoji_pattern = re.compile(\"[\"\n",
    "            u\"\\U0001F600-\\U0001F64F\"  # emoticons\n",
    "            u\"\\U0001F300-\\U0001F5FF\"  # symbols & pictographs\n",
    "            u\"\\U0001F680-\\U0001F6FF\"  # transport & map symbols\n",
    "            u\"\\U0001F1E0-\\U0001F1FF\"  # flags (iOS)\n",
    "                            \"]+\", flags=re.UNICODE)\n",
    "\n",
    "    #분석에 어긋나는 불용어구 제외 (특수문자, 의성어)\n",
    "    han = re.compile(r'[ㄱ-ㅎㅏ-ㅣ!?~,\".\\n\\r#\\ufeff\\u200d]')\n",
    "\n",
    "    comment_result = []\n",
    "\n",
    "    for i in copy_data['comment'].values:\n",
    "        tokens = re.sub(emoji_pattern,\"\",i)\n",
    "        tokens = re.sub(han,\"\",tokens)\n",
    "        comment_result.append(tokens)\n",
    "\n",
    "    punct = \"/-'?!.,#$%\\'()*+-/:;<=>@[\\\\]^_`{|}~\" + '\"\"“”’' + '∞θ÷α•à−β∅³π‘₹´°£€\\×™√²—–&'\n",
    "\n",
    "    punct_mapping = {\"‘\": \"'\", \"₹\": \"e\", \"´\": \"'\", \"°\": \"\", \"€\": \"e\", \"™\": \"tm\", \"√\": \" sqrt \", \"×\": \"x\", \"²\": \"2\", \"—\": \"-\", \"–\": \"-\", \"’\": \"'\", \"_\": \"-\", \"`\": \"'\", '“': '\"', '”': '\"', '“': '\"', \"£\": \"e\", '∞': 'infinity', 'θ': 'theta', '÷': '/', 'α': 'alpha', '•': '.', 'à': 'a', '−': '-', 'β': 'beta', '∅': '', '³': '3', 'π': 'pi', }\n",
    "\n",
    "    def clean_punc(text, punct, mapping):\n",
    "        for p in mapping:\n",
    "            text = text.replace(p, mapping[p])\n",
    "        \n",
    "        for p in punct:\n",
    "            text = text.replace(p, f' {p} ')\n",
    "        \n",
    "        specials = {'\\u200b': ' ', '…': ' ... ', '\\ufeff': '', 'करना': '', 'है': ''}\n",
    "        for s in specials:\n",
    "            text = text.replace(s, specials[s])\n",
    "        \n",
    "        return text.strip()\n",
    "\n",
    "    cleaned_corpus = []\n",
    "    for sent in comment_result:\n",
    "        cleaned_corpus.append(clean_punc(sent, punct, punct_mapping))\n",
    "\n",
    "\n",
    "\n",
    "    def clean_text(texts):\n",
    "        corpus = []\n",
    "        for i in range(0, len(texts)):\n",
    "            review = re.sub(r'[@%\\\\*=()/~#&\\+á?\\xc3\\xa1\\-\\|\\.\\:\\;\\!\\-\\,\\_\\~\\$\\'\\\"]', '',str(texts[i])) #remove punctuation\n",
    "            review = re.sub(r'\\d+','', str(texts[i]))# remove number\n",
    "            review = review.lower() #lower case\n",
    "            review = re.sub(r'\\s+', ' ', review) #remove extra space\n",
    "            review = re.sub(r'<[^>]+>','',review) #remove Html tags\n",
    "            review = re.sub(r'\\s+', ' ', review) #remove spaces\n",
    "            review = re.sub(r\"^\\s+\", '', review) #remove space from start\n",
    "            review = re.sub(r'\\s+$', '', review) #remove space from the end\n",
    "            corpus.append(review)\n",
    "        return corpus\n",
    "\n",
    "    basic_preprocessed_corpus = clean_text(cleaned_corpus)\n",
    "    comment_result = pd.DataFrame(basic_preprocessed_corpus, columns=[\"comment\"])\n",
    "\n",
    "    model = fasttext.load_model('/content/drive/MyDrive/Colab Notebooks/[공유] Mulcam_Army 공유폴더!/lid.176.ftz')\n",
    "\n",
    "    predict = []\n",
    "    for t in comment_result.comment.values:\n",
    "        predict.append(model.predict(t,k=1))\n",
    "\n",
    "    ty = pd.DataFrame(predict)\n",
    "\n",
    "    comment = []\n",
    "    for num, txt in enumerate(ty[0]):\n",
    "        txt = str(txt)\n",
    "        if txt == \"('__label__ko',)\":\n",
    "            b = re.sub(txt,\"ko\",txt)\n",
    "            comment.append(b)\n",
    "        elif txt == \"('__label__en',)\":\n",
    "            b = re.sub(txt,\"en\",txt)\n",
    "            comment.append(b)\n",
    "        elif txt == \"('__label__id',)\":\n",
    "            b = re.sub(txt,\"id\",txt)\n",
    "            comment.append(b)\n",
    "        elif txt == \"('__label__es',)\":\n",
    "            b = re.sub(txt,\"es\",txt)\n",
    "            comment.append(b)\n",
    "        else:\n",
    "            b = re.sub(txt,\"etc\",txt)\n",
    "            comment.append(b)\n",
    "\n",
    "    comment = pd.DataFrame(comment)\n",
    "    print('\\n')\n",
    "    print(f'{name} 댓글 언어 구성')\n",
    "    print(comment.value_counts())\n",
    "    print('\\n')\n",
    "    pd.set_option('max_columns',50)\n",
    "    pd.set_option('max_rows',100)\n",
    "    # ty_sum.to_csv('ty_sum.csv', encoding='cp949')\n",
    "\n",
    "\n",
    "    like = pd.DataFrame(copy_data['like'])\n",
    "    data = pd.concat([comment_result,like, comment],axis=1)\n",
    "    data.columns = ['comment','like','lang']\n",
    "\n",
    "\n",
    "    path_preprocess='/content/drive/MyDrive/Colab Notebooks/[공유] Mulcam_Army 공유폴더!/크롤링 한 자료/youtube/preprocesing_comment/'\n",
    "    data.to_csv(path_preprocess+'prepro_'+comment_file,  encoding='utf-8', header=None, index=None)\n",
    "\n",
    "    print(data[:2])\n",
    "    print(f\"{name} 전처리 끝\")\n",
    "    print('\\n')\n",
    "\n",
    "    return data"
   ]
  },
  {
   "cell_type": "code",
   "execution_count": null,
   "metadata": {
    "colab": {
     "base_uri": "https://localhost:8080/"
    },
    "executionInfo": {
     "elapsed": 3,
     "status": "ok",
     "timestamp": 1633394121641,
     "user": {
      "displayName": "­안성근",
      "photoUrl": "https://lh3.googleusercontent.com/a/default-user=s64",
      "userId": "04685780130763146039"
     },
     "user_tz": -540
    },
    "id": "uRRqYp-GMDZl",
    "outputId": "68e5ad1f-4de7-46e6-ef90-879eb426c81f"
   },
   "outputs": [],
   "source": [
    "artist_name=pd.read_csv('/content/drive/MyDrive/Colab Notebooks/[공유] Mulcam_Army 공유폴더!/아티스트이름 - Sheet1.csv')\n",
    "name=artist_name['engName']\n",
    "name.dropna(inplace=True)\n",
    "name=name.reset_index(drop=True)\n",
    "name.drop([3,5,24,29,37,38,48],axis=0,inplace=True)\n",
    "name=name.reset_index(drop=True)\n",
    "name[:4]"
   ]
  },
  {
   "cell_type": "code",
   "execution_count": null,
   "metadata": {
    "colab": {
     "base_uri": "https://localhost:8080/"
    },
    "executionInfo": {
     "elapsed": 48882,
     "status": "ok",
     "timestamp": 1633394171699,
     "user": {
      "displayName": "­안성근",
      "photoUrl": "https://lh3.googleusercontent.com/a/default-user=s64",
      "userId": "04685780130763146039"
     },
     "user_tz": -540
    },
    "id": "lr1MwDHWOkXd",
    "outputId": "5b78e5f7-0b46-4cb4-ebd6-4c76bbe75691"
   },
   "outputs": [],
   "source": [
    "for i in range(len(name)):\n",
    "    preprocessing(name[i])"
   ]
  },
  {
   "cell_type": "code",
   "execution_count": null,
   "metadata": {
    "id": "ffEhJe2UOZlC"
   },
   "outputs": [],
   "source": []
  }
 ],
 "metadata": {
  "colab": {
   "authorship_tag": "ABX9TyPKDXWHMP/fxqAekMkdQxM+",
   "mount_file_id": "1jx9QTbAwKqWeS2sN7fgcHhNxEWblF11F",
   "name": "youtube_comment_preprocessing",
   "provenance": []
  },
  "kernelspec": {
   "display_name": "Python 3",
   "language": "python",
   "name": "python3"
  },
  "language_info": {
   "codemirror_mode": {
    "name": "ipython",
    "version": 3
   },
   "file_extension": ".py",
   "mimetype": "text/x-python",
   "name": "python",
   "nbconvert_exporter": "python",
   "pygments_lexer": "ipython3",
   "version": "3.7.10"
  }
 },
 "nbformat": 4,
 "nbformat_minor": 1
}
