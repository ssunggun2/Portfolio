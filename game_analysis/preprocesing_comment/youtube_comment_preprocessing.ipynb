{
 "cells": [
  {
   "cell_type": "code",
   "execution_count": 1,
   "metadata": {
    "colab": {
     "base_uri": "https://localhost:8080/"
    },
    "executionInfo": {
     "elapsed": 2586,
     "status": "ok",
     "timestamp": 1633394073774,
     "user": {
      "displayName": "­안성근",
      "photoUrl": "https://lh3.googleusercontent.com/a/default-user=s64",
      "userId": "04685780130763146039"
     },
     "user_tz": -540
    },
    "id": "xZUPb1VzBygl",
    "outputId": "cc905c7f-678d-4f07-e520-2eb7b5097233"
   },
   "outputs": [
    {
     "name": "stdout",
     "output_type": "stream",
     "text": [
      "\u001b[33mWARNING: Ignoring invalid distribution -rpcio (/home/ubuntu/anaconda3/lib/python3.7/site-packages)\u001b[0m\n",
      "\u001b[33mWARNING: Ignoring invalid distribution -eras (/home/ubuntu/anaconda3/lib/python3.7/site-packages)\u001b[0m\n",
      "\u001b[33mWARNING: Ignoring invalid distribution -eras-preprocessing (/home/ubuntu/anaconda3/lib/python3.7/site-packages)\u001b[0m\n",
      "\u001b[33mWARNING: Ignoring invalid distribution -ensorflow (/home/ubuntu/anaconda3/lib/python3.7/site-packages)\u001b[0m\n",
      "\u001b[33mWARNING: Ignoring invalid distribution -ensorflow-estimator (/home/ubuntu/anaconda3/lib/python3.7/site-packages)\u001b[0m\n",
      "\u001b[33mWARNING: Ignoring invalid distribution -rpcio (/home/ubuntu/anaconda3/lib/python3.7/site-packages)\u001b[0m\n",
      "\u001b[33mWARNING: Ignoring invalid distribution -eras (/home/ubuntu/anaconda3/lib/python3.7/site-packages)\u001b[0m\n",
      "\u001b[33mWARNING: Ignoring invalid distribution -eras-preprocessing (/home/ubuntu/anaconda3/lib/python3.7/site-packages)\u001b[0m\n",
      "\u001b[33mWARNING: Ignoring invalid distribution -ensorflow (/home/ubuntu/anaconda3/lib/python3.7/site-packages)\u001b[0m\n",
      "\u001b[33mWARNING: Ignoring invalid distribution -ensorflow-estimator (/home/ubuntu/anaconda3/lib/python3.7/site-packages)\u001b[0m\n",
      "Collecting fasttext\n",
      "  Downloading fasttext-0.9.2.tar.gz (68 kB)\n",
      "\u001b[K     |████████████████████████████████| 68 kB 1.8 MB/s eta 0:00:01\n",
      "\u001b[?25hCollecting pybind11>=2.2\n",
      "  Using cached pybind11-2.8.0-py2.py3-none-any.whl (207 kB)\n",
      "Requirement already satisfied: setuptools>=0.7.0 in /home/ubuntu/anaconda3/lib/python3.7/site-packages (from fasttext) (46.4.0.post20200518)\n",
      "Requirement already satisfied: numpy in /home/ubuntu/anaconda3/lib/python3.7/site-packages (from fasttext) (1.19.2)\n",
      "Building wheels for collected packages: fasttext\n",
      "  Building wheel for fasttext (setup.py) ... \u001b[?25ldone\n",
      "\u001b[?25h  Created wheel for fasttext: filename=fasttext-0.9.2-cp37-cp37m-linux_x86_64.whl size=3290085 sha256=c84ba2abba85d819045a712129f2df1e2c99081675d92e66095452c81a100495\n",
      "  Stored in directory: /home/lab10/.cache/pip/wheels/4e/ca/bf/b020d2be95f7641801a6597a29c8f4f19e38f9c02a345bab9b\n",
      "Successfully built fasttext\n",
      "\u001b[33mWARNING: Ignoring invalid distribution -rpcio (/home/ubuntu/anaconda3/lib/python3.7/site-packages)\u001b[0m\n",
      "\u001b[33mWARNING: Ignoring invalid distribution -eras (/home/ubuntu/anaconda3/lib/python3.7/site-packages)\u001b[0m\n",
      "\u001b[33mWARNING: Ignoring invalid distribution -eras-preprocessing (/home/ubuntu/anaconda3/lib/python3.7/site-packages)\u001b[0m\n",
      "\u001b[33mWARNING: Ignoring invalid distribution -ensorflow (/home/ubuntu/anaconda3/lib/python3.7/site-packages)\u001b[0m\n",
      "\u001b[33mWARNING: Ignoring invalid distribution -ensorflow-estimator (/home/ubuntu/anaconda3/lib/python3.7/site-packages)\u001b[0m\n",
      "Installing collected packages: pybind11, fasttext\n",
      "\u001b[33mWARNING: Ignoring invalid distribution -rpcio (/home/ubuntu/anaconda3/lib/python3.7/site-packages)\u001b[0m\n",
      "\u001b[33mWARNING: Ignoring invalid distribution -eras (/home/ubuntu/anaconda3/lib/python3.7/site-packages)\u001b[0m\n",
      "\u001b[33mWARNING: Ignoring invalid distribution -eras-preprocessing (/home/ubuntu/anaconda3/lib/python3.7/site-packages)\u001b[0m\n",
      "\u001b[33mWARNING: Ignoring invalid distribution -ensorflow (/home/ubuntu/anaconda3/lib/python3.7/site-packages)\u001b[0m\n",
      "\u001b[33mWARNING: Ignoring invalid distribution -ensorflow-estimator (/home/ubuntu/anaconda3/lib/python3.7/site-packages)\u001b[0m\n",
      "\u001b[33mWARNING: Ignoring invalid distribution -rpcio (/home/ubuntu/anaconda3/lib/python3.7/site-packages)\u001b[0m\n",
      "\u001b[33mWARNING: Ignoring invalid distribution -eras (/home/ubuntu/anaconda3/lib/python3.7/site-packages)\u001b[0m\n",
      "\u001b[33mWARNING: Ignoring invalid distribution -eras-preprocessing (/home/ubuntu/anaconda3/lib/python3.7/site-packages)\u001b[0m\n",
      "\u001b[33mWARNING: Ignoring invalid distribution -ensorflow (/home/ubuntu/anaconda3/lib/python3.7/site-packages)\u001b[0m\n",
      "\u001b[33mWARNING: Ignoring invalid distribution -ensorflow-estimator (/home/ubuntu/anaconda3/lib/python3.7/site-packages)\u001b[0m\n",
      "Successfully installed fasttext-0.9.2 pybind11-2.8.0\n",
      "\u001b[33mWARNING: Ignoring invalid distribution -rpcio (/home/ubuntu/anaconda3/lib/python3.7/site-packages)\u001b[0m\n",
      "\u001b[33mWARNING: Ignoring invalid distribution -eras (/home/ubuntu/anaconda3/lib/python3.7/site-packages)\u001b[0m\n",
      "\u001b[33mWARNING: Ignoring invalid distribution -eras-preprocessing (/home/ubuntu/anaconda3/lib/python3.7/site-packages)\u001b[0m\n",
      "\u001b[33mWARNING: Ignoring invalid distribution -ensorflow (/home/ubuntu/anaconda3/lib/python3.7/site-packages)\u001b[0m\n",
      "\u001b[33mWARNING: Ignoring invalid distribution -ensorflow-estimator (/home/ubuntu/anaconda3/lib/python3.7/site-packages)\u001b[0m\n",
      "\u001b[33mWARNING: Ignoring invalid distribution -rpcio (/home/ubuntu/anaconda3/lib/python3.7/site-packages)\u001b[0m\n",
      "\u001b[33mWARNING: Ignoring invalid distribution -eras (/home/ubuntu/anaconda3/lib/python3.7/site-packages)\u001b[0m\n",
      "\u001b[33mWARNING: Ignoring invalid distribution -eras-preprocessing (/home/ubuntu/anaconda3/lib/python3.7/site-packages)\u001b[0m\n",
      "\u001b[33mWARNING: Ignoring invalid distribution -ensorflow (/home/ubuntu/anaconda3/lib/python3.7/site-packages)\u001b[0m\n",
      "\u001b[33mWARNING: Ignoring invalid distribution -ensorflow-estimator (/home/ubuntu/anaconda3/lib/python3.7/site-packages)\u001b[0m\n"
     ]
    }
   ],
   "source": [
    "\"\"\"# 언어별 분류 작업\n",
    "- 정확도가 높은 fasttext 모듈로 분류\n",
    "\"\"\"\n",
    "!pip install fasttext\n",
    "import copy\n",
    "import fasttext\n",
    "import pandas as pd\n",
    "import re"
   ]
  },
  {
   "cell_type": "code",
   "execution_count": 18,
   "metadata": {
    "executionInfo": {
     "elapsed": 280,
     "status": "ok",
     "timestamp": 1633394121377,
     "user": {
      "displayName": "­안성근",
      "photoUrl": "https://lh3.googleusercontent.com/a/default-user=s64",
      "userId": "04685780130763146039"
     },
     "user_tz": -540
    },
    "id": "rNJ3bD3VBIU8"
   },
   "outputs": [
    {
     "data": {
      "text/html": [
       "<div>\n",
       "<style scoped>\n",
       "    .dataframe tbody tr th:only-of-type {\n",
       "        vertical-align: middle;\n",
       "    }\n",
       "\n",
       "    .dataframe tbody tr th {\n",
       "        vertical-align: top;\n",
       "    }\n",
       "\n",
       "    .dataframe thead th {\n",
       "        text-align: right;\n",
       "    }\n",
       "</style>\n",
       "<table border=\"1\" class=\"dataframe\">\n",
       "  <thead>\n",
       "    <tr style=\"text-align: right;\">\n",
       "      <th></th>\n",
       "      <th>num</th>\n",
       "      <th>title</th>\n",
       "      <th>comment</th>\n",
       "    </tr>\n",
       "  </thead>\n",
       "  <tbody>\n",
       "    <tr>\n",
       "      <th>0</th>\n",
       "      <td>NaN</td>\n",
       "      <td>title</td>\n",
       "      <td>content</td>\n",
       "    </tr>\n",
       "    <tr>\n",
       "      <th>1</th>\n",
       "      <td>0.0</td>\n",
       "      <td>DokeV - World Premiere Gameplay Trailer | game...</td>\n",
       "      <td>Do you remember the amazing longboarding scene...</td>\n",
       "    </tr>\n",
       "    <tr>\n",
       "      <th>2</th>\n",
       "      <td>1.0</td>\n",
       "      <td>DokeV - World Premiere Gameplay Trailer | game...</td>\n",
       "      <td>I've never seen a game trailer lag before.\\nIt...</td>\n",
       "    </tr>\n",
       "    <tr>\n",
       "      <th>3</th>\n",
       "      <td>2.0</td>\n",
       "      <td>DokeV - World Premiere Gameplay Trailer | game...</td>\n",
       "      <td>1:31 어떻게 해서든 저 옷을 입겠다.</td>\n",
       "    </tr>\n",
       "    <tr>\n",
       "      <th>4</th>\n",
       "      <td>3.0</td>\n",
       "      <td>DokeV - World Premiere Gameplay Trailer | game...</td>\n",
       "      <td>This trailer looks awesome, I hope my video wi...</td>\n",
       "    </tr>\n",
       "    <tr>\n",
       "      <th>5</th>\n",
       "      <td>4.0</td>\n",
       "      <td>DokeV - World Premiere Gameplay Trailer | game...</td>\n",
       "      <td>OMG !! My laptop ll Boom   \\nI m waiting for t...</td>\n",
       "    </tr>\n",
       "    <tr>\n",
       "      <th>6</th>\n",
       "      <td>5.0</td>\n",
       "      <td>DokeV - World Premiere Gameplay Trailer | game...</td>\n",
       "      <td>This looks absolutely brilliant.</td>\n",
       "    </tr>\n",
       "    <tr>\n",
       "      <th>7</th>\n",
       "      <td>6.0</td>\n",
       "      <td>DokeV - World Premiere Gameplay Trailer | game...</td>\n",
       "      <td>아마 대부분 게이머분들 생각이 저와 비슷할겁니다.\\n'한국' 게임업계에 대해 염증까...</td>\n",
       "    </tr>\n",
       "    <tr>\n",
       "      <th>8</th>\n",
       "      <td>7.0</td>\n",
       "      <td>DokeV - World Premiere Gameplay Trailer | game...</td>\n",
       "      <td>Not only for classic gamers but for those pare...</td>\n",
       "    </tr>\n",
       "    <tr>\n",
       "      <th>9</th>\n",
       "      <td>8.0</td>\n",
       "      <td>DokeV - World Premiere Gameplay Trailer | game...</td>\n",
       "      <td>선생님들 현직 보육교사입니다.. 현재 업계 관계자들이(아기들^^*) 무슨 만화냐고 ...</td>\n",
       "    </tr>\n",
       "  </tbody>\n",
       "</table>\n",
       "</div>"
      ],
      "text/plain": [
       "   num                                              title  \\\n",
       "0  NaN                                              title   \n",
       "1  0.0  DokeV - World Premiere Gameplay Trailer | game...   \n",
       "2  1.0  DokeV - World Premiere Gameplay Trailer | game...   \n",
       "3  2.0  DokeV - World Premiere Gameplay Trailer | game...   \n",
       "4  3.0  DokeV - World Premiere Gameplay Trailer | game...   \n",
       "5  4.0  DokeV - World Premiere Gameplay Trailer | game...   \n",
       "6  5.0  DokeV - World Premiere Gameplay Trailer | game...   \n",
       "7  6.0  DokeV - World Premiere Gameplay Trailer | game...   \n",
       "8  7.0  DokeV - World Premiere Gameplay Trailer | game...   \n",
       "9  8.0  DokeV - World Premiere Gameplay Trailer | game...   \n",
       "\n",
       "                                             comment  \n",
       "0                                            content  \n",
       "1  Do you remember the amazing longboarding scene...  \n",
       "2  I've never seen a game trailer lag before.\\nIt...  \n",
       "3                             1:31 어떻게 해서든 저 옷을 입겠다.  \n",
       "4  This trailer looks awesome, I hope my video wi...  \n",
       "5  OMG !! My laptop ll Boom   \\nI m waiting for t...  \n",
       "6                   This looks absolutely brilliant.  \n",
       "7  아마 대부분 게이머분들 생각이 저와 비슷할겁니다.\\n'한국' 게임업계에 대해 염증까...  \n",
       "8  Not only for classic gamers but for those pare...  \n",
       "9  선생님들 현직 보육교사입니다.. 현재 업계 관계자들이(아기들^^*) 무슨 만화냐고 ...  "
      ]
     },
     "execution_count": 18,
     "metadata": {},
     "output_type": "execute_result"
    }
   ],
   "source": [
    "path = '/home/lab10/game_analysis/'\n",
    "comment_file = f'DokeV_youtube_comment.csv'  \n",
    "df = pd.read_csv(path+comment_file, encoding='utf-8', header=None)\n",
    "df.columns=['num','title','comment']\n",
    "df[:10]"
   ]
  },
  {
   "cell_type": "code",
   "execution_count": 21,
   "metadata": {
    "executionInfo": {
     "elapsed": 280,
     "status": "ok",
     "timestamp": 1633394121377,
     "user": {
      "displayName": "­안성근",
      "photoUrl": "https://lh3.googleusercontent.com/a/default-user=s64",
      "userId": "04685780130763146039"
     },
     "user_tz": -540
    },
    "id": "rNJ3bD3VBIU8"
   },
   "outputs": [
    {
     "name": "stdout",
     "output_type": "stream",
     "text": [
      "DokeV 전처리 시작\n",
      "\n",
      "\n",
      "중복 제거 전 : (14543, 3)\n",
      "DokeV 중복 제거 후 : (14292, 3)\n",
      "\n",
      "\n"
     ]
    }
   ],
   "source": [
    "# 중복 값 제거\n",
    "print(f\"DokeV 전처리 시작\")\n",
    "print('\\n')\n",
    "print('중복 제거 전 :',df.shape)\n",
    "df = df.drop_duplicates(['comment'],keep='last',ignore_index=True)\n",
    "print(f'DokeV 중복 제거 후 :',df.shape)\n",
    "print('\\n')"
   ]
  },
  {
   "cell_type": "code",
   "execution_count": 22,
   "metadata": {
    "executionInfo": {
     "elapsed": 280,
     "status": "ok",
     "timestamp": 1633394121377,
     "user": {
      "displayName": "­안성근",
      "photoUrl": "https://lh3.googleusercontent.com/a/default-user=s64",
      "userId": "04685780130763146039"
     },
     "user_tz": -540
    },
    "id": "rNJ3bD3VBIU8"
   },
   "outputs": [],
   "source": [
    "# 소문자로 바꾸기\n",
    "df['comment'] = df['comment'].str.lower()"
   ]
  },
  {
   "cell_type": "code",
   "execution_count": 23,
   "metadata": {
    "executionInfo": {
     "elapsed": 280,
     "status": "ok",
     "timestamp": 1633394121377,
     "user": {
      "displayName": "­안성근",
      "photoUrl": "https://lh3.googleusercontent.com/a/default-user=s64",
      "userId": "04685780130763146039"
     },
     "user_tz": -540
    },
    "id": "rNJ3bD3VBIU8"
   },
   "outputs": [],
   "source": [
    "# 전처리 전 원본 보존\n",
    "copy_data = copy.deepcopy(df)\n",
    "\n",
    "emoji_pattern = re.compile(\"[\"\n",
    "        u\"\\U0001F600-\\U0001F64F\"  # emoticons\n",
    "        u\"\\U0001F300-\\U0001F5FF\"  # symbols & pictographs\n",
    "        u\"\\U0001F680-\\U0001F6FF\"  # transport & map symbols\n",
    "        u\"\\U0001F1E0-\\U0001F1FF\"  # flags (iOS)\n",
    "                        \"]+\", flags=re.UNICODE)"
   ]
  },
  {
   "cell_type": "code",
   "execution_count": 24,
   "metadata": {
    "executionInfo": {
     "elapsed": 280,
     "status": "ok",
     "timestamp": 1633394121377,
     "user": {
      "displayName": "­안성근",
      "photoUrl": "https://lh3.googleusercontent.com/a/default-user=s64",
      "userId": "04685780130763146039"
     },
     "user_tz": -540
    },
    "id": "rNJ3bD3VBIU8"
   },
   "outputs": [],
   "source": [
    "#분석에 어긋나는 불용어구 제외 (특수문자, 의성어)\n",
    "han = re.compile(r'[ㄱ-ㅎㅏ-ㅣ!?~,\".\\n\\r#\\ufeff\\u200d]')\n",
    "\n",
    "comment_result = []\n",
    "\n",
    "for i in copy_data['comment'].values:\n",
    "    tokens = re.sub(emoji_pattern,\"\",i)\n",
    "    tokens = re.sub(han,\"\",tokens)\n",
    "    comment_result.append(tokens)"
   ]
  },
  {
   "cell_type": "code",
   "execution_count": 25,
   "metadata": {
    "executionInfo": {
     "elapsed": 280,
     "status": "ok",
     "timestamp": 1633394121377,
     "user": {
      "displayName": "­안성근",
      "photoUrl": "https://lh3.googleusercontent.com/a/default-user=s64",
      "userId": "04685780130763146039"
     },
     "user_tz": -540
    },
    "id": "rNJ3bD3VBIU8"
   },
   "outputs": [],
   "source": [
    "punct = \"/-'?!.,#$%\\'()*+-/:;<=>@[\\\\]^_`{|}~\" + '\"\"“”’' + '∞θ÷α•à−β∅³π‘₹´°£€\\×™√²—–&'\n",
    "\n",
    "punct_mapping = {\"‘\": \"'\", \"₹\": \"e\", \"´\": \"'\", \"°\": \"\", \"€\": \"e\", \"™\": \"tm\", \"√\": \" sqrt \", \"×\": \"x\", \"²\": \"2\", \"—\": \"-\", \"–\": \"-\", \"’\": \"'\", \"_\": \"-\", \"`\": \"'\", '“': '\"', '”': '\"', '“': '\"', \"£\": \"e\", '∞': 'infinity', 'θ': 'theta', '÷': '/', 'α': 'alpha', '•': '.', 'à': 'a', '−': '-', 'β': 'beta', '∅': '', '³': '3', 'π': 'pi', }\n",
    "\n",
    "def clean_punc(text, punct, mapping):\n",
    "    for p in mapping:\n",
    "        text = text.replace(p, mapping[p])\n",
    "\n",
    "    for p in punct:\n",
    "        text = text.replace(p, f' {p} ')\n",
    "\n",
    "    specials = {'\\u200b': ' ', '…': ' ... ', '\\ufeff': '', 'करना': '', 'है': ''}\n",
    "    for s in specials:\n",
    "        text = text.replace(s, specials[s])\n",
    "\n",
    "    return text.strip()\n",
    "\n",
    "cleaned_corpus = []\n",
    "for sent in comment_result:\n",
    "    cleaned_corpus.append(clean_punc(sent, punct, punct_mapping))"
   ]
  },
  {
   "cell_type": "code",
   "execution_count": 26,
   "metadata": {
    "executionInfo": {
     "elapsed": 280,
     "status": "ok",
     "timestamp": 1633394121377,
     "user": {
      "displayName": "­안성근",
      "photoUrl": "https://lh3.googleusercontent.com/a/default-user=s64",
      "userId": "04685780130763146039"
     },
     "user_tz": -540
    },
    "id": "rNJ3bD3VBIU8"
   },
   "outputs": [],
   "source": [
    "def clean_text(texts):\n",
    "    corpus = []\n",
    "    for i in range(0, len(texts)):\n",
    "        review = re.sub(r'[@%\\\\*=()/~#&\\+á?\\xc3\\xa1\\-\\|\\.\\:\\;\\!\\-\\,\\_\\~\\$\\'\\\"]', '',str(texts[i])) #remove punctuation\n",
    "        review = re.sub(r'\\d+','', str(texts[i]))# remove number\n",
    "        review = review.lower() #lower case\n",
    "        review = re.sub(r'\\s+', ' ', review) #remove extra space\n",
    "        review = re.sub(r'<[^>]+>','',review) #remove Html tags\n",
    "        review = re.sub(r'\\s+', ' ', review) #remove spaces\n",
    "        review = re.sub(r\"^\\s+\", '', review) #remove space from start\n",
    "        review = re.sub(r'\\s+$', '', review) #remove space from the end\n",
    "        corpus.append(review)\n",
    "    return corpus"
   ]
  },
  {
   "cell_type": "code",
   "execution_count": 29,
   "metadata": {
    "executionInfo": {
     "elapsed": 280,
     "status": "ok",
     "timestamp": 1633394121377,
     "user": {
      "displayName": "­안성근",
      "photoUrl": "https://lh3.googleusercontent.com/a/default-user=s64",
      "userId": "04685780130763146039"
     },
     "user_tz": -540
    },
    "id": "rNJ3bD3VBIU8"
   },
   "outputs": [],
   "source": [
    "basic_preprocessed_corpus = clean_text(cleaned_corpus)\n",
    "comment_result = pd.DataFrame(basic_preprocessed_corpus, columns=[\"comment\"])"
   ]
  },
  {
   "cell_type": "code",
   "execution_count": 30,
   "metadata": {
    "executionInfo": {
     "elapsed": 280,
     "status": "ok",
     "timestamp": 1633394121377,
     "user": {
      "displayName": "­안성근",
      "photoUrl": "https://lh3.googleusercontent.com/a/default-user=s64",
      "userId": "04685780130763146039"
     },
     "user_tz": -540
    },
    "id": "rNJ3bD3VBIU8"
   },
   "outputs": [
    {
     "name": "stderr",
     "output_type": "stream",
     "text": [
      "Warning : `load_model` does not return WordVectorModel or SupervisedModel any more, but a `FastText` object which is very similar.\n"
     ]
    }
   ],
   "source": [
    "model = fasttext.load_model('/home/lab10/game_analysis/model/lid.176.ftz')"
   ]
  },
  {
   "cell_type": "code",
   "execution_count": 31,
   "metadata": {
    "executionInfo": {
     "elapsed": 280,
     "status": "ok",
     "timestamp": 1633394121377,
     "user": {
      "displayName": "­안성근",
      "photoUrl": "https://lh3.googleusercontent.com/a/default-user=s64",
      "userId": "04685780130763146039"
     },
     "user_tz": -540
    },
    "id": "rNJ3bD3VBIU8"
   },
   "outputs": [],
   "source": [
    "predict = []\n",
    "for t in comment_result.comment.values:\n",
    "    predict.append(model.predict(t,k=1))\n",
    "\n",
    "ty = pd.DataFrame(predict)"
   ]
  },
  {
   "cell_type": "code",
   "execution_count": 33,
   "metadata": {
    "executionInfo": {
     "elapsed": 280,
     "status": "ok",
     "timestamp": 1633394121377,
     "user": {
      "displayName": "­안성근",
      "photoUrl": "https://lh3.googleusercontent.com/a/default-user=s64",
      "userId": "04685780130763146039"
     },
     "user_tz": -540
    },
    "id": "rNJ3bD3VBIU8"
   },
   "outputs": [
    {
     "name": "stdout",
     "output_type": "stream",
     "text": [
      "\n",
      "\n",
      "DokeV 댓글 언어 구성\n",
      "(ko)     8843\n",
      "(en)     3910\n",
      "(etc)    1024\n",
      "(id)      344\n",
      "(es)      171\n",
      "dtype: int64\n",
      "\n",
      "\n"
     ]
    }
   ],
   "source": [
    "comment = []\n",
    "for num, txt in enumerate(ty[0]):\n",
    "    txt = str(txt)\n",
    "    if txt == \"('__label__ko',)\":\n",
    "        b = re.sub(txt,\"ko\",txt)\n",
    "        comment.append(b)\n",
    "    elif txt == \"('__label__en',)\":\n",
    "        b = re.sub(txt,\"en\",txt)\n",
    "        comment.append(b)\n",
    "    elif txt == \"('__label__id',)\":\n",
    "        b = re.sub(txt,\"id\",txt)\n",
    "        comment.append(b)\n",
    "    elif txt == \"('__label__es',)\":\n",
    "        b = re.sub(txt,\"es\",txt)\n",
    "        comment.append(b)\n",
    "    else:\n",
    "        b = re.sub(txt,\"etc\",txt)\n",
    "        comment.append(b)\n",
    "\n",
    "comment = pd.DataFrame(comment)\n",
    "print('\\n')\n",
    "print(f'DokeV 댓글 언어 구성')\n",
    "print(comment.value_counts())\n",
    "print('\\n')\n",
    "pd.set_option('max_columns',50)\n",
    "pd.set_option('max_rows',100)\n",
    "# ty_sum.to_csv('ty_sum.csv', encoding='cp949')"
   ]
  },
  {
   "cell_type": "code",
   "execution_count": 34,
   "metadata": {
    "executionInfo": {
     "elapsed": 280,
     "status": "ok",
     "timestamp": 1633394121377,
     "user": {
      "displayName": "­안성근",
      "photoUrl": "https://lh3.googleusercontent.com/a/default-user=s64",
      "userId": "04685780130763146039"
     },
     "user_tz": -540
    },
    "id": "rNJ3bD3VBIU8"
   },
   "outputs": [],
   "source": [
    "title = pd.DataFrame(copy_data['title'])\n",
    "data = pd.concat([title, comment_result, comment],axis=1)\n",
    "data.columns = ['title','comment','lang']"
   ]
  },
  {
   "cell_type": "code",
   "execution_count": 45,
   "metadata": {
    "executionInfo": {
     "elapsed": 280,
     "status": "ok",
     "timestamp": 1633394121377,
     "user": {
      "displayName": "­안성근",
      "photoUrl": "https://lh3.googleusercontent.com/a/default-user=s64",
      "userId": "04685780130763146039"
     },
     "user_tz": -540
    },
    "id": "rNJ3bD3VBIU8"
   },
   "outputs": [
    {
     "name": "stdout",
     "output_type": "stream",
     "text": [
      "DokeV 전처리 끝\n",
      "\n",
      "\n"
     ]
    }
   ],
   "source": [
    "path_preprocess='/home/lab10/game_analysis/preprocesing_comment/'\n",
    "data.to_csv(path_preprocess+'prepro_'+comment_file,  encoding='utf-8', header=None, index=None)\n",
    "data.drop([0], inplace=True)\n",
    "print(f\"DokeV 전처리 끝\")\n",
    "print('\\n')"
   ]
  },
  {
   "cell_type": "code",
   "execution_count": 47,
   "metadata": {},
   "outputs": [
    {
     "data": {
      "text/html": [
       "<div>\n",
       "<style scoped>\n",
       "    .dataframe tbody tr th:only-of-type {\n",
       "        vertical-align: middle;\n",
       "    }\n",
       "\n",
       "    .dataframe tbody tr th {\n",
       "        vertical-align: top;\n",
       "    }\n",
       "\n",
       "    .dataframe thead th {\n",
       "        text-align: right;\n",
       "    }\n",
       "</style>\n",
       "<table border=\"1\" class=\"dataframe\">\n",
       "  <thead>\n",
       "    <tr style=\"text-align: right;\">\n",
       "      <th></th>\n",
       "      <th>title</th>\n",
       "      <th>comment</th>\n",
       "      <th>lang</th>\n",
       "    </tr>\n",
       "  </thead>\n",
       "  <tbody>\n",
       "    <tr>\n",
       "      <th>1</th>\n",
       "      <td>DokeV - World Premiere Gameplay Trailer | game...</td>\n",
       "      <td>do you remember the amazing longboarding scene...</td>\n",
       "      <td>(en)</td>\n",
       "    </tr>\n",
       "    <tr>\n",
       "      <th>2</th>\n",
       "      <td>DokeV - World Premiere Gameplay Trailer | game...</td>\n",
       "      <td>i ' ve never seen a game trailer lag beforeit ...</td>\n",
       "      <td>(en)</td>\n",
       "    </tr>\n",
       "    <tr>\n",
       "      <th>3</th>\n",
       "      <td>DokeV - World Premiere Gameplay Trailer | game...</td>\n",
       "      <td>: 어떻게 해서든 저 옷을 입겠다</td>\n",
       "      <td>(ko)</td>\n",
       "    </tr>\n",
       "    <tr>\n",
       "      <th>4</th>\n",
       "      <td>DokeV - World Premiere Gameplay Trailer | game...</td>\n",
       "      <td>this trailer looks awesome i hope my video wil...</td>\n",
       "      <td>(en)</td>\n",
       "    </tr>\n",
       "    <tr>\n",
       "      <th>5</th>\n",
       "      <td>DokeV - World Premiere Gameplay Trailer | game...</td>\n",
       "      <td>omg my laptop ll boom i m waiting for this game</td>\n",
       "      <td>(en)</td>\n",
       "    </tr>\n",
       "  </tbody>\n",
       "</table>\n",
       "</div>"
      ],
      "text/plain": [
       "                                               title  \\\n",
       "1  DokeV - World Premiere Gameplay Trailer | game...   \n",
       "2  DokeV - World Premiere Gameplay Trailer | game...   \n",
       "3  DokeV - World Premiere Gameplay Trailer | game...   \n",
       "4  DokeV - World Premiere Gameplay Trailer | game...   \n",
       "5  DokeV - World Premiere Gameplay Trailer | game...   \n",
       "\n",
       "                                             comment  lang  \n",
       "1  do you remember the amazing longboarding scene...  (en)  \n",
       "2  i ' ve never seen a game trailer lag beforeit ...  (en)  \n",
       "3                                 : 어떻게 해서든 저 옷을 입겠다  (ko)  \n",
       "4  this trailer looks awesome i hope my video wil...  (en)  \n",
       "5    omg my laptop ll boom i m waiting for this game  (en)  "
      ]
     },
     "execution_count": 47,
     "metadata": {},
     "output_type": "execute_result"
    }
   ],
   "source": [
    "data.head()"
   ]
  },
  {
   "cell_type": "code",
   "execution_count": 11,
   "metadata": {
    "colab": {
     "base_uri": "https://localhost:8080/"
    },
    "executionInfo": {
     "elapsed": 3,
     "status": "ok",
     "timestamp": 1633394121641,
     "user": {
      "displayName": "­안성근",
      "photoUrl": "https://lh3.googleusercontent.com/a/default-user=s64",
      "userId": "04685780130763146039"
     },
     "user_tz": -540
    },
    "id": "uRRqYp-GMDZl",
    "outputId": "68e5ad1f-4de7-46e6-ef90-879eb426c81f"
   },
   "outputs": [],
   "source": [
    "# artist_name=pd.read_csv('/content/drive/MyDrive/Colab Notebooks/[공유] Mulcam_Army 공유폴더!/아티스트이름 - Sheet1.csv')\n",
    "# name=artist_name['engName']\n",
    "# name.dropna(inplace=True)\n",
    "# name=name.reset_index(drop=True)\n",
    "# name.drop([3,5,24,29,37,38,48],axis=0,inplace=True)\n",
    "# name=name.reset_index(drop=True)\n",
    "# name[:4]"
   ]
  },
  {
   "cell_type": "code",
   "execution_count": 12,
   "metadata": {
    "colab": {
     "base_uri": "https://localhost:8080/"
    },
    "executionInfo": {
     "elapsed": 48882,
     "status": "ok",
     "timestamp": 1633394171699,
     "user": {
      "displayName": "­안성근",
      "photoUrl": "https://lh3.googleusercontent.com/a/default-user=s64",
      "userId": "04685780130763146039"
     },
     "user_tz": -540
    },
    "id": "lr1MwDHWOkXd",
    "outputId": "5b78e5f7-0b46-4cb4-ebd6-4c76bbe75691"
   },
   "outputs": [],
   "source": [
    "# for i in range(len(name)):\n",
    "#     preprocessing(name[i])"
   ]
  },
  {
   "cell_type": "code",
   "execution_count": 49,
   "metadata": {
    "id": "ffEhJe2UOZlC"
   },
   "outputs": [],
   "source": [
    "# preprocessing('DokeV')"
   ]
  },
  {
   "cell_type": "code",
   "execution_count": null,
   "metadata": {},
   "outputs": [],
   "source": []
  }
 ],
 "metadata": {
  "colab": {
   "authorship_tag": "ABX9TyPKDXWHMP/fxqAekMkdQxM+",
   "mount_file_id": "1jx9QTbAwKqWeS2sN7fgcHhNxEWblF11F",
   "name": "youtube_comment_preprocessing",
   "provenance": []
  },
  "kernelspec": {
   "display_name": "Python 3",
   "language": "python",
   "name": "python3"
  },
  "language_info": {
   "codemirror_mode": {
    "name": "ipython",
    "version": 3
   },
   "file_extension": ".py",
   "mimetype": "text/x-python",
   "name": "python",
   "nbconvert_exporter": "python",
   "pygments_lexer": "ipython3",
   "version": "3.7.10"
  }
 },
 "nbformat": 4,
 "nbformat_minor": 1
}
